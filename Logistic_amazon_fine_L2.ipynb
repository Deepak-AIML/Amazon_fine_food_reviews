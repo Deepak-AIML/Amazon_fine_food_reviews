{
 "cells": [
  {
   "cell_type": "markdown",
   "metadata": {},
   "source": [
    "# Logistic Regression on Amazon fine food dataset"
   ]
  },
  {
   "cell_type": "markdown",
   "metadata": {},
   "source": [
    "Data Source: https://www.kaggle.com/snap/amazon-fine-food-reviews\n",
    "\n",
    "The Amazon Fine Food Reviews dataset consists of reviews of fine foods from Amazon.<br>\n",
    "\n",
    "Number of reviews: 568,454<br>\n",
    "Number of users: 256,059<br>\n",
    "Number of products: 74,258<br>\n",
    "Timespan: Oct 1999 - Oct 2012<br>\n",
    "Number of Attributes/Columns in data: 10 \n",
    "\n",
    "Attribute Information:\n",
    "\n",
    "1. Id\n",
    "2. ProductId - unique identifier for the product\n",
    "3. UserId - unqiue identifier for the user\n",
    "4. ProfileName\n",
    "5. HelpfulnessNumerator - number of users who found the review helpful\n",
    "6. HelpfulnessDenominator - number of users who indicated whether they found the review helpful or not\n",
    "7. Score - rating between 1 and 5\n",
    "8. Time - timestamp for the review\n",
    "9. Summary - brief summary of the review\n",
    "10. Text - text of the review\n",
    "\n",
    "#### Objective:\n",
    "To perform Logistic regression using L2 regularization on different vectors like BOW, Tf-idf, Avg-W2vec & Tf-idf_W2vec."
   ]
  },
  {
   "cell_type": "code",
   "execution_count": 2,
   "metadata": {},
   "outputs": [],
   "source": [
    "%matplotlib inline\n",
    "import warnings\n",
    "warnings.filterwarnings(\"ignore\")\n",
    "\n",
    "import sqlite3\n",
    "import pandas as pd\n",
    "import numpy as np\n",
    "import nltk\n",
    "import string\n",
    "import matplotlib.pyplot as plt\n",
    "import seaborn as sns\n",
    "from sklearn.feature_extraction.text import TfidfTransformer\n",
    "from sklearn.feature_extraction.text import TfidfVectorizer\n",
    "\n",
    "from sklearn.feature_extraction.text import CountVectorizer\n",
    "from sklearn.metrics import confusion_matrix\n",
    "from sklearn import metrics\n",
    "from sklearn.metrics import roc_curve, auc\n",
    "from nltk.stem.porter import PorterStemmer\n",
    "\n",
    "import re\n",
    "\n",
    "import string\n",
    "from nltk.corpus import stopwords\n",
    "from nltk.stem import PorterStemmer\n",
    "from nltk.stem.wordnet import WordNetLemmatizer\n",
    "\n",
    "from gensim.models import Word2Vec\n",
    "from gensim.models import KeyedVectors\n",
    "import pickle\n",
    "\n",
    "from tqdm import tqdm\n",
    "import os"
   ]
  },
  {
   "cell_type": "code",
   "execution_count": 3,
   "metadata": {},
   "outputs": [],
   "source": [
    "#Importing Train and test dataset\n",
    "train_data=pd.read_csv(\"E:/Applied AI assignments/Amazon_fine_train_data.csv\")\n",
    "test_data=pd.read_csv(\"E:/Applied AI assignments/Amazon_fine_test_data.csv\")"
   ]
  },
  {
   "cell_type": "code",
   "execution_count": 4,
   "metadata": {},
   "outputs": [],
   "source": [
    "train_data=train_data.astype(str)\n",
    "test_data=test_data.astype(str)"
   ]
  },
  {
   "cell_type": "code",
   "execution_count": 4,
   "metadata": {},
   "outputs": [
    {
     "data": {
      "text/plain": [
       "(80000, 13)"
      ]
     },
     "execution_count": 4,
     "metadata": {},
     "output_type": "execute_result"
    }
   ],
   "source": [
    "train_data.shape"
   ]
  },
  {
   "cell_type": "code",
   "execution_count": 6,
   "metadata": {},
   "outputs": [
    {
     "data": {
      "text/plain": [
       "positive    70407\n",
       "negative     9593\n",
       "Name: Score, dtype: int64"
      ]
     },
     "execution_count": 6,
     "metadata": {},
     "output_type": "execute_result"
    }
   ],
   "source": [
    "train_data['Score'].value_counts()"
   ]
  },
  {
   "cell_type": "code",
   "execution_count": 7,
   "metadata": {},
   "outputs": [
    {
     "data": {
      "text/plain": [
       "(20000, 13)"
      ]
     },
     "execution_count": 7,
     "metadata": {},
     "output_type": "execute_result"
    }
   ],
   "source": [
    "test_data.shape"
   ]
  },
  {
   "cell_type": "code",
   "execution_count": 8,
   "metadata": {},
   "outputs": [
    {
     "data": {
      "text/plain": [
       "positive    17322\n",
       "negative     2678\n",
       "Name: Score, dtype: int64"
      ]
     },
     "execution_count": 8,
     "metadata": {},
     "output_type": "execute_result"
    }
   ],
   "source": [
    "test_data['Score'].value_counts()"
   ]
  },
  {
   "cell_type": "code",
   "execution_count": 5,
   "metadata": {},
   "outputs": [],
   "source": [
    "#Train data\n",
    "y_train = train_data['Score']\n",
    "x_train = train_data['CleanedText']\n",
    "\n",
    "#Test data\n",
    "y_test = test_data['Score']\n",
    "x_test = test_data['CleanedText'] "
   ]
  },
  {
   "cell_type": "code",
   "execution_count": 6,
   "metadata": {},
   "outputs": [],
   "source": [
    "#Replacing Positive score with 0 and negative score with 1\n",
    "y_train.replace('negative',1,inplace=True)\n",
    "y_train.replace('positive',0,inplace=True)\n",
    "\n",
    "y_test.replace('negative',1,inplace=True)\n",
    "y_test.replace('positive',0,inplace=True)"
   ]
  },
  {
   "cell_type": "code",
   "execution_count": 88,
   "metadata": {},
   "outputs": [],
   "source": [
    "from sklearn.linear_model import LogisticRegression\n",
    "from sklearn.model_selection import RandomizedSearchCV\n",
    "from sklearn.model_selection import TimeSeriesSplit\n",
    "from sklearn.metrics import accuracy_score\n",
    "from sklearn.metrics import recall_score\n",
    "from sklearn.metrics import precision_score\n",
    "from sklearn.metrics import f1_score\n",
    "from sklearn.metrics import make_scorer\n",
    "from sklearn.metrics import confusion_matrix\n",
    "from sklearn.cross_validation import cross_val_score\n",
    "from collections import Counter\n",
    "from sklearn import cross_validation\n",
    "from wordcloud import WordCloud\n",
    "import matplotlib.pyplot as plt\n",
    "from tqdm import tqdm"
   ]
  },
  {
   "cell_type": "markdown",
   "metadata": {},
   "source": [
    "### Applying L2 regularization"
   ]
  },
  {
   "cell_type": "markdown",
   "metadata": {},
   "source": [
    "####  Randomised CV using L2"
   ]
  },
  {
   "cell_type": "code",
   "execution_count": 53,
   "metadata": {},
   "outputs": [
    {
     "name": "stdout",
     "output_type": "stream",
     "text": [
      "{'C': [1e-10, 1e-09, 1e-08, 1e-07, 1e-06, 1e-05, 0.0001, 0.001, 0.01, 0.1, 0.2, 0.3, 0.4, 0.5, 0.6, 0.7, 0.8, 0.9, 1.0, 5, 10, 15, 20, 30, 40, 50], 'class_weight': [None, 'balanced']}\n"
     ]
    }
   ],
   "source": [
    "gamma_range = [0.0000000001,0.000000001,0.00000001,0.0000001,0.000001,0.00001,0.0001,0.001,0.01,0.1,0.2,0.3,0.4,0.5,0.6,0.7,0.8,0.9,1.0,5,10,15,20,30,40,50]\n",
    "T= TimeSeriesSplit(n_splits=5)\n",
    "weight=[None,'balanced']\n",
    "\n",
    "param_distributions = dict(C=gamma_range,class_weight=weight)\n",
    "print(param_distributions)\n",
    "\n",
    "# instantiate and fit the grid\n",
    "grid = RandomizedSearchCV(LogisticRegression(penalty='l2'), param_distributions, cv=T, scoring='f1', return_train_score=False,n_jobs=-1)"
   ]
  },
  {
   "cell_type": "markdown",
   "metadata": {},
   "source": [
    "#### Binary Bow"
   ]
  },
  {
   "cell_type": "code",
   "execution_count": 9,
   "metadata": {},
   "outputs": [
    {
     "name": "stdout",
     "output_type": "stream",
     "text": [
      "the type of count vectorizer  <class 'scipy.sparse.csr.csr_matrix'>\n",
      "the shape of out text BOW vectorizer  (80000, 33433)\n",
      "the number of unique words  33433\n"
     ]
    }
   ],
   "source": [
    "count_vect = CountVectorizer(binary=True)\n",
    "\n",
    "#Train data\n",
    "vocabulary = count_vect.fit(x_train) #in scikit-learn\n",
    "Bow_x_train= count_vect.transform(x_train)\n",
    "print(\"the type of count vectorizer \",type(Bow_x_train))\n",
    "print(\"the shape of out text BOW vectorizer \",Bow_x_train.get_shape())\n",
    "print(\"the number of unique words \", Bow_x_train.get_shape()[1])"
   ]
  },
  {
   "cell_type": "code",
   "execution_count": 10,
   "metadata": {},
   "outputs": [
    {
     "name": "stdout",
     "output_type": "stream",
     "text": [
      "the type of count vectorizer  <class 'scipy.sparse.csr.csr_matrix'>\n",
      "the shape of out text BOW vectorizer  (20000, 33433)\n",
      "the number of unique words  33433\n"
     ]
    }
   ],
   "source": [
    "#Test data\n",
    "Bow_x_test = count_vect.transform(x_test)\n",
    "print(\"the type of count vectorizer \",type(Bow_x_test))\n",
    "print(\"the shape of out text BOW vectorizer \",Bow_x_test.get_shape())\n",
    "print(\"the number of unique words \", Bow_x_test.get_shape()[1])"
   ]
  },
  {
   "cell_type": "code",
   "execution_count": 11,
   "metadata": {},
   "outputs": [
    {
     "name": "stdout",
     "output_type": "stream",
     "text": [
      "(80000, 33433)\n",
      "(20000, 33433)\n"
     ]
    }
   ],
   "source": [
    "#Standardizing Bow_x_train and Bow_x_test\n",
    "from sklearn.preprocessing import StandardScaler\n",
    "Scaler=StandardScaler(with_mean=False)\n",
    "Bow_x_train = Scaler.fit_transform(Bow_x_train)\n",
    "Bow_x_test = Scaler.transform(Bow_x_test)\n",
    "\n",
    "print(Bow_x_train.shape)\n",
    "print(Bow_x_test.shape)"
   ]
  },
  {
   "cell_type": "markdown",
   "metadata": {},
   "source": [
    "#### Fitting Grid Search CV on BOW "
   ]
  },
  {
   "cell_type": "code",
   "execution_count": 12,
   "metadata": {},
   "outputs": [
    {
     "name": "stdout",
     "output_type": "stream",
     "text": [
      "0.6401387857438695\n",
      "{'class_weight': 'balanced', 'C': 0.0001}\n"
     ]
    }
   ],
   "source": [
    "grid.fit(Bow_x_train, y_train)\n",
    "\n",
    "# examine the best model\n",
    "print(grid.best_score_)\n",
    "print(grid.best_params_)"
   ]
  },
  {
   "cell_type": "code",
   "execution_count": 13,
   "metadata": {},
   "outputs": [
    {
     "data": {
      "text/plain": [
       "Text(0,0.5,'Cross-Validated Error')"
      ]
     },
     "execution_count": 13,
     "metadata": {},
     "output_type": "execute_result"
    },
    {
     "data": {
      "image/png": "[encoded data removed]",
      "text/plain": [
       "<Figure size 432x288 with 1 Axes>"
      ]
     },
     "metadata": {},
     "output_type": "display_data"
    }
   ],
   "source": [
    "#Plotting C v/s CV_error\n",
    "a=pd.DataFrame(grid.cv_results_)[['mean_test_score', 'std_test_score', 'params']]\n",
    "a['C'] = [d.get('C') for d in a['params']]\n",
    "b=a.sort_values(['C'])\n",
    "CV_Error=1-b['mean_test_score']\n",
    "C =b['C']\n",
    "\n",
    "\n",
    "plt.plot(C,CV_Error)\n",
    "plt.xlabel('C')\n",
    "plt.ylabel('Cross-Validated Error')"
   ]
  },
  {
   "cell_type": "code",
   "execution_count": 14,
   "metadata": {},
   "outputs": [
    {
     "name": "stdout",
     "output_type": "stream",
     "text": [
      "The overall f1_score for the Train Data is :  0.8089229382604777\n",
      "The overall f1_score for the Test Data is :  0.675998091299507\n"
     ]
    }
   ],
   "source": [
    "\n",
    "#{'class_weight': 'balanced', 'C': 0.0001}\n",
    "LR_optimal=LogisticRegression(penalty='l2',C=0.0001,class_weight='balanced')\n",
    "\n",
    "# fitting the model\n",
    "LR_optimal.fit(Bow_x_train, y_train)\n",
    "\n",
    "# predict the response\n",
    "pred_bow = LR_optimal.predict(Bow_x_test)\n",
    "\n",
    "# evaluate f1_score\n",
    "f1_score = f1_score(y_test, pred_bow)\n",
    "\n",
    "# Train & Test Error\n",
    "print(\"The overall f1_score for the Train Data is : \", metrics.f1_score(y_train,LR_optimal.predict(Bow_x_train)))\n",
    "print(\"The overall f1_score for the Test Data is : \", metrics.f1_score(y_test,pred_bow))"
   ]
  },
  {
   "cell_type": "markdown",
   "metadata": {},
   "source": [
    "Pertubation test"
   ]
  },
  {
   "cell_type": "code",
   "execution_count": 15,
   "metadata": {},
   "outputs": [],
   "source": [
    "# Re-training the model after adding noise\n",
    "Epsilon = np.random.normal(loc=0,scale =0.01)\n",
    "Noise_Bow_x_train=Bow_x_train\n",
    "Noise_Bow_x_train.data+=Epsilon"
   ]
  },
  {
   "cell_type": "code",
   "execution_count": 16,
   "metadata": {},
   "outputs": [
    {
     "data": {
      "text/plain": [
       "(80000, 33433)"
      ]
     },
     "execution_count": 16,
     "metadata": {},
     "output_type": "execute_result"
    }
   ],
   "source": [
    "Noise_Bow_x_train.shape"
   ]
  },
  {
   "cell_type": "code",
   "execution_count": 17,
   "metadata": {},
   "outputs": [
    {
     "name": "stdout",
     "output_type": "stream",
     "text": [
      "The overall f1_score for the Train Data is :  0.8088692595430168\n",
      "The overall f1_score for the Test Data is :  0.675998091299507\n"
     ]
    }
   ],
   "source": [
    "\n",
    "#{'class_weight': 'balanced', 'C': 0.0001}\n",
    "LR_optimal_noise=LogisticRegression(penalty='l2',C=0.0001,class_weight='balanced')\n",
    "\n",
    "# fitting the model\n",
    "LR_optimal_noise.fit(Noise_Bow_x_train, y_train)\n",
    "\n",
    "# predict the response\n",
    "pred_bow = LR_optimal_noise.predict(Bow_x_test)\n",
    "\n",
    "# evaluate f1_score\n",
    "f1_score = f1_score(y_test, pred_bow)\n",
    "\n",
    "# Train & Test Error\n",
    "print(\"The overall f1_score for the Train Data is : \", metrics.f1_score(y_train,LR_optimal.predict(Noise_Bow_x_train)))\n",
    "print(\"The overall f1_score for the Test Data is : \", metrics.f1_score(y_test,pred_bow))"
   ]
  },
  {
   "cell_type": "code",
   "execution_count": 18,
   "metadata": {},
   "outputs": [
    {
     "data": {
      "text/plain": [
       "(33433,)"
      ]
     },
     "execution_count": 18,
     "metadata": {},
     "output_type": "execute_result"
    }
   ],
   "source": [
    "#Features\n",
    "feature_names = np.array(vocabulary.get_feature_names())\n",
    "feature_names.shape"
   ]
  },
  {
   "cell_type": "code",
   "execution_count": 31,
   "metadata": {},
   "outputs": [
    {
     "data": {
      "text/plain": [
       "(1, 33433)"
      ]
     },
     "execution_count": 31,
     "metadata": {},
     "output_type": "execute_result"
    }
   ],
   "source": [
    "#Weights before adding noise\n",
    "LR_optimal.coef_.shape"
   ]
  },
  {
   "cell_type": "code",
   "execution_count": 32,
   "metadata": {},
   "outputs": [
    {
     "data": {
      "text/plain": [
       "(1, 33433)"
      ]
     },
     "execution_count": 32,
     "metadata": {},
     "output_type": "execute_result"
    }
   ],
   "source": [
    "#Weights after adding noise\n",
    "LR_optimal_noise.coef_.shape"
   ]
  },
  {
   "cell_type": "code",
   "execution_count": 37,
   "metadata": {},
   "outputs": [
    {
     "data": {
      "text/html": [
       "<div>\n",
       "<style scoped>\n",
       "    .dataframe tbody tr th:only-of-type {\n",
       "        vertical-align: middle;\n",
       "    }\n",
       "\n",
       "    .dataframe tbody tr th {\n",
       "        vertical-align: top;\n",
       "    }\n",
       "\n",
       "    .dataframe thead th {\n",
       "        text-align: right;\n",
       "    }\n",
       "</style>\n",
       "<table border=\"1\" class=\"dataframe\">\n",
       "  <thead>\n",
       "    <tr style=\"text-align: right;\">\n",
       "      <th></th>\n",
       "      <th>0</th>\n",
       "      <th>1</th>\n",
       "      <th>2</th>\n",
       "    </tr>\n",
       "  </thead>\n",
       "  <tbody>\n",
       "    <tr>\n",
       "      <th>aaa</th>\n",
       "      <td>-0.001722</td>\n",
       "      <td>-0.001722</td>\n",
       "      <td>0.002999</td>\n",
       "    </tr>\n",
       "    <tr>\n",
       "      <th>aaaaaaaaagghh</th>\n",
       "      <td>-0.002087</td>\n",
       "      <td>-0.002087</td>\n",
       "      <td>-0.012497</td>\n",
       "    </tr>\n",
       "    <tr>\n",
       "      <th>aaaaah</th>\n",
       "      <td>-0.002006</td>\n",
       "      <td>-0.002006</td>\n",
       "      <td>0.005672</td>\n",
       "    </tr>\n",
       "    <tr>\n",
       "      <th>aaaaahhhhhhhhhhhhhhhh</th>\n",
       "      <td>-0.000765</td>\n",
       "      <td>-0.000765</td>\n",
       "      <td>0.000203</td>\n",
       "    </tr>\n",
       "    <tr>\n",
       "      <th>aaaah</th>\n",
       "      <td>-0.000964</td>\n",
       "      <td>-0.000964</td>\n",
       "      <td>-0.003298</td>\n",
       "    </tr>\n",
       "    <tr>\n",
       "      <th>aaah</th>\n",
       "      <td>-0.001224</td>\n",
       "      <td>-0.001224</td>\n",
       "      <td>-0.004986</td>\n",
       "    </tr>\n",
       "    <tr>\n",
       "      <th>aachen</th>\n",
       "      <td>0.005927</td>\n",
       "      <td>0.005927</td>\n",
       "      <td>-0.008612</td>\n",
       "    </tr>\n",
       "    <tr>\n",
       "      <th>aad</th>\n",
       "      <td>-0.000364</td>\n",
       "      <td>-0.000364</td>\n",
       "      <td>-0.071263</td>\n",
       "    </tr>\n",
       "    <tr>\n",
       "      <th>aadp</th>\n",
       "      <td>-0.001017</td>\n",
       "      <td>-0.001017</td>\n",
       "      <td>-0.024636</td>\n",
       "    </tr>\n",
       "    <tr>\n",
       "      <th>aafco</th>\n",
       "      <td>-0.000879</td>\n",
       "      <td>-0.000878</td>\n",
       "      <td>-0.090446</td>\n",
       "    </tr>\n",
       "    <tr>\n",
       "      <th>aagh</th>\n",
       "      <td>-0.003549</td>\n",
       "      <td>-0.003549</td>\n",
       "      <td>-0.004424</td>\n",
       "    </tr>\n",
       "    <tr>\n",
       "      <th>aah</th>\n",
       "      <td>-0.002004</td>\n",
       "      <td>-0.002004</td>\n",
       "      <td>0.000561</td>\n",
       "    </tr>\n",
       "    <tr>\n",
       "      <th>aahh</th>\n",
       "      <td>-0.001183</td>\n",
       "      <td>-0.001182</td>\n",
       "      <td>-0.024529</td>\n",
       "    </tr>\n",
       "    <tr>\n",
       "      <th>aand</th>\n",
       "      <td>-0.001929</td>\n",
       "      <td>-0.001929</td>\n",
       "      <td>-0.005073</td>\n",
       "    </tr>\n",
       "    <tr>\n",
       "      <th>aardvark</th>\n",
       "      <td>-0.003908</td>\n",
       "      <td>-0.003909</td>\n",
       "      <td>0.014199</td>\n",
       "    </tr>\n",
       "    <tr>\n",
       "      <th>aarrgh</th>\n",
       "      <td>0.009679</td>\n",
       "      <td>0.009679</td>\n",
       "      <td>0.000378</td>\n",
       "    </tr>\n",
       "    <tr>\n",
       "      <th>ab</th>\n",
       "      <td>-0.002795</td>\n",
       "      <td>-0.002795</td>\n",
       "      <td>0.003201</td>\n",
       "    </tr>\n",
       "    <tr>\n",
       "      <th>aback</th>\n",
       "      <td>-0.006500</td>\n",
       "      <td>-0.006501</td>\n",
       "      <td>0.003168</td>\n",
       "    </tr>\n",
       "    <tr>\n",
       "      <th>abandon</th>\n",
       "      <td>0.003590</td>\n",
       "      <td>0.003590</td>\n",
       "      <td>-0.012733</td>\n",
       "    </tr>\n",
       "    <tr>\n",
       "      <th>abaolut</th>\n",
       "      <td>-0.001443</td>\n",
       "      <td>-0.001442</td>\n",
       "      <td>-0.028476</td>\n",
       "    </tr>\n",
       "    <tr>\n",
       "      <th>abattoir</th>\n",
       "      <td>-0.000879</td>\n",
       "      <td>-0.000880</td>\n",
       "      <td>0.026223</td>\n",
       "    </tr>\n",
       "    <tr>\n",
       "      <th>abba</th>\n",
       "      <td>-0.002686</td>\n",
       "      <td>-0.002686</td>\n",
       "      <td>-0.004696</td>\n",
       "    </tr>\n",
       "    <tr>\n",
       "      <th>abbey</th>\n",
       "      <td>-0.002013</td>\n",
       "      <td>-0.002013</td>\n",
       "      <td>0.001276</td>\n",
       "    </tr>\n",
       "    <tr>\n",
       "      <th>abbi</th>\n",
       "      <td>-0.003064</td>\n",
       "      <td>-0.003064</td>\n",
       "      <td>-0.006595</td>\n",
       "    </tr>\n",
       "    <tr>\n",
       "      <th>abbott</th>\n",
       "      <td>-0.000479</td>\n",
       "      <td>-0.000479</td>\n",
       "      <td>-0.044658</td>\n",
       "    </tr>\n",
       "    <tr>\n",
       "      <th>abbrevi</th>\n",
       "      <td>-0.000541</td>\n",
       "      <td>-0.000541</td>\n",
       "      <td>-0.002948</td>\n",
       "    </tr>\n",
       "    <tr>\n",
       "      <th>abc</th>\n",
       "      <td>0.000694</td>\n",
       "      <td>0.000695</td>\n",
       "      <td>0.252658</td>\n",
       "    </tr>\n",
       "    <tr>\n",
       "      <th>abcstor</th>\n",
       "      <td>-0.001687</td>\n",
       "      <td>-0.001687</td>\n",
       "      <td>0.020410</td>\n",
       "    </tr>\n",
       "    <tr>\n",
       "      <th>abd</th>\n",
       "      <td>-0.001774</td>\n",
       "      <td>-0.001774</td>\n",
       "      <td>-0.028242</td>\n",
       "    </tr>\n",
       "    <tr>\n",
       "      <th>abdomen</th>\n",
       "      <td>0.000109</td>\n",
       "      <td>0.000109</td>\n",
       "      <td>-0.001692</td>\n",
       "    </tr>\n",
       "    <tr>\n",
       "      <th>...</th>\n",
       "      <td>...</td>\n",
       "      <td>...</td>\n",
       "      <td>...</td>\n",
       "    </tr>\n",
       "    <tr>\n",
       "      <th>zot</th>\n",
       "      <td>-0.008788</td>\n",
       "      <td>-0.008788</td>\n",
       "      <td>0.005860</td>\n",
       "    </tr>\n",
       "    <tr>\n",
       "      <th>zotz</th>\n",
       "      <td>-0.004918</td>\n",
       "      <td>-0.004919</td>\n",
       "      <td>0.003821</td>\n",
       "    </tr>\n",
       "    <tr>\n",
       "      <th>zour</th>\n",
       "      <td>0.002518</td>\n",
       "      <td>0.002518</td>\n",
       "      <td>0.000398</td>\n",
       "    </tr>\n",
       "    <tr>\n",
       "      <th>zout</th>\n",
       "      <td>-0.001946</td>\n",
       "      <td>-0.001946</td>\n",
       "      <td>-0.022958</td>\n",
       "    </tr>\n",
       "    <tr>\n",
       "      <th>zowi</th>\n",
       "      <td>-0.000718</td>\n",
       "      <td>-0.000718</td>\n",
       "      <td>-0.045905</td>\n",
       "    </tr>\n",
       "    <tr>\n",
       "      <th>zreport</th>\n",
       "      <td>-0.004741</td>\n",
       "      <td>-0.004741</td>\n",
       "      <td>0.000733</td>\n",
       "    </tr>\n",
       "    <tr>\n",
       "      <th>zsweet</th>\n",
       "      <td>-0.002095</td>\n",
       "      <td>-0.002094</td>\n",
       "      <td>-0.028194</td>\n",
       "    </tr>\n",
       "    <tr>\n",
       "      <th>zuc</th>\n",
       "      <td>-0.002182</td>\n",
       "      <td>-0.002182</td>\n",
       "      <td>-0.009051</td>\n",
       "    </tr>\n",
       "    <tr>\n",
       "      <th>zucchini</th>\n",
       "      <td>0.004017</td>\n",
       "      <td>0.004017</td>\n",
       "      <td>0.002359</td>\n",
       "    </tr>\n",
       "    <tr>\n",
       "      <th>zuccini</th>\n",
       "      <td>-0.004626</td>\n",
       "      <td>-0.004625</td>\n",
       "      <td>-0.005549</td>\n",
       "    </tr>\n",
       "    <tr>\n",
       "      <th>zuccnini</th>\n",
       "      <td>-0.000321</td>\n",
       "      <td>-0.000321</td>\n",
       "      <td>-0.013392</td>\n",
       "    </tr>\n",
       "    <tr>\n",
       "      <th>zuchinni</th>\n",
       "      <td>-0.003164</td>\n",
       "      <td>-0.003164</td>\n",
       "      <td>0.001102</td>\n",
       "    </tr>\n",
       "    <tr>\n",
       "      <th>zuke</th>\n",
       "      <td>-0.001739</td>\n",
       "      <td>-0.001739</td>\n",
       "      <td>-0.015763</td>\n",
       "    </tr>\n",
       "    <tr>\n",
       "      <th>zulu</th>\n",
       "      <td>-0.001037</td>\n",
       "      <td>-0.001037</td>\n",
       "      <td>-0.007865</td>\n",
       "    </tr>\n",
       "    <tr>\n",
       "      <th>zum</th>\n",
       "      <td>-0.000321</td>\n",
       "      <td>-0.000320</td>\n",
       "      <td>-0.059621</td>\n",
       "    </tr>\n",
       "    <tr>\n",
       "      <th>zummi</th>\n",
       "      <td>-0.000321</td>\n",
       "      <td>-0.000320</td>\n",
       "      <td>-0.059621</td>\n",
       "    </tr>\n",
       "    <tr>\n",
       "      <th>zune</th>\n",
       "      <td>-0.003632</td>\n",
       "      <td>-0.003632</td>\n",
       "      <td>-0.002227</td>\n",
       "    </tr>\n",
       "    <tr>\n",
       "      <th>zupreem</th>\n",
       "      <td>-0.000610</td>\n",
       "      <td>-0.000610</td>\n",
       "      <td>-0.001370</td>\n",
       "    </tr>\n",
       "    <tr>\n",
       "      <th>zurich</th>\n",
       "      <td>-0.001767</td>\n",
       "      <td>-0.001767</td>\n",
       "      <td>-0.010648</td>\n",
       "    </tr>\n",
       "    <tr>\n",
       "      <th>zwar</th>\n",
       "      <td>-0.000111</td>\n",
       "      <td>-0.000111</td>\n",
       "      <td>0.007019</td>\n",
       "    </tr>\n",
       "    <tr>\n",
       "      <th>zwieback</th>\n",
       "      <td>0.003339</td>\n",
       "      <td>0.003340</td>\n",
       "      <td>0.018697</td>\n",
       "    </tr>\n",
       "    <tr>\n",
       "      <th>zwiebeck</th>\n",
       "      <td>-0.002276</td>\n",
       "      <td>-0.002275</td>\n",
       "      <td>-0.025352</td>\n",
       "    </tr>\n",
       "    <tr>\n",
       "      <th>zydeco</th>\n",
       "      <td>-0.001672</td>\n",
       "      <td>-0.001672</td>\n",
       "      <td>0.003113</td>\n",
       "    </tr>\n",
       "    <tr>\n",
       "      <th>zzzzzs</th>\n",
       "      <td>-0.002309</td>\n",
       "      <td>-0.002309</td>\n",
       "      <td>0.006540</td>\n",
       "    </tr>\n",
       "    <tr>\n",
       "      <th>zzzzzz</th>\n",
       "      <td>-0.000076</td>\n",
       "      <td>-0.000076</td>\n",
       "      <td>-0.063760</td>\n",
       "    </tr>\n",
       "    <tr>\n",
       "      <th>zzzzzzz</th>\n",
       "      <td>0.007196</td>\n",
       "      <td>0.007195</td>\n",
       "      <td>-0.003373</td>\n",
       "    </tr>\n",
       "    <tr>\n",
       "      <th>zzzzzzzz</th>\n",
       "      <td>-0.000630</td>\n",
       "      <td>-0.000630</td>\n",
       "      <td>0.014911</td>\n",
       "    </tr>\n",
       "    <tr>\n",
       "      <th>zzzzzzzzzz</th>\n",
       "      <td>-0.000379</td>\n",
       "      <td>-0.000379</td>\n",
       "      <td>-0.081017</td>\n",
       "    </tr>\n",
       "    <tr>\n",
       "      <th>zzzzzzzzzzz</th>\n",
       "      <td>-0.002822</td>\n",
       "      <td>-0.002822</td>\n",
       "      <td>0.004119</td>\n",
       "    </tr>\n",
       "    <tr>\n",
       "      <th>çay</th>\n",
       "      <td>-0.001229</td>\n",
       "      <td>-0.001229</td>\n",
       "      <td>-0.016318</td>\n",
       "    </tr>\n",
       "  </tbody>\n",
       "</table>\n",
       "<p>33433 rows × 3 columns</p>\n",
       "</div>"
      ],
      "text/plain": [
       "                              0         1         2\n",
       "aaa                   -0.001722 -0.001722  0.002999\n",
       "aaaaaaaaagghh         -0.002087 -0.002087 -0.012497\n",
       "aaaaah                -0.002006 -0.002006  0.005672\n",
       "aaaaahhhhhhhhhhhhhhhh -0.000765 -0.000765  0.000203\n",
       "aaaah                 -0.000964 -0.000964 -0.003298\n",
       "aaah                  -0.001224 -0.001224 -0.004986\n",
       "aachen                 0.005927  0.005927 -0.008612\n",
       "aad                   -0.000364 -0.000364 -0.071263\n",
       "aadp                  -0.001017 -0.001017 -0.024636\n",
       "aafco                 -0.000879 -0.000878 -0.090446\n",
       "aagh                  -0.003549 -0.003549 -0.004424\n",
       "aah                   -0.002004 -0.002004  0.000561\n",
       "aahh                  -0.001183 -0.001182 -0.024529\n",
       "aand                  -0.001929 -0.001929 -0.005073\n",
       "aardvark              -0.003908 -0.003909  0.014199\n",
       "aarrgh                 0.009679  0.009679  0.000378\n",
       "ab                    -0.002795 -0.002795  0.003201\n",
       "aback                 -0.006500 -0.006501  0.003168\n",
       "abandon                0.003590  0.003590 -0.012733\n",
       "abaolut               -0.001443 -0.001442 -0.028476\n",
       "abattoir              -0.000879 -0.000880  0.026223\n",
       "abba                  -0.002686 -0.002686 -0.004696\n",
       "abbey                 -0.002013 -0.002013  0.001276\n",
       "abbi                  -0.003064 -0.003064 -0.006595\n",
       "abbott                -0.000479 -0.000479 -0.044658\n",
       "abbrevi               -0.000541 -0.000541 -0.002948\n",
       "abc                    0.000694  0.000695  0.252658\n",
       "abcstor               -0.001687 -0.001687  0.020410\n",
       "abd                   -0.001774 -0.001774 -0.028242\n",
       "abdomen                0.000109  0.000109 -0.001692\n",
       "...                         ...       ...       ...\n",
       "zot                   -0.008788 -0.008788  0.005860\n",
       "zotz                  -0.004918 -0.004919  0.003821\n",
       "zour                   0.002518  0.002518  0.000398\n",
       "zout                  -0.001946 -0.001946 -0.022958\n",
       "zowi                  -0.000718 -0.000718 -0.045905\n",
       "zreport               -0.004741 -0.004741  0.000733\n",
       "zsweet                -0.002095 -0.002094 -0.028194\n",
       "zuc                   -0.002182 -0.002182 -0.009051\n",
       "zucchini               0.004017  0.004017  0.002359\n",
       "zuccini               -0.004626 -0.004625 -0.005549\n",
       "zuccnini              -0.000321 -0.000321 -0.013392\n",
       "zuchinni              -0.003164 -0.003164  0.001102\n",
       "zuke                  -0.001739 -0.001739 -0.015763\n",
       "zulu                  -0.001037 -0.001037 -0.007865\n",
       "zum                   -0.000321 -0.000320 -0.059621\n",
       "zummi                 -0.000321 -0.000320 -0.059621\n",
       "zune                  -0.003632 -0.003632 -0.002227\n",
       "zupreem               -0.000610 -0.000610 -0.001370\n",
       "zurich                -0.001767 -0.001767 -0.010648\n",
       "zwar                  -0.000111 -0.000111  0.007019\n",
       "zwieback               0.003339  0.003340  0.018697\n",
       "zwiebeck              -0.002276 -0.002275 -0.025352\n",
       "zydeco                -0.001672 -0.001672  0.003113\n",
       "zzzzzs                -0.002309 -0.002309  0.006540\n",
       "zzzzzz                -0.000076 -0.000076 -0.063760\n",
       "zzzzzzz                0.007196  0.007195 -0.003373\n",
       "zzzzzzzz              -0.000630 -0.000630  0.014911\n",
       "zzzzzzzzzz            -0.000379 -0.000379 -0.081017\n",
       "zzzzzzzzzzz           -0.002822 -0.002822  0.004119\n",
       "çay                   -0.001229 -0.001229 -0.016318\n",
       "\n",
       "[33433 rows x 3 columns]"
      ]
     },
     "execution_count": 37,
     "metadata": {},
     "output_type": "execute_result"
    }
   ],
   "source": [
    "merge_arr = np.concatenate([LR_optimal.coef_, LR_optimal_noise.coef_], axis=0)\n",
    "merge=pd.DataFrame(data=merge_arr,columns=feature_names).transpose()\n",
    "merge[2]=((merge[1]-merge[0])/merge[0])*100\n",
    "merge"
   ]
  },
  {
   "cell_type": "code",
   "execution_count": 38,
   "metadata": {},
   "outputs": [
    {
     "data": {
      "text/plain": [
       "(3, 3)"
      ]
     },
     "execution_count": 38,
     "metadata": {},
     "output_type": "execute_result"
    }
   ],
   "source": [
    "merge[merge[2]>30].shape"
   ]
  },
  {
   "cell_type": "markdown",
   "metadata": {},
   "source": [
    "3 features out of 33433 shows percentage change > 30 post pertubation test i.e 0.0089%\n",
    "\n",
    "We can say that our data isn't much affected by multicollinearity"
   ]
  },
  {
   "cell_type": "code",
   "execution_count": 40,
   "metadata": {},
   "outputs": [],
   "source": [
    "feature_names = np.array(vocabulary.get_feature_names())\n",
    "sorted_coef_index = LR_optimal.coef_[0].argsort()"
   ]
  },
  {
   "cell_type": "code",
   "execution_count": 41,
   "metadata": {},
   "outputs": [
    {
     "name": "stdout",
     "output_type": "stream",
     "text": [
      "great,love,best,delici,perfect,excel,good,favorit,nice,wonder,find,tasti,easi,amaz,thank,addict,alway,keep,year,snack,\n"
     ]
    }
   ],
   "source": [
    "#Top 20 positive features\n",
    "p=feature_names[sorted_coef_index[:20]]\n",
    "\n",
    "sp = \"\"\n",
    "for i in p:\n",
    "    sp += str(i)+\",\"\n",
    "print(sp)"
   ]
  },
  {
   "cell_type": "code",
   "execution_count": 42,
   "metadata": {},
   "outputs": [
    {
     "name": "stdout",
     "output_type": "stream",
     "text": [
      "disappoint,worst,terribl,thought,bad,aw,horribl,bland,unfortun,stale,would,money,return,wast,threw,didnt,mayb,weak,sorri,hope,\n"
     ]
    }
   ],
   "source": [
    "n=feature_names[sorted_coef_index[:-21:-1]]\n",
    "\n",
    "sn = \"\"\n",
    "for i in n:\n",
    "    sn += str(i)+\",\"\n",
    "print(sn)"
   ]
  },
  {
   "cell_type": "code",
   "execution_count": 43,
   "metadata": {},
   "outputs": [
    {
     "name": "stdout",
     "output_type": "stream",
     "text": [
      "************ Top 20 Negative words *******************\n"
     ]
    },
    {
     "data": {
      "image/png": "[encoded data removed]",
      "text/plain": [
       "<Figure size 360x360 with 1 Axes>"
      ]
     },
     "metadata": {},
     "output_type": "display_data"
    },
    {
     "name": "stdout",
     "output_type": "stream",
     "text": [
      "************ Top 20 Positive words *******************\n"
     ]
    },
    {
     "data": {
      "image/png": "[encoded data removed]",
      "text/plain": [
       "<Figure size 360x360 with 1 Axes>"
      ]
     },
     "metadata": {},
     "output_type": "display_data"
    }
   ],
   "source": [
    "print(\"************ Top 20 Negative words *******************\")\n",
    "wordcloud = WordCloud(width = 800, height = 800, \n",
    "                background_color ='black', \n",
    "                min_font_size = 10).generate(sn) \n",
    "  \n",
    "# plot the WordCloud image                        \n",
    "plt.figure(figsize = (5,5), facecolor = None) \n",
    "plt.imshow(wordcloud) \n",
    "plt.axis(\"off\") \n",
    "plt.tight_layout(pad = 0) \n",
    "plt.show()\n",
    "\n",
    "\n",
    "print(\"************ Top 20 Positive words *******************\")\n",
    "wordcloud = WordCloud(width = 800, height = 800, \n",
    "                background_color ='black', \n",
    "                min_font_size = 10).generate(sp) \n",
    "  \n",
    "# plot the WordCloud image                        \n",
    "plt.figure(figsize = (5,5), facecolor = None) \n",
    "plt.imshow(wordcloud) \n",
    "plt.axis(\"off\") \n",
    "plt.tight_layout(pad = 0) \n",
    "plt.show()"
   ]
  },
  {
   "cell_type": "code",
   "execution_count": 44,
   "metadata": {},
   "outputs": [],
   "source": [
    "#Confusion matrix\n",
    "C = confusion_matrix(y_test, pred_bow)\n",
    "A =(((C.T)/(C.sum(axis=1))).T)\n",
    "B =(C/C.sum(axis=0))\n",
    "labels = [0,1]"
   ]
  },
  {
   "cell_type": "code",
   "execution_count": 45,
   "metadata": {},
   "outputs": [
    {
     "name": "stdout",
     "output_type": "stream",
     "text": [
      "-------------------- Confusion matrix --------------------\n"
     ]
    },
    {
     "data": {
      "image/png": "[encoded data removed]",
      "text/plain": [
       "<Figure size 864x504 with 2 Axes>"
      ]
     },
     "metadata": {},
     "output_type": "display_data"
    },
    {
     "name": "stdout",
     "output_type": "stream",
     "text": [
      "-------------------- Precision matrix (Columm Sum=1) --------------------\n"
     ]
    },
    {
     "data": {
      "image/png": "[encoded data removed]",
      "text/plain": [
       "<Figure size 864x504 with 2 Axes>"
      ]
     },
     "metadata": {},
     "output_type": "display_data"
    },
    {
     "name": "stdout",
     "output_type": "stream",
     "text": [
      "-------------------- Recall matrix (Row sum=1) --------------------\n"
     ]
    },
    {
     "data": {
      "image/png": "[encoded data removed]",
      "text/plain": [
       "<Figure size 864x504 with 2 Axes>"
      ]
     },
     "metadata": {},
     "output_type": "display_data"
    }
   ],
   "source": [
    " print(\"-\"*20, \"Confusion matrix\", \"-\"*20)\n",
    "plt.figure(figsize=(12,7))\n",
    "sns.heatmap(C, annot=True, cmap=\"YlGnBu\", fmt=\"g\", xticklabels=labels, yticklabels=labels)\n",
    "plt.xlabel('Predicted Class')\n",
    "plt.ylabel('Original Class')\n",
    "plt.show()\n",
    "\n",
    "print(\"-\"*20, \"Precision matrix (Columm Sum=1)\", \"-\"*20)\n",
    "plt.figure(figsize=(12,7))\n",
    "sns.heatmap(B, annot=True, cmap=\"YlGnBu\", fmt=\".3f\", xticklabels=labels, yticklabels=labels)\n",
    " plt.xlabel('Predicted Class')\n",
    "plt.ylabel('Original Class')\n",
    "plt.show()\n",
    "    \n",
    "    # representing B in heatmap format\n",
    "print(\"-\"*20, \"Recall matrix (Row sum=1)\", \"-\"*20)\n",
    "plt.figure(figsize=(12,7))\n",
    "sns.heatmap(A, annot=True, cmap=\"YlGnBu\", fmt=\".3f\", xticklabels=labels, yticklabels=labels)\n",
    "plt.xlabel('Predicted Class')\n",
    "plt.ylabel('Original Class')\n",
    "plt.show()"
   ]
  },
  {
   "cell_type": "markdown",
   "metadata": {},
   "source": [
    "#### Tf-idf "
   ]
  },
  {
   "cell_type": "code",
   "execution_count": 47,
   "metadata": {},
   "outputs": [
    {
     "name": "stdout",
     "output_type": "stream",
     "text": [
      "the type of count vectorizer  <class 'scipy.sparse.csr.csr_matrix'>\n",
      "the shape of out text BOW vectorizer  (80000, 1013943)\n",
      "the number of unique words  1013943\n"
     ]
    }
   ],
   "source": [
    "#Initiating Vectorizer\n",
    "count_vect = TfidfVectorizer(ngram_range=(1,2))\n",
    "\n",
    "#Train data\n",
    "vocabulary = count_vect.fit(x_train)\n",
    "Tfidf_x_train= count_vect.transform(x_train)\n",
    "print(\"the type of count vectorizer \",type(Tfidf_x_train))\n",
    "print(\"the shape of out text BOW vectorizer \",Tfidf_x_train.get_shape())\n",
    "print(\"the number of unique words \", Tfidf_x_train.get_shape()[1])"
   ]
  },
  {
   "cell_type": "code",
   "execution_count": 48,
   "metadata": {},
   "outputs": [
    {
     "name": "stdout",
     "output_type": "stream",
     "text": [
      "the type of count vectorizer  <class 'scipy.sparse.csr.csr_matrix'>\n",
      "the shape of out text BOW vectorizer  (20000, 1013943)\n",
      "the number of unique words  1013943\n"
     ]
    }
   ],
   "source": [
    "#Test data\n",
    "Tfidf_x_test= count_vect.transform(x_test)\n",
    "print(\"the type of count vectorizer \",type(Tfidf_x_test))\n",
    "print(\"the shape of out text BOW vectorizer \",Tfidf_x_test.get_shape())\n",
    "print(\"the number of unique words \", Tfidf_x_test.get_shape()[1])"
   ]
  },
  {
   "cell_type": "code",
   "execution_count": 49,
   "metadata": {},
   "outputs": [
    {
     "name": "stdout",
     "output_type": "stream",
     "text": [
      "(80000, 1013943)\n",
      "(20000, 1013943)\n"
     ]
    }
   ],
   "source": [
    "#Standardizing \n",
    "from sklearn.preprocessing import StandardScaler\n",
    "Standard=StandardScaler(with_mean=False)\n",
    "Tfidf_x_train = Standard.fit_transform(Tfidf_x_train)\n",
    "Tfidf_x_test = Standard.transform(Tfidf_x_test)\n",
    "\n",
    "print(Tfidf_x_train.shape)\n",
    "print(Tfidf_x_test.shape)"
   ]
  },
  {
   "cell_type": "markdown",
   "metadata": {},
   "source": [
    "##### Fitting Randomsearch on Tf-Idf"
   ]
  },
  {
   "cell_type": "code",
   "execution_count": 55,
   "metadata": {},
   "outputs": [
    {
     "name": "stdout",
     "output_type": "stream",
     "text": [
      "0.5390181835332085\n",
      "{'class_weight': 'balanced', 'C': 1e-07}\n"
     ]
    }
   ],
   "source": [
    "grid.fit(Tfidf_x_train, y_train)\n",
    "\n",
    "# examine the best model\n",
    "print(grid.best_score_)\n",
    "print(grid.best_params_)"
   ]
  },
  {
   "cell_type": "code",
   "execution_count": 56,
   "metadata": {},
   "outputs": [
    {
     "data": {
      "text/plain": [
       "Text(0,0.5,'Cross-Validated Error')"
      ]
     },
     "execution_count": 56,
     "metadata": {},
     "output_type": "execute_result"
    },
    {
     "data": {
      "image/png": "[encoded data removed]",
      "text/plain": [
       "<Figure size 432x288 with 1 Axes>"
      ]
     },
     "metadata": {},
     "output_type": "display_data"
    }
   ],
   "source": [
    "#Plotting C v/s CV_error\n",
    "a=pd.DataFrame(grid.cv_results_)[['mean_test_score', 'std_test_score', 'params']]\n",
    "a['C'] = [d.get('C') for d in a['params']]\n",
    "b=a.sort_values(['C'])\n",
    "CV_Error=1-b['mean_test_score']\n",
    "C =b['C']\n",
    "\n",
    "\n",
    "plt.plot(C,CV_Error)\n",
    "plt.xlabel('C')\n",
    "plt.ylabel('Cross-Validated Error')"
   ]
  },
  {
   "cell_type": "code",
   "execution_count": 57,
   "metadata": {},
   "outputs": [
    {
     "name": "stdout",
     "output_type": "stream",
     "text": [
      "The overall f1_score for the Train Data is :  0.9030708364732479\n",
      "The overall f1_score for the Test Data is :  0.5339728217426059\n"
     ]
    }
   ],
   "source": [
    "\n",
    "#{'class_weight': 'balanced', 'C': 1e-07}\n",
    "LR_optimal=LogisticRegression(penalty='l2',C=0.0000001,class_weight='balanced')\n",
    "\n",
    "# fitting the model\n",
    "LR_optimal.fit(Tfidf_x_train, y_train)\n",
    "\n",
    "# predict the response\n",
    "pred_tfidf = LR_optimal.predict(Tfidf_x_test)\n",
    "\n",
    "# evaluate accuracy\n",
    "f1_score = f1_score(y_test, pred_tfidf)\n",
    "\n",
    "# Train & Test Error\n",
    "print(\"The overall f1_score for the Train Data is : \", metrics.f1_score(y_train,LR_optimal.predict(Tfidf_x_train)))\n",
    "print(\"The overall f1_score for the Test Data is : \", metrics.f1_score(y_test,pred_tfidf))"
   ]
  },
  {
   "cell_type": "markdown",
   "metadata": {},
   "source": [
    "Pertubation test"
   ]
  },
  {
   "cell_type": "code",
   "execution_count": 58,
   "metadata": {},
   "outputs": [],
   "source": [
    "# Re-training the model after adding noise\n",
    "Epsilon = np.random.normal(loc=0,scale =0.01)\n",
    "Noise_Tfidf_x_train=Tfidf_x_train\n",
    "Noise_Tfidf_x_train.data+=Epsilon"
   ]
  },
  {
   "cell_type": "code",
   "execution_count": 59,
   "metadata": {},
   "outputs": [
    {
     "name": "stdout",
     "output_type": "stream",
     "text": [
      "The overall f1_score for the Train Data is :  0.9030283049969386\n",
      "The overall f1_score for the Test Data is :  0.5340948029697316\n"
     ]
    }
   ],
   "source": [
    "\n",
    "#{'class_weight': 'balanced', 'C': 1e-07}\n",
    "LR_optimal_noise=LogisticRegression(penalty='l2',C=0.0000001,class_weight='balanced')\n",
    "\n",
    "# fitting the model\n",
    "LR_optimal_noise.fit(Noise_Tfidf_x_train, y_train)\n",
    "\n",
    "# predict the response\n",
    "pred_tfidf = LR_optimal_noise.predict(Tfidf_x_test)\n",
    "\n",
    "# evaluate accuracy\n",
    "f1_score = f1_score(y_test, pred_tfidf)\n",
    "\n",
    "# Train & Test Error\n",
    "print(\"The overall f1_score for the Train Data is : \", metrics.f1_score(y_train,LR_optimal_noise.predict(Noise_Tfidf_x_train)))\n",
    "print(\"The overall f1_score for the Test Data is : \", metrics.f1_score(y_test,pred_tfidf))"
   ]
  },
  {
   "cell_type": "code",
   "execution_count": 60,
   "metadata": {},
   "outputs": [
    {
     "data": {
      "text/plain": [
       "(1013943,)"
      ]
     },
     "execution_count": 60,
     "metadata": {},
     "output_type": "execute_result"
    }
   ],
   "source": [
    "#Features\n",
    "feature_names = np.array(vocabulary.get_feature_names())\n",
    "feature_names.shape"
   ]
  },
  {
   "cell_type": "code",
   "execution_count": 61,
   "metadata": {},
   "outputs": [
    {
     "data": {
      "text/plain": [
       "(1, 1013943)"
      ]
     },
     "execution_count": 61,
     "metadata": {},
     "output_type": "execute_result"
    }
   ],
   "source": [
    "LR_optimal.coef_.shape"
   ]
  },
  {
   "cell_type": "code",
   "execution_count": 62,
   "metadata": {},
   "outputs": [
    {
     "data": {
      "text/plain": [
       "(1, 1013943)"
      ]
     },
     "execution_count": 62,
     "metadata": {},
     "output_type": "execute_result"
    }
   ],
   "source": [
    "LR_optimal_noise.coef_.shape"
   ]
  },
  {
   "cell_type": "code",
   "execution_count": 64,
   "metadata": {},
   "outputs": [
    {
     "data": {
      "text/html": [
       "<div>\n",
       "<style scoped>\n",
       "    .dataframe tbody tr th:only-of-type {\n",
       "        vertical-align: middle;\n",
       "    }\n",
       "\n",
       "    .dataframe tbody tr th {\n",
       "        vertical-align: top;\n",
       "    }\n",
       "\n",
       "    .dataframe thead th {\n",
       "        text-align: right;\n",
       "    }\n",
       "</style>\n",
       "<table border=\"1\" class=\"dataframe\">\n",
       "  <thead>\n",
       "    <tr style=\"text-align: right;\">\n",
       "      <th></th>\n",
       "      <th>0</th>\n",
       "      <th>1</th>\n",
       "      <th>2</th>\n",
       "    </tr>\n",
       "  </thead>\n",
       "  <tbody>\n",
       "    <tr>\n",
       "      <th>aaa</th>\n",
       "      <td>-0.000010</td>\n",
       "      <td>-0.000010</td>\n",
       "      <td>0.003393</td>\n",
       "    </tr>\n",
       "    <tr>\n",
       "      <th>aaa condit</th>\n",
       "      <td>-0.000008</td>\n",
       "      <td>-0.000008</td>\n",
       "      <td>0.002404</td>\n",
       "    </tr>\n",
       "    <tr>\n",
       "      <th>aaa perfect</th>\n",
       "      <td>-0.000008</td>\n",
       "      <td>-0.000008</td>\n",
       "      <td>0.000782</td>\n",
       "    </tr>\n",
       "    <tr>\n",
       "      <th>aaaaaaaaagghh</th>\n",
       "      <td>-0.000008</td>\n",
       "      <td>-0.000008</td>\n",
       "      <td>0.000995</td>\n",
       "    </tr>\n",
       "    <tr>\n",
       "      <th>aaaaah</th>\n",
       "      <td>-0.000011</td>\n",
       "      <td>-0.000011</td>\n",
       "      <td>0.002724</td>\n",
       "    </tr>\n",
       "    <tr>\n",
       "      <th>aaaaah awak</th>\n",
       "      <td>-0.000008</td>\n",
       "      <td>-0.000008</td>\n",
       "      <td>0.000999</td>\n",
       "    </tr>\n",
       "    <tr>\n",
       "      <th>aaaaah satisfi</th>\n",
       "      <td>-0.000008</td>\n",
       "      <td>-0.000008</td>\n",
       "      <td>0.002002</td>\n",
       "    </tr>\n",
       "    <tr>\n",
       "      <th>aaaaahhhhhhhhhhhhhhhh</th>\n",
       "      <td>-0.000008</td>\n",
       "      <td>-0.000008</td>\n",
       "      <td>0.001810</td>\n",
       "    </tr>\n",
       "    <tr>\n",
       "      <th>aaaaahhhhhhhhhhhhhhhh angel</th>\n",
       "      <td>-0.000008</td>\n",
       "      <td>-0.000008</td>\n",
       "      <td>0.001810</td>\n",
       "    </tr>\n",
       "    <tr>\n",
       "      <th>aaaah</th>\n",
       "      <td>-0.000007</td>\n",
       "      <td>-0.000007</td>\n",
       "      <td>-0.000594</td>\n",
       "    </tr>\n",
       "    <tr>\n",
       "      <th>aaaah snob</th>\n",
       "      <td>-0.000007</td>\n",
       "      <td>-0.000007</td>\n",
       "      <td>-0.000594</td>\n",
       "    </tr>\n",
       "    <tr>\n",
       "      <th>aaah</th>\n",
       "      <td>-0.000013</td>\n",
       "      <td>-0.000013</td>\n",
       "      <td>0.002666</td>\n",
       "    </tr>\n",
       "    <tr>\n",
       "      <th>aaah inhal</th>\n",
       "      <td>-0.000008</td>\n",
       "      <td>-0.000008</td>\n",
       "      <td>0.000134</td>\n",
       "    </tr>\n",
       "    <tr>\n",
       "      <th>aaah miss</th>\n",
       "      <td>-0.000008</td>\n",
       "      <td>-0.000008</td>\n",
       "      <td>0.000481</td>\n",
       "    </tr>\n",
       "    <tr>\n",
       "      <th>aaah sip</th>\n",
       "      <td>-0.000008</td>\n",
       "      <td>-0.000008</td>\n",
       "      <td>0.000763</td>\n",
       "    </tr>\n",
       "    <tr>\n",
       "      <th>aachen</th>\n",
       "      <td>0.000045</td>\n",
       "      <td>0.000045</td>\n",
       "      <td>0.000334</td>\n",
       "    </tr>\n",
       "    <tr>\n",
       "      <th>aachen munich</th>\n",
       "      <td>0.000045</td>\n",
       "      <td>0.000045</td>\n",
       "      <td>0.000334</td>\n",
       "    </tr>\n",
       "    <tr>\n",
       "      <th>aad</th>\n",
       "      <td>-0.000008</td>\n",
       "      <td>-0.000008</td>\n",
       "      <td>-0.001176</td>\n",
       "    </tr>\n",
       "    <tr>\n",
       "      <th>aad sausag</th>\n",
       "      <td>-0.000008</td>\n",
       "      <td>-0.000008</td>\n",
       "      <td>-0.001176</td>\n",
       "    </tr>\n",
       "    <tr>\n",
       "      <th>aadp</th>\n",
       "      <td>-0.000008</td>\n",
       "      <td>-0.000008</td>\n",
       "      <td>0.000288</td>\n",
       "    </tr>\n",
       "    <tr>\n",
       "      <th>aafco</th>\n",
       "      <td>0.000002</td>\n",
       "      <td>0.000002</td>\n",
       "      <td>0.041650</td>\n",
       "    </tr>\n",
       "    <tr>\n",
       "      <th>aafco also</th>\n",
       "      <td>-0.000007</td>\n",
       "      <td>-0.000007</td>\n",
       "      <td>-0.002049</td>\n",
       "    </tr>\n",
       "    <tr>\n",
       "      <th>aafco certifi</th>\n",
       "      <td>0.000018</td>\n",
       "      <td>0.000018</td>\n",
       "      <td>0.001439</td>\n",
       "    </tr>\n",
       "    <tr>\n",
       "      <th>aafco countri</th>\n",
       "      <td>-0.000007</td>\n",
       "      <td>-0.000007</td>\n",
       "      <td>-0.002049</td>\n",
       "    </tr>\n",
       "    <tr>\n",
       "      <th>aafco definit</th>\n",
       "      <td>0.000042</td>\n",
       "      <td>0.000042</td>\n",
       "      <td>0.001049</td>\n",
       "    </tr>\n",
       "    <tr>\n",
       "      <th>aafco dog</th>\n",
       "      <td>-0.000008</td>\n",
       "      <td>-0.000008</td>\n",
       "      <td>0.000260</td>\n",
       "    </tr>\n",
       "    <tr>\n",
       "      <th>aafco guidelin</th>\n",
       "      <td>-0.000008</td>\n",
       "      <td>-0.000008</td>\n",
       "      <td>-0.000410</td>\n",
       "    </tr>\n",
       "    <tr>\n",
       "      <th>aafco requir</th>\n",
       "      <td>-0.000008</td>\n",
       "      <td>-0.000008</td>\n",
       "      <td>0.001271</td>\n",
       "    </tr>\n",
       "    <tr>\n",
       "      <th>aagh</th>\n",
       "      <td>-0.000008</td>\n",
       "      <td>-0.000008</td>\n",
       "      <td>0.002790</td>\n",
       "    </tr>\n",
       "    <tr>\n",
       "      <th>aagh yelp</th>\n",
       "      <td>-0.000008</td>\n",
       "      <td>-0.000008</td>\n",
       "      <td>0.002790</td>\n",
       "    </tr>\n",
       "    <tr>\n",
       "      <th>...</th>\n",
       "      <td>...</td>\n",
       "      <td>...</td>\n",
       "      <td>...</td>\n",
       "    </tr>\n",
       "    <tr>\n",
       "      <th>zum heal</th>\n",
       "      <td>-0.000008</td>\n",
       "      <td>-0.000008</td>\n",
       "      <td>0.000441</td>\n",
       "    </tr>\n",
       "    <tr>\n",
       "      <th>zummi</th>\n",
       "      <td>-0.000008</td>\n",
       "      <td>-0.000008</td>\n",
       "      <td>0.000441</td>\n",
       "    </tr>\n",
       "    <tr>\n",
       "      <th>zummi love</th>\n",
       "      <td>-0.000008</td>\n",
       "      <td>-0.000008</td>\n",
       "      <td>0.000441</td>\n",
       "    </tr>\n",
       "    <tr>\n",
       "      <th>zummi tast</th>\n",
       "      <td>-0.000008</td>\n",
       "      <td>-0.000008</td>\n",
       "      <td>0.000441</td>\n",
       "    </tr>\n",
       "    <tr>\n",
       "      <th>zummi tri</th>\n",
       "      <td>-0.000008</td>\n",
       "      <td>-0.000008</td>\n",
       "      <td>0.000441</td>\n",
       "    </tr>\n",
       "    <tr>\n",
       "      <th>zune</th>\n",
       "      <td>-0.000008</td>\n",
       "      <td>-0.000008</td>\n",
       "      <td>0.002882</td>\n",
       "    </tr>\n",
       "    <tr>\n",
       "      <th>zune video</th>\n",
       "      <td>-0.000008</td>\n",
       "      <td>-0.000008</td>\n",
       "      <td>0.002882</td>\n",
       "    </tr>\n",
       "    <tr>\n",
       "      <th>zupreem</th>\n",
       "      <td>-0.000008</td>\n",
       "      <td>-0.000008</td>\n",
       "      <td>0.000569</td>\n",
       "    </tr>\n",
       "    <tr>\n",
       "      <th>zupreem ferret</th>\n",
       "      <td>-0.000008</td>\n",
       "      <td>-0.000008</td>\n",
       "      <td>0.000569</td>\n",
       "    </tr>\n",
       "    <tr>\n",
       "      <th>zurich</th>\n",
       "      <td>-0.000008</td>\n",
       "      <td>-0.000008</td>\n",
       "      <td>0.001963</td>\n",
       "    </tr>\n",
       "    <tr>\n",
       "      <th>zurich schnatzlet</th>\n",
       "      <td>-0.000008</td>\n",
       "      <td>-0.000008</td>\n",
       "      <td>0.001963</td>\n",
       "    </tr>\n",
       "    <tr>\n",
       "      <th>zwar</th>\n",
       "      <td>-0.000007</td>\n",
       "      <td>-0.000007</td>\n",
       "      <td>0.002107</td>\n",
       "    </tr>\n",
       "    <tr>\n",
       "      <th>zwar billig</th>\n",
       "      <td>-0.000007</td>\n",
       "      <td>-0.000007</td>\n",
       "      <td>0.002107</td>\n",
       "    </tr>\n",
       "    <tr>\n",
       "      <th>zwieback</th>\n",
       "      <td>0.000022</td>\n",
       "      <td>0.000022</td>\n",
       "      <td>0.004092</td>\n",
       "    </tr>\n",
       "    <tr>\n",
       "      <th>zwieback toast</th>\n",
       "      <td>0.000022</td>\n",
       "      <td>0.000022</td>\n",
       "      <td>0.004092</td>\n",
       "    </tr>\n",
       "    <tr>\n",
       "      <th>zwiebeck</th>\n",
       "      <td>-0.000008</td>\n",
       "      <td>-0.000008</td>\n",
       "      <td>0.001889</td>\n",
       "    </tr>\n",
       "    <tr>\n",
       "      <th>zwiebeck toast</th>\n",
       "      <td>-0.000008</td>\n",
       "      <td>-0.000008</td>\n",
       "      <td>0.001889</td>\n",
       "    </tr>\n",
       "    <tr>\n",
       "      <th>zydeco</th>\n",
       "      <td>-0.000008</td>\n",
       "      <td>-0.000008</td>\n",
       "      <td>0.001634</td>\n",
       "    </tr>\n",
       "    <tr>\n",
       "      <th>zydeco saturday</th>\n",
       "      <td>-0.000008</td>\n",
       "      <td>-0.000008</td>\n",
       "      <td>0.001634</td>\n",
       "    </tr>\n",
       "    <tr>\n",
       "      <th>zzzzzs</th>\n",
       "      <td>-0.000011</td>\n",
       "      <td>-0.000011</td>\n",
       "      <td>0.002403</td>\n",
       "    </tr>\n",
       "    <tr>\n",
       "      <th>zzzzzs larg</th>\n",
       "      <td>-0.000008</td>\n",
       "      <td>-0.000008</td>\n",
       "      <td>0.002258</td>\n",
       "    </tr>\n",
       "    <tr>\n",
       "      <th>zzzzzz</th>\n",
       "      <td>-0.000007</td>\n",
       "      <td>-0.000007</td>\n",
       "      <td>-0.001191</td>\n",
       "    </tr>\n",
       "    <tr>\n",
       "      <th>zzzzzz say</th>\n",
       "      <td>-0.000007</td>\n",
       "      <td>-0.000007</td>\n",
       "      <td>-0.001191</td>\n",
       "    </tr>\n",
       "    <tr>\n",
       "      <th>zzzzzzz</th>\n",
       "      <td>0.000053</td>\n",
       "      <td>0.000053</td>\n",
       "      <td>0.001704</td>\n",
       "    </tr>\n",
       "    <tr>\n",
       "      <th>zzzzzzz high</th>\n",
       "      <td>0.000053</td>\n",
       "      <td>0.000053</td>\n",
       "      <td>0.001704</td>\n",
       "    </tr>\n",
       "    <tr>\n",
       "      <th>zzzzzzzz</th>\n",
       "      <td>-0.000007</td>\n",
       "      <td>-0.000007</td>\n",
       "      <td>0.002698</td>\n",
       "    </tr>\n",
       "    <tr>\n",
       "      <th>zzzzzzzzzz</th>\n",
       "      <td>-0.000008</td>\n",
       "      <td>-0.000008</td>\n",
       "      <td>-0.000450</td>\n",
       "    </tr>\n",
       "    <tr>\n",
       "      <th>zzzzzzzzzz final</th>\n",
       "      <td>-0.000008</td>\n",
       "      <td>-0.000008</td>\n",
       "      <td>-0.000450</td>\n",
       "    </tr>\n",
       "    <tr>\n",
       "      <th>zzzzzzzzzzz</th>\n",
       "      <td>-0.000008</td>\n",
       "      <td>-0.000008</td>\n",
       "      <td>0.001947</td>\n",
       "    </tr>\n",
       "    <tr>\n",
       "      <th>çay</th>\n",
       "      <td>-0.000008</td>\n",
       "      <td>-0.000008</td>\n",
       "      <td>0.000097</td>\n",
       "    </tr>\n",
       "  </tbody>\n",
       "</table>\n",
       "<p>1013943 rows × 3 columns</p>\n",
       "</div>"
      ],
      "text/plain": [
       "                                    0         1         2\n",
       "aaa                         -0.000010 -0.000010  0.003393\n",
       "aaa condit                  -0.000008 -0.000008  0.002404\n",
       "aaa perfect                 -0.000008 -0.000008  0.000782\n",
       "aaaaaaaaagghh               -0.000008 -0.000008  0.000995\n",
       "aaaaah                      -0.000011 -0.000011  0.002724\n",
       "aaaaah awak                 -0.000008 -0.000008  0.000999\n",
       "aaaaah satisfi              -0.000008 -0.000008  0.002002\n",
       "aaaaahhhhhhhhhhhhhhhh       -0.000008 -0.000008  0.001810\n",
       "aaaaahhhhhhhhhhhhhhhh angel -0.000008 -0.000008  0.001810\n",
       "aaaah                       -0.000007 -0.000007 -0.000594\n",
       "aaaah snob                  -0.000007 -0.000007 -0.000594\n",
       "aaah                        -0.000013 -0.000013  0.002666\n",
       "aaah inhal                  -0.000008 -0.000008  0.000134\n",
       "aaah miss                   -0.000008 -0.000008  0.000481\n",
       "aaah sip                    -0.000008 -0.000008  0.000763\n",
       "aachen                       0.000045  0.000045  0.000334\n",
       "aachen munich                0.000045  0.000045  0.000334\n",
       "aad                         -0.000008 -0.000008 -0.001176\n",
       "aad sausag                  -0.000008 -0.000008 -0.001176\n",
       "aadp                        -0.000008 -0.000008  0.000288\n",
       "aafco                        0.000002  0.000002  0.041650\n",
       "aafco also                  -0.000007 -0.000007 -0.002049\n",
       "aafco certifi                0.000018  0.000018  0.001439\n",
       "aafco countri               -0.000007 -0.000007 -0.002049\n",
       "aafco definit                0.000042  0.000042  0.001049\n",
       "aafco dog                   -0.000008 -0.000008  0.000260\n",
       "aafco guidelin              -0.000008 -0.000008 -0.000410\n",
       "aafco requir                -0.000008 -0.000008  0.001271\n",
       "aagh                        -0.000008 -0.000008  0.002790\n",
       "aagh yelp                   -0.000008 -0.000008  0.002790\n",
       "...                               ...       ...       ...\n",
       "zum heal                    -0.000008 -0.000008  0.000441\n",
       "zummi                       -0.000008 -0.000008  0.000441\n",
       "zummi love                  -0.000008 -0.000008  0.000441\n",
       "zummi tast                  -0.000008 -0.000008  0.000441\n",
       "zummi tri                   -0.000008 -0.000008  0.000441\n",
       "zune                        -0.000008 -0.000008  0.002882\n",
       "zune video                  -0.000008 -0.000008  0.002882\n",
       "zupreem                     -0.000008 -0.000008  0.000569\n",
       "zupreem ferret              -0.000008 -0.000008  0.000569\n",
       "zurich                      -0.000008 -0.000008  0.001963\n",
       "zurich schnatzlet           -0.000008 -0.000008  0.001963\n",
       "zwar                        -0.000007 -0.000007  0.002107\n",
       "zwar billig                 -0.000007 -0.000007  0.002107\n",
       "zwieback                     0.000022  0.000022  0.004092\n",
       "zwieback toast               0.000022  0.000022  0.004092\n",
       "zwiebeck                    -0.000008 -0.000008  0.001889\n",
       "zwiebeck toast              -0.000008 -0.000008  0.001889\n",
       "zydeco                      -0.000008 -0.000008  0.001634\n",
       "zydeco saturday             -0.000008 -0.000008  0.001634\n",
       "zzzzzs                      -0.000011 -0.000011  0.002403\n",
       "zzzzzs larg                 -0.000008 -0.000008  0.002258\n",
       "zzzzzz                      -0.000007 -0.000007 -0.001191\n",
       "zzzzzz say                  -0.000007 -0.000007 -0.001191\n",
       "zzzzzzz                      0.000053  0.000053  0.001704\n",
       "zzzzzzz high                 0.000053  0.000053  0.001704\n",
       "zzzzzzzz                    -0.000007 -0.000007  0.002698\n",
       "zzzzzzzzzz                  -0.000008 -0.000008 -0.000450\n",
       "zzzzzzzzzz final            -0.000008 -0.000008 -0.000450\n",
       "zzzzzzzzzzz                 -0.000008 -0.000008  0.001947\n",
       "çay                         -0.000008 -0.000008  0.000097\n",
       "\n",
       "[1013943 rows x 3 columns]"
      ]
     },
     "execution_count": 64,
     "metadata": {},
     "output_type": "execute_result"
    }
   ],
   "source": [
    "merge_arr = np.concatenate([LR_optimal.coef_, LR_optimal_noise.coef_], axis=0)\n",
    "merge=pd.DataFrame(data=merge_arr,columns=feature_names).transpose()\n",
    "merge[2]=((merge[1]-merge[0])/merge[0])*100\n",
    "merge"
   ]
  },
  {
   "cell_type": "code",
   "execution_count": 65,
   "metadata": {},
   "outputs": [
    {
     "data": {
      "text/plain": [
       "(1, 3)"
      ]
     },
     "execution_count": 65,
     "metadata": {},
     "output_type": "execute_result"
    }
   ],
   "source": [
    "merge[merge[2]>30].shape"
   ]
  },
  {
   "cell_type": "markdown",
   "metadata": {},
   "source": [
    "1 features out of 1013943 shows percentage change > 30 post pertubation test i.e 0%\n",
    "\n",
    "We can say that our data isn't affected by multicollinearity"
   ]
  },
  {
   "cell_type": "code",
   "execution_count": 67,
   "metadata": {},
   "outputs": [],
   "source": [
    "feature_names = np.array(vocabulary.get_feature_names())\n",
    "sorted_coef_index = LR_optimal.coef_[0].argsort()"
   ]
  },
  {
   "cell_type": "code",
   "execution_count": 68,
   "metadata": {},
   "outputs": [
    {
     "name": "stdout",
     "output_type": "stream",
     "text": [
      "great,love,best,delici,perfect,favorit,good,find,make,high recommend,easi,excel,wonder,nice,use,snack,alway,keep,add,tasti,\n"
     ]
    }
   ],
   "source": [
    "#Top 20 positive features\n",
    "p=feature_names[sorted_coef_index[:20]]\n",
    "\n",
    "sp = \"\"\n",
    "for i in p:\n",
    "    sp += str(i)+\",\"\n",
    "print(sp)"
   ]
  },
  {
   "cell_type": "code",
   "execution_count": 69,
   "metadata": {},
   "outputs": [
    {
     "name": "stdout",
     "output_type": "stream",
     "text": [
      "disappoint,wast money,worst,wast,aw,horribl,terribl,return,threw,money,bad,refund,stale,wont buy,thought,mayb,didnt,dont wast,away,wors,\n"
     ]
    }
   ],
   "source": [
    "n=feature_names[sorted_coef_index[:-21:-1]]\n",
    "\n",
    "sn = \"\"\n",
    "for i in n:\n",
    "    sn += str(i)+\",\"\n",
    "print(sn)"
   ]
  },
  {
   "cell_type": "code",
   "execution_count": 70,
   "metadata": {},
   "outputs": [
    {
     "name": "stdout",
     "output_type": "stream",
     "text": [
      "************ Top 20 Negative words *******************\n"
     ]
    },
    {
     "data": {
      "image/png": "[encoded data removed]",
      "text/plain": [
       "<Figure size 360x360 with 1 Axes>"
      ]
     },
     "metadata": {},
     "output_type": "display_data"
    },
    {
     "name": "stdout",
     "output_type": "stream",
     "text": [
      "************ Top 20 Positive words *******************\n"
     ]
    },
    {
     "data": {
      "image/png": "[encoded data removed]",
      "text/plain": [
       "<Figure size 360x360 with 1 Axes>"
      ]
     },
     "metadata": {},
     "output_type": "display_data"
    }
   ],
   "source": [
    "print(\"************ Top 20 Negative words *******************\")\n",
    "wordcloud = WordCloud(width = 800, height = 800, \n",
    "                background_color ='black', \n",
    "                min_font_size = 10).generate(sn) \n",
    "  \n",
    "# plot the WordCloud image                        \n",
    "plt.figure(figsize = (5,5), facecolor = None) \n",
    "plt.imshow(wordcloud) \n",
    "plt.axis(\"off\") \n",
    "plt.tight_layout(pad = 0) \n",
    "plt.show()\n",
    "\n",
    "\n",
    "print(\"************ Top 20 Positive words *******************\")\n",
    "wordcloud = WordCloud(width = 800, height = 800, \n",
    "                background_color ='black', \n",
    "                min_font_size = 10).generate(sp) \n",
    "  \n",
    "# plot the WordCloud image                        \n",
    "plt.figure(figsize = (5,5), facecolor = None) \n",
    "plt.imshow(wordcloud) \n",
    "plt.axis(\"off\") \n",
    "plt.tight_layout(pad = 0) \n",
    "plt.show()"
   ]
  },
  {
   "cell_type": "code",
   "execution_count": 71,
   "metadata": {},
   "outputs": [],
   "source": [
    "#Confusion matrix\n",
    "C = confusion_matrix(y_test, pred_tfidf)\n",
    "A =(((C.T)/(C.sum(axis=1))).T)\n",
    "B =(C/C.sum(axis=0))\n",
    "labels = [0,1]"
   ]
  },
  {
   "cell_type": "code",
   "execution_count": 72,
   "metadata": {},
   "outputs": [
    {
     "name": "stdout",
     "output_type": "stream",
     "text": [
      "-------------------- Confusion matrix --------------------\n"
     ]
    },
    {
     "data": {
      "image/png": "[encoded data removed]",
      "text/plain": [
       "<Figure size 864x504 with 2 Axes>"
      ]
     },
     "metadata": {},
     "output_type": "display_data"
    },
    {
     "name": "stdout",
     "output_type": "stream",
     "text": [
      "-------------------- Precision matrix (Columm Sum=1) --------------------\n"
     ]
    },
    {
     "data": {
      "image/png": "[encoded data removed]",
      "text/plain": [
       "<Figure size 864x504 with 2 Axes>"
      ]
     },
     "metadata": {},
     "output_type": "display_data"
    },
    {
     "name": "stdout",
     "output_type": "stream",
     "text": [
      "-------------------- Recall matrix (Row sum=1) --------------------\n"
     ]
    },
    {
     "data": {
      "image/png": "[encoded data removed]",
      "text/plain": [
       "<Figure size 864x504 with 2 Axes>"
      ]
     },
     "metadata": {},
     "output_type": "display_data"
    }
   ],
   "source": [
    " print(\"-\"*20, \"Confusion matrix\", \"-\"*20)\n",
    "plt.figure(figsize=(12,7))\n",
    "sns.heatmap(C, annot=True, cmap=\"YlGnBu\", fmt=\"g\", xticklabels=labels, yticklabels=labels)\n",
    "plt.xlabel('Predicted Class')\n",
    "plt.ylabel('Original Class')\n",
    "plt.show()\n",
    "\n",
    "print(\"-\"*20, \"Precision matrix (Columm Sum=1)\", \"-\"*20)\n",
    "plt.figure(figsize=(12,7))\n",
    "sns.heatmap(B, annot=True, cmap=\"YlGnBu\", fmt=\".3f\", xticklabels=labels, yticklabels=labels)\n",
    " plt.xlabel('Predicted Class')\n",
    "plt.ylabel('Original Class')\n",
    "plt.show()\n",
    "    \n",
    "    # representing B in heatmap format\n",
    "print(\"-\"*20, \"Recall matrix (Row sum=1)\", \"-\"*20)\n",
    "plt.figure(figsize=(12,7))\n",
    "sns.heatmap(A, annot=True, cmap=\"YlGnBu\", fmt=\".3f\", xticklabels=labels, yticklabels=labels)\n",
    "plt.xlabel('Predicted Class')\n",
    "plt.ylabel('Original Class')\n",
    "plt.show()"
   ]
  },
  {
   "cell_type": "markdown",
   "metadata": {},
   "source": [
    "#### Avg-W2Vec"
   ]
  },
  {
   "cell_type": "code",
   "execution_count": 99,
   "metadata": {},
   "outputs": [],
   "source": [
    "#W2V list of Training data\n",
    "i=0\n",
    "list_of_sent_train=[]\n",
    "for sent in train_data['CleanedText'].values:\n",
    "    list_of_sent_train.append(sent.split())"
   ]
  },
  {
   "cell_type": "code",
   "execution_count": 100,
   "metadata": {},
   "outputs": [],
   "source": [
    "#W2V List of Test data\n",
    "i=0\n",
    "list_of_sent_test=[]\n",
    "for sent in test_data['CleanedText'].values:\n",
    "    list_of_sent_test.append(sent.split())"
   ]
  },
  {
   "cell_type": "code",
   "execution_count": 101,
   "metadata": {},
   "outputs": [],
   "source": [
    "#Training W2V train model\n",
    "# min_count = 5 considers only words that occured atleast 5 times\n",
    "w2v_model_train=Word2Vec(list_of_sent_train,min_count=5,size=50, workers=6)"
   ]
  },
  {
   "cell_type": "code",
   "execution_count": 102,
   "metadata": {},
   "outputs": [
    {
     "name": "stdout",
     "output_type": "stream",
     "text": [
      "number of words that occured minimum 5 times  11361\n",
      "sample words  ['witti', 'littl', 'book', 'make', 'son', 'laugh', 'loud', 'car', 'drive', 'along', 'alway', 'sing', 'refrain', 'hes', 'learn', 'whale', 'india', 'droop', 'love', 'new', 'word', 'introduc', 'silli', 'classic', 'will', 'bet', 'still', 'abl', 'memori', 'colleg', 'rememb', 'see', 'show', 'air', 'televis', 'year', 'ago', 'child', 'sister', 'later', 'bought', 'day', 'thirti', 'someth', 'use', 'seri', 'song', 'student', 'teach', 'preschool']\n"
     ]
    }
   ],
   "source": [
    "w2v_words_train = list(w2v_model_train.wv.vocab)\n",
    "print(\"number of words that occured minimum 5 times \",len(w2v_words_train))\n",
    "print(\"sample words \", w2v_words_train[0:50])"
   ]
  },
  {
   "cell_type": "code",
   "execution_count": 103,
   "metadata": {},
   "outputs": [
    {
     "name": "stdout",
     "output_type": "stream",
     "text": [
      "80000\n",
      "50\n"
     ]
    }
   ],
   "source": [
    "#Train data\n",
    "# average Word2Vec\n",
    "# compute average word2vec for each review.\n",
    "sent_vectors_train_avgw2v = []; # the avg-w2v for each sentence/review is stored in this list\n",
    "for sent in list_of_sent_train: # for each review/sentence\n",
    "    sent_vec = np.zeros(50) # as word vectors are of zero length\n",
    "    cnt_words =0; # num of words with a valid vector in the sentence/review\n",
    "    for word in sent: # for each word in a review/sentence\n",
    "        if word in w2v_words_train:\n",
    "            vec = w2v_model_train.wv[word]\n",
    "            sent_vec += vec\n",
    "            cnt_words += 1\n",
    "    if cnt_words != 0:\n",
    "        sent_vec /= cnt_words\n",
    "    sent_vectors_train_avgw2v.append(sent_vec)\n",
    "print(len(sent_vectors_train_avgw2v))\n",
    "print(len(sent_vectors_train_avgw2v[0]))"
   ]
  },
  {
   "cell_type": "code",
   "execution_count": 104,
   "metadata": {},
   "outputs": [
    {
     "name": "stdout",
     "output_type": "stream",
     "text": [
      "20000\n",
      "50\n"
     ]
    }
   ],
   "source": [
    "#Test data\n",
    "# average Word2Vec\n",
    "# compute average word2vec for each review.\n",
    "sent_vectors_test_avgw2v = []; # the avg-w2v for each sentence/review is stored in this list\n",
    "for sent in list_of_sent_test: # for each review/sentence\n",
    "    sent_vec = np.zeros(50) # as word vectors are of zero length\n",
    "    cnt_words =0; # num of words with a valid vector in the sentence/review\n",
    "    for word in sent: # for each word in a review/sentence\n",
    "        if word in w2v_words_train:\n",
    "            vec = w2v_model_train.wv[word]\n",
    "            sent_vec += vec\n",
    "            cnt_words += 1\n",
    "    if cnt_words != 0:\n",
    "        sent_vec /= cnt_words\n",
    "    sent_vectors_test_avgw2v.append(sent_vec)\n",
    "print(len(sent_vectors_test_avgw2v))\n",
    "print(len(sent_vectors_test_avgw2v[0]))"
   ]
  },
  {
   "cell_type": "code",
   "execution_count": 105,
   "metadata": {},
   "outputs": [
    {
     "name": "stdout",
     "output_type": "stream",
     "text": [
      "(80000, 50)\n",
      "(20000, 50)\n"
     ]
    }
   ],
   "source": [
    "#Standardizing Avg-W2v\n",
    "from sklearn.preprocessing import StandardScaler\n",
    "\n",
    "Standard=StandardScaler()\n",
    "sent_vectors_train_avgw2v = Standard.fit_transform(sent_vectors_train_avgw2v)\n",
    "sent_vectors_test_avgw2v = Standard.transform(sent_vectors_test_avgw2v)\n",
    "\n",
    "print(sent_vectors_train_avgw2v.shape)\n",
    "print(sent_vectors_test_avgw2v.shape)"
   ]
  },
  {
   "cell_type": "markdown",
   "metadata": {},
   "source": [
    "#### Fitting grid search on Avg-W2V"
   ]
  },
  {
   "cell_type": "code",
   "execution_count": 83,
   "metadata": {},
   "outputs": [
    {
     "name": "stdout",
     "output_type": "stream",
     "text": [
      "0.5134126417862019\n",
      "{'class_weight': 'balanced', 'C': 50}\n"
     ]
    }
   ],
   "source": [
    "grid.fit(sent_vectors_train_avgw2v, y_train)\n",
    "\n",
    "# examine the best model\n",
    "print(grid.best_score_)\n",
    "print(grid.best_params_)"
   ]
  },
  {
   "cell_type": "code",
   "execution_count": 84,
   "metadata": {},
   "outputs": [
    {
     "data": {
      "text/plain": [
       "Text(0,0.5,'Cross-Validated Error')"
      ]
     },
     "execution_count": 84,
     "metadata": {},
     "output_type": "execute_result"
    },
    {
     "data": {
      "image/png": "[encoded data removed]",
      "text/plain": [
       "<Figure size 432x288 with 1 Axes>"
      ]
     },
     "metadata": {},
     "output_type": "display_data"
    }
   ],
   "source": [
    "#Plotting C v/s CV_error\n",
    "a=pd.DataFrame(grid.cv_results_)[['mean_test_score', 'std_test_score', 'params']]\n",
    "a['C'] = [d.get('C') for d in a['params']]\n",
    "b=a.sort_values(['C'])\n",
    "CV_Error=1-b['mean_test_score']\n",
    "C =b['C']\n",
    "\n",
    "\n",
    "plt.plot(C,CV_Error)\n",
    "plt.xlabel('C')\n",
    "plt.ylabel('Cross-Validated Error')"
   ]
  },
  {
   "cell_type": "code",
   "execution_count": 107,
   "metadata": {},
   "outputs": [
    {
     "name": "stdout",
     "output_type": "stream",
     "text": [
      "The overall f1_score for the Train Data is :  0.5152863591253961\n",
      "The overall f1_score for the Test Data is :  0.535966149506347\n"
     ]
    }
   ],
   "source": [
    "\n",
    "#{'class_weight': 'balanced', 'C': 50}\n",
    "LR_optimal=LogisticRegression(penalty='l2',C=50,class_weight='balanced')\n",
    "\n",
    "# fitting the model\n",
    "LR_optimal.fit(sent_vectors_train_avgw2v, y_train)\n",
    "\n",
    "# predict the response\n",
    "pred_avg_w2v = LR_optimal.predict(sent_vectors_test_avgw2v)\n",
    "\n",
    "# evaluate f1_score\n",
    "f1_score = f1_score(y_test, pred_avg_w2v)\n",
    "\n",
    "# Train & Test Error\n",
    "print(\"The overall f1_score for the Train Data is : \", metrics.f1_score(y_train,LR_optimal.predict(sent_vectors_train_avgw2v)))\n",
    "print(\"The overall f1_score for the Test Data is : \", metrics.f1_score(y_test,pred_avg_w2v))"
   ]
  },
  {
   "cell_type": "code",
   "execution_count": 108,
   "metadata": {},
   "outputs": [],
   "source": [
    "#Confusion matrix\n",
    "C = confusion_matrix(y_test, pred_avg_w2v)\n",
    "A =(((C.T)/(C.sum(axis=1))).T)\n",
    "B =(C/C.sum(axis=0))\n",
    "labels = [0,1]"
   ]
  },
  {
   "cell_type": "code",
   "execution_count": 109,
   "metadata": {},
   "outputs": [
    {
     "name": "stdout",
     "output_type": "stream",
     "text": [
      "-------------------- Confusion matrix --------------------\n"
     ]
    },
    {
     "data": {
      "image/png": "[encoded data removed]",
      "text/plain": [
       "<Figure size 864x504 with 2 Axes>"
      ]
     },
     "metadata": {},
     "output_type": "display_data"
    },
    {
     "name": "stdout",
     "output_type": "stream",
     "text": [
      "-------------------- Precision matrix (Columm Sum=1) --------------------\n"
     ]
    },
    {
     "data": {
      "image/png": "[encoded data removed]",
      "text/plain": [
       "<Figure size 864x504 with 2 Axes>"
      ]
     },
     "metadata": {},
     "output_type": "display_data"
    },
    {
     "name": "stdout",
     "output_type": "stream",
     "text": [
      "-------------------- Recall matrix (Row sum=1) --------------------\n"
     ]
    },
    {
     "data": {
      "image/png": "[encoded data removed]",
      "text/plain": [
       "<Figure size 864x504 with 2 Axes>"
      ]
     },
     "metadata": {},
     "output_type": "display_data"
    }
   ],
   "source": [
    " print(\"-\"*20, \"Confusion matrix\", \"-\"*20)\n",
    "plt.figure(figsize=(12,7))\n",
    "sns.heatmap(C, annot=True, cmap=\"YlGnBu\", fmt=\"g\", xticklabels=labels, yticklabels=labels)\n",
    "plt.xlabel('Predicted Class')\n",
    "plt.ylabel('Original Class')\n",
    "plt.show()\n",
    "\n",
    "print(\"-\"*20, \"Precision matrix (Columm Sum=1)\", \"-\"*20)\n",
    "plt.figure(figsize=(12,7))\n",
    "sns.heatmap(B, annot=True, cmap=\"YlGnBu\", fmt=\".3f\", xticklabels=labels, yticklabels=labels)\n",
    " plt.xlabel('Predicted Class')\n",
    "plt.ylabel('Original Class')\n",
    "plt.show()\n",
    "    \n",
    "    # representing B in heatmap format\n",
    "print(\"-\"*20, \"Recall matrix (Row sum=1)\", \"-\"*20)\n",
    "plt.figure(figsize=(12,7))\n",
    "sns.heatmap(A, annot=True, cmap=\"YlGnBu\", fmt=\".3f\", xticklabels=labels, yticklabels=labels)\n",
    "plt.xlabel('Predicted Class')\n",
    "plt.ylabel('Original Class')\n",
    "plt.show()"
   ]
  },
  {
   "cell_type": "markdown",
   "metadata": {},
   "source": [
    "#### TF-Idf W2Vec "
   ]
  },
  {
   "cell_type": "code",
   "execution_count": 89,
   "metadata": {},
   "outputs": [],
   "source": [
    "tf_idf_vect = TfidfVectorizer()\n",
    "vocabulary = tf_idf_vect.fit(train_data['CleanedText'])\n",
    "final_tf_idf= tf_idf_vect.transform(train_data['CleanedText'])\n",
    "\n",
    "# we are converting a dictionary with word as a key, and the idf as a value\n",
    "dictionary = dict(zip(vocabulary.get_feature_names(), list(tf_idf_vect.idf_)))"
   ]
  },
  {
   "cell_type": "code",
   "execution_count": 90,
   "metadata": {},
   "outputs": [
    {
     "name": "stderr",
     "output_type": "stream",
     "text": [
      "100%|██████████████████████████████████████████████████████████████████████████| 80000/80000 [01:11<00:00, 1113.33it/s]\n"
     ]
    }
   ],
   "source": [
    "# TF-IDF weighted Word2Vec\n",
    "tfidf_feat = tf_idf_vect.get_feature_names() # tfidf words/col-names\n",
    "# final_tf_idf is the sparse matrix with row= sentence, col=word and cell_val = tfidf\n",
    "\n",
    "tfidf_w2v_sent_vectors_train = []; # the tfidf-w2v for each sentence/review is stored in this list\n",
    "row=0;\n",
    "for sent in tqdm(list_of_sent_train): # for each review/sentence \n",
    "    sent_vec = np.zeros(50) # as word vectors are of zero length\n",
    "    weight_sum =0; # num of words with a valid vector in the sentence/review\n",
    "    for word in sent: # for each word in a review/sentence\n",
    "        if word in w2v_words_train:\n",
    "            vec = w2v_model_train.wv[word]\n",
    "#             tf_idf = tf_idf_matrix[row, tfidf_feat.index(word)]\n",
    "            # to reduce the computation we are \n",
    "            # dictionary[word] = idf value of word in whole courpus\n",
    "            # sent.count(word) = tf valeus of word in this review\n",
    "            tf_idf = dictionary[word]*(sent.count(word)/len(sent))\n",
    "            sent_vec += (vec * tf_idf)\n",
    "            weight_sum += tf_idf\n",
    "    if weight_sum != 0:\n",
    "        sent_vec /= weight_sum\n",
    "    tfidf_w2v_sent_vectors_train.append(sent_vec)\n",
    "    row += 1"
   ]
  },
  {
   "cell_type": "code",
   "execution_count": 91,
   "metadata": {},
   "outputs": [
    {
     "name": "stderr",
     "output_type": "stream",
     "text": [
      "100%|██████████████████████████████████████████████████████████████████████████| 20000/20000 [00:18<00:00, 1080.47it/s]\n"
     ]
    }
   ],
   "source": [
    "final_tf_idf= tf_idf_vect.transform(test_data['CleanedText'])\n",
    "\n",
    "tfidf_w2v_sent_vectors_test = []; # the tfidf-w2v for each sentence/review is stored in this list\n",
    "row=0;\n",
    "for sent in tqdm(list_of_sent_test): # for each review/sentence \n",
    "    sent_vec = np.zeros(50) # as word vectors are of zero length\n",
    "    weight_sum =0; # num of words with a valid vector in the sentence/review\n",
    "    for word in sent: # for each word in a review/sentence\n",
    "        if word in w2v_words_train:\n",
    "            vec = w2v_model_train.wv[word]\n",
    "            # obtain the tf_idfidf of a word in a sentence/review\n",
    "            tf_idf = dictionary[word]*(sent.count(word)/len(sent))\n",
    "            sent_vec += (vec * tf_idf)\n",
    "            weight_sum += tf_idf\n",
    "    if weight_sum != 0:\n",
    "        sent_vec /= weight_sum\n",
    "    tfidf_w2v_sent_vectors_test.append(sent_vec)\n",
    "    row += 1"
   ]
  },
  {
   "cell_type": "code",
   "execution_count": 92,
   "metadata": {},
   "outputs": [
    {
     "name": "stdout",
     "output_type": "stream",
     "text": [
      "(80000, 50)\n",
      "(20000, 50)\n"
     ]
    }
   ],
   "source": [
    "#Standardizing\n",
    "from sklearn.preprocessing import StandardScaler\n",
    "\n",
    "Standard=StandardScaler()\n",
    "tfidf_w2v_sent_vectors_train = Standard.fit_transform(tfidf_w2v_sent_vectors_train)\n",
    "tfidf_w2v_sent_vectors_test = Standard.transform(tfidf_w2v_sent_vectors_test)\n",
    "\n",
    "print(tfidf_w2v_sent_vectors_train.shape)\n",
    "print(tfidf_w2v_sent_vectors_test.shape)"
   ]
  },
  {
   "cell_type": "markdown",
   "metadata": {},
   "source": [
    "#### Fitting grid search cv on tfidf-w2vec"
   ]
  },
  {
   "cell_type": "code",
   "execution_count": 94,
   "metadata": {},
   "outputs": [
    {
     "name": "stdout",
     "output_type": "stream",
     "text": [
      "0.47618209651423954\n",
      "{'class_weight': 'balanced', 'C': 0.5}\n"
     ]
    }
   ],
   "source": [
    "grid.fit(tfidf_w2v_sent_vectors_train, y_train)\n",
    "\n",
    "# examine the best model\n",
    "print(grid.best_score_)\n",
    "print(grid.best_params_)"
   ]
  },
  {
   "cell_type": "code",
   "execution_count": 95,
   "metadata": {},
   "outputs": [
    {
     "data": {
      "text/plain": [
       "Text(0,0.5,'Cross-Validated Error')"
      ]
     },
     "execution_count": 95,
     "metadata": {},
     "output_type": "execute_result"
    },
    {
     "data": {
      "image/png": "[encoded data removed]",
      "text/plain": [
       "<Figure size 432x288 with 1 Axes>"
      ]
     },
     "metadata": {},
     "output_type": "display_data"
    }
   ],
   "source": [
    "#Plotting C v/s CV_error\n",
    "a=pd.DataFrame(grid.cv_results_)[['mean_test_score', 'std_test_score', 'params']]\n",
    "a['C'] = [d.get('C') for d in a['params']]\n",
    "b=a.sort_values(['C'])\n",
    "CV_Error=1-b['mean_test_score']\n",
    "C =b['C']\n",
    "\n",
    "\n",
    "plt.plot(C,CV_Error)\n",
    "plt.xlabel('C')\n",
    "plt.ylabel('Cross-Validated Error')"
   ]
  },
  {
   "cell_type": "code",
   "execution_count": 96,
   "metadata": {},
   "outputs": [
    {
     "name": "stdout",
     "output_type": "stream",
     "text": [
      "The overall f1_score for the Train Data is :  0.47774873135475937\n",
      "The overall f1_score for the Test Data is :  0.5006821282401092\n"
     ]
    }
   ],
   "source": [
    "#{'class_weight': 'balanced', 'C': 0.5}\n",
    "LR_optimal=LogisticRegression(penalty='l2',C=0.5,class_weight='balanced')\n",
    "\n",
    "# fitting the model\n",
    "LR_optimal.fit(tfidf_w2v_sent_vectors_train, y_train)\n",
    "\n",
    "# predict the response\n",
    "pred_tfidf_w2v_sent_vectors_test = LR_optimal.predict(tfidf_w2v_sent_vectors_test)\n",
    "\n",
    "# evaluate f1_score\n",
    "f1_score = f1_score(y_test, pred_tfidf_w2v_sent_vectors_test)\n",
    "\n",
    "# Train & Test Error\n",
    "print(\"The overall f1_score for the Train Data is : \", metrics.f1_score(y_train,LR_optimal.predict(tfidf_w2v_sent_vectors_train)))\n",
    "print(\"The overall f1_score for the Test Data is : \", metrics.f1_score(y_test,pred_tfidf_w2v_sent_vectors_test))"
   ]
  },
  {
   "cell_type": "code",
   "execution_count": 97,
   "metadata": {},
   "outputs": [],
   "source": [
    "#Confusion matrix\n",
    "C = confusion_matrix(y_test, pred_tfidf_w2v_sent_vectors_test)\n",
    "A =(((C.T)/(C.sum(axis=1))).T)\n",
    "B =(C/C.sum(axis=0))\n",
    "labels = [0,1]"
   ]
  },
  {
   "cell_type": "code",
   "execution_count": 98,
   "metadata": {},
   "outputs": [
    {
     "name": "stdout",
     "output_type": "stream",
     "text": [
      "-------------------- Confusion matrix --------------------\n"
     ]
    },
    {
     "data": {
      "image/png": "[encoded data removed]",
      "text/plain": [
       "<Figure size 864x504 with 2 Axes>"
      ]
     },
     "metadata": {},
     "output_type": "display_data"
    },
    {
     "name": "stdout",
     "output_type": "stream",
     "text": [
      "-------------------- Precision matrix (Columm Sum=1) --------------------\n"
     ]
    },
    {
     "data": {
      "image/png": "[encoded data removed]",
      "text/plain": [
       "<Figure size 864x504 with 2 Axes>"
      ]
     },
     "metadata": {},
     "output_type": "display_data"
    },
    {
     "name": "stdout",
     "output_type": "stream",
     "text": [
      "-------------------- Recall matrix (Row sum=1) --------------------\n"
     ]
    },
    {
     "data": {
      "image/png": "[encoded data removed]",
      "text/plain": [
       "<Figure size 864x504 with 2 Axes>"
      ]
     },
     "metadata": {},
     "output_type": "display_data"
    }
   ],
   "source": [
    " print(\"-\"*20, \"Confusion matrix\", \"-\"*20)\n",
    "plt.figure(figsize=(12,7))\n",
    "sns.heatmap(C, annot=True, cmap=\"YlGnBu\", fmt=\"g\", xticklabels=labels, yticklabels=labels)\n",
    "plt.xlabel('Predicted Class')\n",
    "plt.ylabel('Original Class')\n",
    "plt.show()\n",
    "\n",
    "print(\"-\"*20, \"Precision matrix (Columm Sum=1)\", \"-\"*20)\n",
    "plt.figure(figsize=(12,7))\n",
    "sns.heatmap(B, annot=True, cmap=\"YlGnBu\", fmt=\".3f\", xticklabels=labels, yticklabels=labels)\n",
    " plt.xlabel('Predicted Class')\n",
    "plt.ylabel('Original Class')\n",
    "plt.show()\n",
    "    \n",
    "    # representing B in heatmap format\n",
    "print(\"-\"*20, \"Recall matrix (Row sum=1)\", \"-\"*20)\n",
    "plt.figure(figsize=(12,7))\n",
    "sns.heatmap(A, annot=True, cmap=\"YlGnBu\", fmt=\".3f\", xticklabels=labels, yticklabels=labels)\n",
    "plt.xlabel('Predicted Class')\n",
    "plt.ylabel('Original Class')\n",
    "plt.show()"
   ]
  },
  {
   "cell_type": "markdown",
   "metadata": {},
   "source": [
    "Reporting f1_score for above featurization with L2 regularizer"
   ]
  },
  {
   "cell_type": "code",
   "execution_count": 111,
   "metadata": {},
   "outputs": [],
   "source": [
    "from prettytable import PrettyTable"
   ]
  },
  {
   "cell_type": "code",
   "execution_count": 112,
   "metadata": {},
   "outputs": [
    {
     "name": "stdout",
     "output_type": "stream",
     "text": [
      "+----------------+------+-------+---------+-----------+\n",
      "|     Model      | Bow  | Tfidf | Avg-W2V | Tfidf-W2V |\n",
      "+----------------+------+-------+---------+-----------+\n",
      "|       C        | 0.01 | 1e-07 |    50   |    0.5    |\n",
      "| Train f1_score | 0.8  |  0.9  |   0.51  |    0.47   |\n",
      "| Test f1_score  | 0.67 |  0.53 |   0.53  |    0.5    |\n",
      "+----------------+------+-------+---------+-----------+\n"
     ]
    }
   ],
   "source": [
    "x=PrettyTable()\n",
    "x.field_names = [\"Model\",\"Bow\", \"Tfidf\", \"Avg-W2V\", \"Tfidf-W2V\"]\n",
    "x.add_row([\"C\",0.01,1e-07,50,0.5])\n",
    "x.add_row([\"Train f1_score\",0.80,0.90,0.51,0.47])\n",
    "x.add_row([\"Test f1_score\",0.67,0.53,0.53,0.50])\n",
    "\n",
    "print(x)"
   ]
  },
  {
   "cell_type": "markdown",
   "metadata": {},
   "source": [
    "********************************************************************************************************************************"
   ]
  }
 ],
 "metadata": {
  "kernelspec": {
   "display_name": "Python 3",
   "language": "python",
   "name": "python3"
  },
  "language_info": {
   "codemirror_mode": {
    "name": "ipython",
    "version": 3
   },
   "file_extension": ".py",
   "mimetype": "text/x-python",
   "name": "python",
   "nbconvert_exporter": "python",
   "pygments_lexer": "ipython3",
   "version": "3.7.3"
  }
 },
 "nbformat": 4,
 "nbformat_minor": 2
}
