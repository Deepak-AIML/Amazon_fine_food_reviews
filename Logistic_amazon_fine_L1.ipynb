{
 "cells": [
  {
   "cell_type": "markdown",
   "metadata": {},
   "source": [
    "# Logistic Regression on Amazon fine food dataset"
   ]
  },
  {
   "cell_type": "markdown",
   "metadata": {},
   "source": [
    "Data Source: https://www.kaggle.com/snap/amazon-fine-food-reviews\n",
    "\n",
    "The Amazon Fine Food Reviews dataset consists of reviews of fine foods from Amazon.<br>\n",
    "\n",
    "Number of reviews: 568,454<br>\n",
    "Number of users: 256,059<br>\n",
    "Number of products: 74,258<br>\n",
    "Timespan: Oct 1999 - Oct 2012<br>\n",
    "Number of Attributes/Columns in data: 10 \n",
    "\n",
    "Attribute Information:\n",
    "\n",
    "1. Id\n",
    "2. ProductId - unique identifier for the product\n",
    "3. UserId - unqiue identifier for the user\n",
    "4. ProfileName\n",
    "5. HelpfulnessNumerator - number of users who found the review helpful\n",
    "6. HelpfulnessDenominator - number of users who indicated whether they found the review helpful or not\n",
    "7. Score - rating between 1 and 5\n",
    "8. Time - timestamp for the review\n",
    "9. Summary - brief summary of the review\n",
    "10. Text - text of the review\n",
    "\n",
    "#### Objective:\n",
    "To perform Logistic regression using L1 regularization on different vectors like BOW, Tf-idf, Avg-W2vec & Tf-idf_W2vec."
   ]
  },
  {
   "cell_type": "code",
   "execution_count": 131,
   "metadata": {},
   "outputs": [],
   "source": [
    "%matplotlib inline\n",
    "import warnings\n",
    "warnings.filterwarnings(\"ignore\")\n",
    "\n",
    "import sqlite3\n",
    "import pandas as pd\n",
    "import numpy as np\n",
    "import nltk\n",
    "import string\n",
    "import matplotlib.pyplot as plt\n",
    "import seaborn as sns\n",
    "from sklearn.feature_extraction.text import TfidfTransformer\n",
    "from sklearn.feature_extraction.text import TfidfVectorizer\n",
    "\n",
    "from sklearn.feature_extraction.text import CountVectorizer\n",
    "from sklearn.metrics import confusion_matrix\n",
    "from sklearn import metrics\n",
    "from sklearn.metrics import roc_curve, auc\n",
    "from nltk.stem.porter import PorterStemmer\n",
    "\n",
    "import re\n",
    "\n",
    "import string\n",
    "from nltk.corpus import stopwords\n",
    "from nltk.stem import PorterStemmer\n",
    "from nltk.stem.wordnet import WordNetLemmatizer\n",
    "\n",
    "from gensim.models import Word2Vec\n",
    "from gensim.models import KeyedVectors\n",
    "import pickle\n",
    "\n",
    "from tqdm import tqdm\n",
    "import os"
   ]
  },
  {
   "cell_type": "code",
   "execution_count": 132,
   "metadata": {},
   "outputs": [],
   "source": [
    "#Importing Train and test dataset\n",
    "train_data=pd.read_csv(\"E:/Applied AI assignments/Amazon_fine_train_data.csv\")\n",
    "test_data=pd.read_csv(\"E:/Applied AI assignments/Amazon_fine_test_data.csv\")"
   ]
  },
  {
   "cell_type": "code",
   "execution_count": 133,
   "metadata": {},
   "outputs": [],
   "source": [
    "train_data=train_data.astype(str)\n",
    "test_data=test_data.astype(str)"
   ]
  },
  {
   "cell_type": "code",
   "execution_count": 6,
   "metadata": {},
   "outputs": [
    {
     "data": {
      "text/plain": [
       "(80000, 13)"
      ]
     },
     "execution_count": 6,
     "metadata": {},
     "output_type": "execute_result"
    }
   ],
   "source": [
    "train_data.shape"
   ]
  },
  {
   "cell_type": "code",
   "execution_count": 7,
   "metadata": {},
   "outputs": [
    {
     "data": {
      "text/plain": [
       "positive    70407\n",
       "negative     9593\n",
       "Name: Score, dtype: int64"
      ]
     },
     "execution_count": 7,
     "metadata": {},
     "output_type": "execute_result"
    }
   ],
   "source": [
    "train_data['Score'].value_counts()"
   ]
  },
  {
   "cell_type": "code",
   "execution_count": 8,
   "metadata": {},
   "outputs": [
    {
     "data": {
      "text/plain": [
       "(20000, 13)"
      ]
     },
     "execution_count": 8,
     "metadata": {},
     "output_type": "execute_result"
    }
   ],
   "source": [
    "test_data.shape"
   ]
  },
  {
   "cell_type": "code",
   "execution_count": 9,
   "metadata": {},
   "outputs": [
    {
     "data": {
      "text/plain": [
       "positive    17322\n",
       "negative     2678\n",
       "Name: Score, dtype: int64"
      ]
     },
     "execution_count": 9,
     "metadata": {},
     "output_type": "execute_result"
    }
   ],
   "source": [
    "test_data['Score'].value_counts()"
   ]
  },
  {
   "cell_type": "code",
   "execution_count": 134,
   "metadata": {},
   "outputs": [],
   "source": [
    "#Train data\n",
    "y_train = train_data['Score']\n",
    "x_train = train_data['CleanedText']\n",
    "\n",
    "#Test data\n",
    "y_test = test_data['Score']\n",
    "x_test = test_data['CleanedText'] "
   ]
  },
  {
   "cell_type": "code",
   "execution_count": 135,
   "metadata": {},
   "outputs": [],
   "source": [
    "#Replacing Positive score with 0 and negative score with 1\n",
    "y_train.replace('negative',1,inplace=True)\n",
    "y_train.replace('positive',0,inplace=True)\n",
    "\n",
    "y_test.replace('negative',1,inplace=True)\n",
    "y_test.replace('positive',0,inplace=True)"
   ]
  },
  {
   "cell_type": "code",
   "execution_count": 136,
   "metadata": {},
   "outputs": [],
   "source": [
    "from sklearn.linear_model import LogisticRegression\n",
    "from sklearn.model_selection import GridSearchCV\n",
    "from sklearn.model_selection import TimeSeriesSplit\n",
    "from sklearn.metrics import accuracy_score\n",
    "from sklearn.metrics import recall_score\n",
    "from sklearn.metrics import precision_score\n",
    "from sklearn.metrics import f1_score\n",
    "from sklearn.metrics import make_scorer\n",
    "from sklearn.metrics import confusion_matrix\n",
    "from sklearn.cross_validation import cross_val_score\n",
    "from collections import Counter\n",
    "from sklearn import cross_validation\n",
    "from wordcloud import WordCloud\n",
    "import matplotlib.pyplot as plt"
   ]
  },
  {
   "cell_type": "markdown",
   "metadata": {},
   "source": [
    "### Applying L1 regularization"
   ]
  },
  {
   "cell_type": "markdown",
   "metadata": {},
   "source": [
    "####  Gridsearch CV using L2"
   ]
  },
  {
   "cell_type": "code",
   "execution_count": null,
   "metadata": {},
   "outputs": [],
   "source": [
    "from sklearn.multiclass import "
   ]
  },
  {
   "cell_type": "code",
   "execution_count": 13,
   "metadata": {},
   "outputs": [
    {
     "name": "stdout",
     "output_type": "stream",
     "text": [
      "{'C': [1e-06, 1e-05, 0.0001, 0.001, 0.01, 0.1, 0.2, 0.3, 0.4, 0.5, 0.6, 0.7, 0.8, 0.9, 1.0, 5, 10, 15, 20, 30, 40, 50], 'class_weight': [None, 'balanced']}\n"
     ]
    }
   ],
   "source": [
    "gamma_range = [0.000001,0.00001,0.0001,0.001,0.01,0.1,0.2,0.3,0.4,0.5,0.6,0.7,0.8,0.9,1.0,5,10,15,20,30,40,50]\n",
    "T= TimeSeriesSplit(n_splits=5)\n",
    "weight=[None,'balanced']\n",
    "\n",
    "param_grid = dict(C=gamma_range,class_weight=weight)\n",
    "print(param_grid)\n",
    "\n",
    "# instantiate and fit the grid\n",
    "grid = GridSearchCV(LogisticRegression(penalty='l1'), param_grid, cv=T, scoring='f1', return_train_score=False,n_jobs=-1)"
   ]
  },
  {
   "cell_type": "markdown",
   "metadata": {},
   "source": [
    "#### Binary BOW"
   ]
  },
  {
   "cell_type": "code",
   "execution_count": 9,
   "metadata": {},
   "outputs": [
    {
     "name": "stdout",
     "output_type": "stream",
     "text": [
      "the type of count vectorizer  <class 'scipy.sparse.csr.csr_matrix'>\n",
      "the shape of out text BOW vectorizer  (80000, 33433)\n",
      "the number of unique words  33433\n"
     ]
    }
   ],
   "source": [
    "count_vect = CountVectorizer(binary=True)\n",
    "\n",
    "#Train data\n",
    "vocabulary = count_vect.fit(x_train) #in scikit-learn\n",
    "Bow_x_train= count_vect.transform(x_train)\n",
    "print(\"the type of count vectorizer \",type(Bow_x_train))\n",
    "print(\"the shape of out text BOW vectorizer \",Bow_x_train.get_shape())\n",
    "print(\"the number of unique words \", Bow_x_train.get_shape()[1])"
   ]
  },
  {
   "cell_type": "code",
   "execution_count": 10,
   "metadata": {},
   "outputs": [
    {
     "name": "stdout",
     "output_type": "stream",
     "text": [
      "the type of count vectorizer  <class 'scipy.sparse.csr.csr_matrix'>\n",
      "the shape of out text BOW vectorizer  (20000, 33433)\n",
      "the number of unique words  33433\n"
     ]
    }
   ],
   "source": [
    "#Test data\n",
    "Bow_x_test = count_vect.transform(x_test)\n",
    "print(\"the type of count vectorizer \",type(Bow_x_test))\n",
    "print(\"the shape of out text BOW vectorizer \",Bow_x_test.get_shape())\n",
    "print(\"the number of unique words \", Bow_x_test.get_shape()[1])"
   ]
  },
  {
   "cell_type": "code",
   "execution_count": 11,
   "metadata": {},
   "outputs": [
    {
     "name": "stdout",
     "output_type": "stream",
     "text": [
      "(80000, 33433)\n",
      "(20000, 33433)\n"
     ]
    }
   ],
   "source": [
    "#Standardizing Bow_x_train and Bow_x_test\n",
    "from sklearn.preprocessing import StandardScaler\n",
    "Scaler=StandardScaler(with_mean=False)\n",
    "Bow_x_train = Scaler.fit_transform(Bow_x_train)\n",
    "Bow_x_test = Scaler.transform(Bow_x_test)\n",
    "\n",
    "print(Bow_x_train.shape)\n",
    "print(Bow_x_test.shape)"
   ]
  },
  {
   "cell_type": "markdown",
   "metadata": {},
   "source": [
    "#### Fitting Grid search cv on BOW"
   ]
  },
  {
   "cell_type": "code",
   "execution_count": 14,
   "metadata": {},
   "outputs": [
    {
     "name": "stdout",
     "output_type": "stream",
     "text": [
      "0.6296566961732983\n",
      "{'C': 0.01, 'class_weight': 'balanced'}\n"
     ]
    }
   ],
   "source": [
    "grid.fit(Bow_x_train, y_train)\n",
    "\n",
    "# examine the best model\n",
    "print(grid.best_score_)\n",
    "print(grid.best_params_)"
   ]
  },
  {
   "cell_type": "code",
   "execution_count": 15,
   "metadata": {},
   "outputs": [
    {
     "data": {
      "text/plain": [
       "Text(0,0.5,'Cross-Validated Error')"
      ]
     },
     "execution_count": 15,
     "metadata": {},
     "output_type": "execute_result"
    },
    {
     "data": {
      "image/png": "[encoded data removed]",
      "text/plain": [
       "<Figure size 432x288 with 1 Axes>"
      ]
     },
     "metadata": {},
     "output_type": "display_data"
    }
   ],
   "source": [
    "#Plotting C v/s CV_error\n",
    "a=pd.DataFrame(grid.cv_results_)[['mean_test_score', 'std_test_score', 'params']]\n",
    "a['C'] = [d.get('C') for d in a['params']]\n",
    "b=a.sort_values(['C'])\n",
    "CV_Error=1-b['mean_test_score']\n",
    "C =b['C']\n",
    "\n",
    "\n",
    "plt.plot(C,CV_Error)\n",
    "plt.xlabel('C')\n",
    "plt.ylabel('Cross-Validated Error')"
   ]
  },
  {
   "cell_type": "code",
   "execution_count": 20,
   "metadata": {},
   "outputs": [
    {
     "name": "stdout",
     "output_type": "stream",
     "text": [
      "The overall f1_score for the Train Data is :  0.7461583187972424\n",
      "The overall f1_score for the Test Data is :  0.6732643118148599\n"
     ]
    }
   ],
   "source": [
    "\n",
    "#{'C': 0.01, 'class_weight': 'balanced'}\n",
    "LR_optimal=LogisticRegression(penalty='l1',C=0.01,class_weight='balanced')\n",
    "\n",
    "# fitting the model\n",
    "LR_optimal.fit(Bow_x_train, y_train)\n",
    "\n",
    "# predict the response\n",
    "pred_bow = LR_optimal.predict(Bow_x_test)\n",
    "\n",
    "# evaluate f1_score\n",
    "f1_score = f1_score(y_test, pred_bow)\n",
    "\n",
    "# Train & Test Error\n",
    "print(\"The overall f1_score for the Train Data is : \", metrics.f1_score(y_train,LR_optimal.predict(Bow_x_train)))\n",
    "print(\"The overall f1_score for the Test Data is : \", metrics.f1_score(y_test,pred_bow))"
   ]
  },
  {
   "cell_type": "markdown",
   "metadata": {},
   "source": [
    "Pertubation test"
   ]
  },
  {
   "cell_type": "code",
   "execution_count": 21,
   "metadata": {},
   "outputs": [],
   "source": [
    "# Re-training the model after adding noise\n",
    "Epsilon = np.random.normal(loc=0,scale =0.01)\n",
    "Noise_Bow_x_train=Bow_x_train\n",
    "Noise_Bow_x_train.data+=Epsilon"
   ]
  },
  {
   "cell_type": "code",
   "execution_count": 22,
   "metadata": {},
   "outputs": [
    {
     "data": {
      "text/plain": [
       "(80000, 33433)"
      ]
     },
     "execution_count": 22,
     "metadata": {},
     "output_type": "execute_result"
    }
   ],
   "source": [
    "Noise_Bow_x_train.shape"
   ]
  },
  {
   "cell_type": "code",
   "execution_count": 24,
   "metadata": {},
   "outputs": [
    {
     "name": "stdout",
     "output_type": "stream",
     "text": [
      "The overall f1_score for the Train Data is :  0.7461893092993311\n",
      "The overall f1_score for the Test Data is :  0.6737707413609377\n"
     ]
    }
   ],
   "source": [
    "\n",
    "#{'C': 0.01, 'class_weight': 'balanced'}\n",
    "LR_optimal_noise=LogisticRegression(penalty='l1',C=0.01,class_weight='balanced')\n",
    "\n",
    "# fitting the model\n",
    "LR_optimal_noise.fit(Noise_Bow_x_train, y_train)\n",
    "\n",
    "# predict the response\n",
    "pred_bow = LR_optimal_noise.predict(Bow_x_test)\n",
    "\n",
    "# evaluate f1_score\n",
    "f1_score = f1_score(y_test, pred_bow)\n",
    "\n",
    "# Train & Test Error\n",
    "print(\"The overall f1_score for the Train Data is : \", metrics.f1_score(y_train,LR_optimal.predict(Noise_Bow_x_train)))\n",
    "print(\"The overall f1_score for the Test Data is : \", metrics.f1_score(y_test,pred_bow))"
   ]
  },
  {
   "cell_type": "code",
   "execution_count": 25,
   "metadata": {},
   "outputs": [
    {
     "data": {
      "text/plain": [
       "(33433,)"
      ]
     },
     "execution_count": 25,
     "metadata": {},
     "output_type": "execute_result"
    }
   ],
   "source": [
    "#Features\n",
    "feature_names = np.array(vocabulary.get_feature_names())\n",
    "feature_names.shape"
   ]
  },
  {
   "cell_type": "code",
   "execution_count": 26,
   "metadata": {},
   "outputs": [
    {
     "data": {
      "text/plain": [
       "(1, 33433)"
      ]
     },
     "execution_count": 26,
     "metadata": {},
     "output_type": "execute_result"
    }
   ],
   "source": [
    "#Weights before adding noise\n",
    "LR_optimal.coef_.shape"
   ]
  },
  {
   "cell_type": "code",
   "execution_count": 27,
   "metadata": {},
   "outputs": [
    {
     "data": {
      "text/plain": [
       "(1, 33433)"
      ]
     },
     "execution_count": 27,
     "metadata": {},
     "output_type": "execute_result"
    }
   ],
   "source": [
    "#Weights after adding noise\n",
    "LR_optimal_noise.coef_.shape"
   ]
  },
  {
   "cell_type": "code",
   "execution_count": 28,
   "metadata": {},
   "outputs": [
    {
     "data": {
      "text/html": [
       "<div>\n",
       "<style scoped>\n",
       "    .dataframe tbody tr th:only-of-type {\n",
       "        vertical-align: middle;\n",
       "    }\n",
       "\n",
       "    .dataframe tbody tr th {\n",
       "        vertical-align: top;\n",
       "    }\n",
       "\n",
       "    .dataframe thead th {\n",
       "        text-align: right;\n",
       "    }\n",
       "</style>\n",
       "<table border=\"1\" class=\"dataframe\">\n",
       "  <thead>\n",
       "    <tr style=\"text-align: right;\">\n",
       "      <th></th>\n",
       "      <th>0</th>\n",
       "      <th>1</th>\n",
       "      <th>2</th>\n",
       "    </tr>\n",
       "  </thead>\n",
       "  <tbody>\n",
       "    <tr>\n",
       "      <th>aaa</th>\n",
       "      <td>0.000000</td>\n",
       "      <td>0.000000</td>\n",
       "      <td>NaN</td>\n",
       "    </tr>\n",
       "    <tr>\n",
       "      <th>aaaaaaaaagghh</th>\n",
       "      <td>0.000000</td>\n",
       "      <td>0.000000</td>\n",
       "      <td>NaN</td>\n",
       "    </tr>\n",
       "    <tr>\n",
       "      <th>aaaaah</th>\n",
       "      <td>0.000000</td>\n",
       "      <td>0.000000</td>\n",
       "      <td>NaN</td>\n",
       "    </tr>\n",
       "    <tr>\n",
       "      <th>aaaaahhhhhhhhhhhhhhhh</th>\n",
       "      <td>0.000000</td>\n",
       "      <td>0.000000</td>\n",
       "      <td>NaN</td>\n",
       "    </tr>\n",
       "    <tr>\n",
       "      <th>aaaah</th>\n",
       "      <td>0.000000</td>\n",
       "      <td>0.000000</td>\n",
       "      <td>NaN</td>\n",
       "    </tr>\n",
       "    <tr>\n",
       "      <th>aaah</th>\n",
       "      <td>0.000000</td>\n",
       "      <td>0.000000</td>\n",
       "      <td>NaN</td>\n",
       "    </tr>\n",
       "    <tr>\n",
       "      <th>aachen</th>\n",
       "      <td>0.000000</td>\n",
       "      <td>0.000000</td>\n",
       "      <td>NaN</td>\n",
       "    </tr>\n",
       "    <tr>\n",
       "      <th>aad</th>\n",
       "      <td>0.000000</td>\n",
       "      <td>0.000000</td>\n",
       "      <td>NaN</td>\n",
       "    </tr>\n",
       "    <tr>\n",
       "      <th>aadp</th>\n",
       "      <td>0.000000</td>\n",
       "      <td>0.000000</td>\n",
       "      <td>NaN</td>\n",
       "    </tr>\n",
       "    <tr>\n",
       "      <th>aafco</th>\n",
       "      <td>0.000000</td>\n",
       "      <td>0.000000</td>\n",
       "      <td>NaN</td>\n",
       "    </tr>\n",
       "    <tr>\n",
       "      <th>aagh</th>\n",
       "      <td>-0.000872</td>\n",
       "      <td>-0.000104</td>\n",
       "      <td>-88.105923</td>\n",
       "    </tr>\n",
       "    <tr>\n",
       "      <th>aah</th>\n",
       "      <td>0.000000</td>\n",
       "      <td>0.000000</td>\n",
       "      <td>NaN</td>\n",
       "    </tr>\n",
       "    <tr>\n",
       "      <th>aahh</th>\n",
       "      <td>0.000000</td>\n",
       "      <td>0.000000</td>\n",
       "      <td>NaN</td>\n",
       "    </tr>\n",
       "    <tr>\n",
       "      <th>aand</th>\n",
       "      <td>0.000000</td>\n",
       "      <td>0.000000</td>\n",
       "      <td>NaN</td>\n",
       "    </tr>\n",
       "    <tr>\n",
       "      <th>aardvark</th>\n",
       "      <td>-0.006501</td>\n",
       "      <td>-0.001462</td>\n",
       "      <td>-77.508067</td>\n",
       "    </tr>\n",
       "    <tr>\n",
       "      <th>aarrgh</th>\n",
       "      <td>0.009030</td>\n",
       "      <td>0.009029</td>\n",
       "      <td>-0.002622</td>\n",
       "    </tr>\n",
       "    <tr>\n",
       "      <th>ab</th>\n",
       "      <td>0.000000</td>\n",
       "      <td>0.000000</td>\n",
       "      <td>NaN</td>\n",
       "    </tr>\n",
       "    <tr>\n",
       "      <th>aback</th>\n",
       "      <td>-0.000381</td>\n",
       "      <td>-0.000386</td>\n",
       "      <td>1.460521</td>\n",
       "    </tr>\n",
       "    <tr>\n",
       "      <th>abandon</th>\n",
       "      <td>0.000000</td>\n",
       "      <td>0.000000</td>\n",
       "      <td>NaN</td>\n",
       "    </tr>\n",
       "    <tr>\n",
       "      <th>abaolut</th>\n",
       "      <td>0.000000</td>\n",
       "      <td>0.000000</td>\n",
       "      <td>NaN</td>\n",
       "    </tr>\n",
       "    <tr>\n",
       "      <th>abattoir</th>\n",
       "      <td>0.000000</td>\n",
       "      <td>0.000000</td>\n",
       "      <td>NaN</td>\n",
       "    </tr>\n",
       "    <tr>\n",
       "      <th>abba</th>\n",
       "      <td>0.000000</td>\n",
       "      <td>0.000000</td>\n",
       "      <td>NaN</td>\n",
       "    </tr>\n",
       "    <tr>\n",
       "      <th>abbey</th>\n",
       "      <td>0.000000</td>\n",
       "      <td>0.000000</td>\n",
       "      <td>NaN</td>\n",
       "    </tr>\n",
       "    <tr>\n",
       "      <th>abbi</th>\n",
       "      <td>0.000000</td>\n",
       "      <td>0.000000</td>\n",
       "      <td>NaN</td>\n",
       "    </tr>\n",
       "    <tr>\n",
       "      <th>abbott</th>\n",
       "      <td>0.000000</td>\n",
       "      <td>0.000000</td>\n",
       "      <td>NaN</td>\n",
       "    </tr>\n",
       "    <tr>\n",
       "      <th>abbrevi</th>\n",
       "      <td>0.000000</td>\n",
       "      <td>0.000000</td>\n",
       "      <td>NaN</td>\n",
       "    </tr>\n",
       "    <tr>\n",
       "      <th>abc</th>\n",
       "      <td>0.000000</td>\n",
       "      <td>0.000000</td>\n",
       "      <td>NaN</td>\n",
       "    </tr>\n",
       "    <tr>\n",
       "      <th>abcstor</th>\n",
       "      <td>0.000000</td>\n",
       "      <td>0.000000</td>\n",
       "      <td>NaN</td>\n",
       "    </tr>\n",
       "    <tr>\n",
       "      <th>abd</th>\n",
       "      <td>0.000000</td>\n",
       "      <td>0.000000</td>\n",
       "      <td>NaN</td>\n",
       "    </tr>\n",
       "    <tr>\n",
       "      <th>abdomen</th>\n",
       "      <td>0.000000</td>\n",
       "      <td>0.000000</td>\n",
       "      <td>NaN</td>\n",
       "    </tr>\n",
       "    <tr>\n",
       "      <th>...</th>\n",
       "      <td>...</td>\n",
       "      <td>...</td>\n",
       "      <td>...</td>\n",
       "    </tr>\n",
       "    <tr>\n",
       "      <th>zot</th>\n",
       "      <td>-0.011494</td>\n",
       "      <td>-0.011496</td>\n",
       "      <td>0.014257</td>\n",
       "    </tr>\n",
       "    <tr>\n",
       "      <th>zotz</th>\n",
       "      <td>0.000000</td>\n",
       "      <td>0.000000</td>\n",
       "      <td>NaN</td>\n",
       "    </tr>\n",
       "    <tr>\n",
       "      <th>zour</th>\n",
       "      <td>0.000000</td>\n",
       "      <td>0.000000</td>\n",
       "      <td>NaN</td>\n",
       "    </tr>\n",
       "    <tr>\n",
       "      <th>zout</th>\n",
       "      <td>0.000000</td>\n",
       "      <td>0.000000</td>\n",
       "      <td>NaN</td>\n",
       "    </tr>\n",
       "    <tr>\n",
       "      <th>zowi</th>\n",
       "      <td>0.000000</td>\n",
       "      <td>0.000000</td>\n",
       "      <td>NaN</td>\n",
       "    </tr>\n",
       "    <tr>\n",
       "      <th>zreport</th>\n",
       "      <td>0.000000</td>\n",
       "      <td>0.000000</td>\n",
       "      <td>NaN</td>\n",
       "    </tr>\n",
       "    <tr>\n",
       "      <th>zsweet</th>\n",
       "      <td>0.000000</td>\n",
       "      <td>0.000000</td>\n",
       "      <td>NaN</td>\n",
       "    </tr>\n",
       "    <tr>\n",
       "      <th>zuc</th>\n",
       "      <td>0.000000</td>\n",
       "      <td>0.000000</td>\n",
       "      <td>NaN</td>\n",
       "    </tr>\n",
       "    <tr>\n",
       "      <th>zucchini</th>\n",
       "      <td>0.000000</td>\n",
       "      <td>0.000000</td>\n",
       "      <td>NaN</td>\n",
       "    </tr>\n",
       "    <tr>\n",
       "      <th>zuccini</th>\n",
       "      <td>0.000000</td>\n",
       "      <td>0.000000</td>\n",
       "      <td>NaN</td>\n",
       "    </tr>\n",
       "    <tr>\n",
       "      <th>zuccnini</th>\n",
       "      <td>0.000000</td>\n",
       "      <td>0.000000</td>\n",
       "      <td>NaN</td>\n",
       "    </tr>\n",
       "    <tr>\n",
       "      <th>zuchinni</th>\n",
       "      <td>0.000000</td>\n",
       "      <td>0.000000</td>\n",
       "      <td>NaN</td>\n",
       "    </tr>\n",
       "    <tr>\n",
       "      <th>zuke</th>\n",
       "      <td>0.000000</td>\n",
       "      <td>0.000000</td>\n",
       "      <td>NaN</td>\n",
       "    </tr>\n",
       "    <tr>\n",
       "      <th>zulu</th>\n",
       "      <td>0.000000</td>\n",
       "      <td>0.000000</td>\n",
       "      <td>NaN</td>\n",
       "    </tr>\n",
       "    <tr>\n",
       "      <th>zum</th>\n",
       "      <td>0.000000</td>\n",
       "      <td>0.000000</td>\n",
       "      <td>NaN</td>\n",
       "    </tr>\n",
       "    <tr>\n",
       "      <th>zummi</th>\n",
       "      <td>0.000000</td>\n",
       "      <td>0.000000</td>\n",
       "      <td>NaN</td>\n",
       "    </tr>\n",
       "    <tr>\n",
       "      <th>zune</th>\n",
       "      <td>0.000000</td>\n",
       "      <td>0.000000</td>\n",
       "      <td>NaN</td>\n",
       "    </tr>\n",
       "    <tr>\n",
       "      <th>zupreem</th>\n",
       "      <td>0.000000</td>\n",
       "      <td>0.000000</td>\n",
       "      <td>NaN</td>\n",
       "    </tr>\n",
       "    <tr>\n",
       "      <th>zurich</th>\n",
       "      <td>0.000000</td>\n",
       "      <td>0.000000</td>\n",
       "      <td>NaN</td>\n",
       "    </tr>\n",
       "    <tr>\n",
       "      <th>zwar</th>\n",
       "      <td>0.000000</td>\n",
       "      <td>0.000000</td>\n",
       "      <td>NaN</td>\n",
       "    </tr>\n",
       "    <tr>\n",
       "      <th>zwieback</th>\n",
       "      <td>0.000646</td>\n",
       "      <td>0.000641</td>\n",
       "      <td>-0.704890</td>\n",
       "    </tr>\n",
       "    <tr>\n",
       "      <th>zwiebeck</th>\n",
       "      <td>0.000000</td>\n",
       "      <td>0.000000</td>\n",
       "      <td>NaN</td>\n",
       "    </tr>\n",
       "    <tr>\n",
       "      <th>zydeco</th>\n",
       "      <td>0.000000</td>\n",
       "      <td>0.000000</td>\n",
       "      <td>NaN</td>\n",
       "    </tr>\n",
       "    <tr>\n",
       "      <th>zzzzzs</th>\n",
       "      <td>0.000000</td>\n",
       "      <td>0.000000</td>\n",
       "      <td>NaN</td>\n",
       "    </tr>\n",
       "    <tr>\n",
       "      <th>zzzzzz</th>\n",
       "      <td>0.000000</td>\n",
       "      <td>0.000000</td>\n",
       "      <td>NaN</td>\n",
       "    </tr>\n",
       "    <tr>\n",
       "      <th>zzzzzzz</th>\n",
       "      <td>0.000759</td>\n",
       "      <td>0.000756</td>\n",
       "      <td>-0.283037</td>\n",
       "    </tr>\n",
       "    <tr>\n",
       "      <th>zzzzzzzz</th>\n",
       "      <td>0.000000</td>\n",
       "      <td>0.000000</td>\n",
       "      <td>NaN</td>\n",
       "    </tr>\n",
       "    <tr>\n",
       "      <th>zzzzzzzzzz</th>\n",
       "      <td>0.000000</td>\n",
       "      <td>0.000000</td>\n",
       "      <td>NaN</td>\n",
       "    </tr>\n",
       "    <tr>\n",
       "      <th>zzzzzzzzzzz</th>\n",
       "      <td>0.000000</td>\n",
       "      <td>0.000000</td>\n",
       "      <td>NaN</td>\n",
       "    </tr>\n",
       "    <tr>\n",
       "      <th>çay</th>\n",
       "      <td>0.000000</td>\n",
       "      <td>0.000000</td>\n",
       "      <td>NaN</td>\n",
       "    </tr>\n",
       "  </tbody>\n",
       "</table>\n",
       "<p>33433 rows × 3 columns</p>\n",
       "</div>"
      ],
      "text/plain": [
       "                              0         1          2\n",
       "aaa                    0.000000  0.000000        NaN\n",
       "aaaaaaaaagghh          0.000000  0.000000        NaN\n",
       "aaaaah                 0.000000  0.000000        NaN\n",
       "aaaaahhhhhhhhhhhhhhhh  0.000000  0.000000        NaN\n",
       "aaaah                  0.000000  0.000000        NaN\n",
       "aaah                   0.000000  0.000000        NaN\n",
       "aachen                 0.000000  0.000000        NaN\n",
       "aad                    0.000000  0.000000        NaN\n",
       "aadp                   0.000000  0.000000        NaN\n",
       "aafco                  0.000000  0.000000        NaN\n",
       "aagh                  -0.000872 -0.000104 -88.105923\n",
       "aah                    0.000000  0.000000        NaN\n",
       "aahh                   0.000000  0.000000        NaN\n",
       "aand                   0.000000  0.000000        NaN\n",
       "aardvark              -0.006501 -0.001462 -77.508067\n",
       "aarrgh                 0.009030  0.009029  -0.002622\n",
       "ab                     0.000000  0.000000        NaN\n",
       "aback                 -0.000381 -0.000386   1.460521\n",
       "abandon                0.000000  0.000000        NaN\n",
       "abaolut                0.000000  0.000000        NaN\n",
       "abattoir               0.000000  0.000000        NaN\n",
       "abba                   0.000000  0.000000        NaN\n",
       "abbey                  0.000000  0.000000        NaN\n",
       "abbi                   0.000000  0.000000        NaN\n",
       "abbott                 0.000000  0.000000        NaN\n",
       "abbrevi                0.000000  0.000000        NaN\n",
       "abc                    0.000000  0.000000        NaN\n",
       "abcstor                0.000000  0.000000        NaN\n",
       "abd                    0.000000  0.000000        NaN\n",
       "abdomen                0.000000  0.000000        NaN\n",
       "...                         ...       ...        ...\n",
       "zot                   -0.011494 -0.011496   0.014257\n",
       "zotz                   0.000000  0.000000        NaN\n",
       "zour                   0.000000  0.000000        NaN\n",
       "zout                   0.000000  0.000000        NaN\n",
       "zowi                   0.000000  0.000000        NaN\n",
       "zreport                0.000000  0.000000        NaN\n",
       "zsweet                 0.000000  0.000000        NaN\n",
       "zuc                    0.000000  0.000000        NaN\n",
       "zucchini               0.000000  0.000000        NaN\n",
       "zuccini                0.000000  0.000000        NaN\n",
       "zuccnini               0.000000  0.000000        NaN\n",
       "zuchinni               0.000000  0.000000        NaN\n",
       "zuke                   0.000000  0.000000        NaN\n",
       "zulu                   0.000000  0.000000        NaN\n",
       "zum                    0.000000  0.000000        NaN\n",
       "zummi                  0.000000  0.000000        NaN\n",
       "zune                   0.000000  0.000000        NaN\n",
       "zupreem                0.000000  0.000000        NaN\n",
       "zurich                 0.000000  0.000000        NaN\n",
       "zwar                   0.000000  0.000000        NaN\n",
       "zwieback               0.000646  0.000641  -0.704890\n",
       "zwiebeck               0.000000  0.000000        NaN\n",
       "zydeco                 0.000000  0.000000        NaN\n",
       "zzzzzs                 0.000000  0.000000        NaN\n",
       "zzzzzz                 0.000000  0.000000        NaN\n",
       "zzzzzzz                0.000759  0.000756  -0.283037\n",
       "zzzzzzzz               0.000000  0.000000        NaN\n",
       "zzzzzzzzzz             0.000000  0.000000        NaN\n",
       "zzzzzzzzzzz            0.000000  0.000000        NaN\n",
       "çay                    0.000000  0.000000        NaN\n",
       "\n",
       "[33433 rows x 3 columns]"
      ]
     },
     "execution_count": 28,
     "metadata": {},
     "output_type": "execute_result"
    }
   ],
   "source": [
    "merge_arr = np.concatenate([LR_optimal.coef_, LR_optimal_noise.coef_], axis=0)\n",
    "merge=pd.DataFrame(data=merge_arr,columns=feature_names).transpose()\n",
    "merge[2]=((merge[1]-merge[0])/merge[0])*100\n",
    "merge"
   ]
  },
  {
   "cell_type": "code",
   "execution_count": 29,
   "metadata": {},
   "outputs": [
    {
     "data": {
      "text/plain": [
       "(253, 3)"
      ]
     },
     "execution_count": 29,
     "metadata": {},
     "output_type": "execute_result"
    }
   ],
   "source": [
    "merge[merge[2]>30].shape"
   ]
  },
  {
   "cell_type": "markdown",
   "metadata": {},
   "source": [
    "253 features out of 33433 shows percentage change > 30 post pertubation test i.e 0.75%\n",
    "\n",
    "We can say that our data isn't much affected by multicollinearity"
   ]
  },
  {
   "cell_type": "code",
   "execution_count": 30,
   "metadata": {},
   "outputs": [],
   "source": [
    "feature_names = np.array(vocabulary.get_feature_names())\n",
    "sorted_coef_index = LR_optimal.coef_[0].argsort()"
   ]
  },
  {
   "cell_type": "code",
   "execution_count": 31,
   "metadata": {},
   "outputs": [
    {
     "name": "stdout",
     "output_type": "stream",
     "text": [
      "great,best,love,perfect,delici,excel,good,favorit,amaz,nice,wonder,addict,tasti,find,awesom,thank,keep,happi,smooth,year,\n"
     ]
    }
   ],
   "source": [
    "#Top 20 positive features\n",
    "p=feature_names[sorted_coef_index[:20]]\n",
    "\n",
    "sp = \"\"\n",
    "for i in p:\n",
    "    sp += str(i)+\",\"\n",
    "print(sp)"
   ]
  },
  {
   "cell_type": "code",
   "execution_count": 32,
   "metadata": {},
   "outputs": [
    {
     "name": "stdout",
     "output_type": "stream",
     "text": [
      "disappoint,worst,terribl,thought,tast,aw,unfortun,horribl,bad,bland,would,return,stale,money,didnt,hope,product,stick,threw,weak,\n"
     ]
    }
   ],
   "source": [
    "n=feature_names[sorted_coef_index[:-21:-1]]\n",
    "\n",
    "sn = \"\"\n",
    "for i in n:\n",
    "    sn += str(i)+\",\"\n",
    "print(sn)"
   ]
  },
  {
   "cell_type": "code",
   "execution_count": 33,
   "metadata": {},
   "outputs": [
    {
     "name": "stdout",
     "output_type": "stream",
     "text": [
      "************ Top 20 Negative words *******************\n"
     ]
    },
    {
     "data": {
      "image/png": "[encoded data removed]",
      "text/plain": [
       "<Figure size 360x360 with 1 Axes>"
      ]
     },
     "metadata": {},
     "output_type": "display_data"
    },
    {
     "name": "stdout",
     "output_type": "stream",
     "text": [
      "************ Top 20 Positive words *******************\n"
     ]
    },
    {
     "data": {
      "image/png": "[encoded data removed]",
      "text/plain": [
       "<Figure size 360x360 with 1 Axes>"
      ]
     },
     "metadata": {},
     "output_type": "display_data"
    }
   ],
   "source": [
    "print(\"************ Top 20 Negative words *******************\")\n",
    "wordcloud = WordCloud(width = 800, height = 800, \n",
    "                background_color ='black', \n",
    "                min_font_size = 10).generate(sn) \n",
    "  \n",
    "# plot the WordCloud image                        \n",
    "plt.figure(figsize = (5,5), facecolor = None) \n",
    "plt.imshow(wordcloud) \n",
    "plt.axis(\"off\") \n",
    "plt.tight_layout(pad = 0) \n",
    "plt.show()\n",
    "\n",
    "\n",
    "print(\"************ Top 20 Positive words *******************\")\n",
    "wordcloud = WordCloud(width = 800, height = 800, \n",
    "                background_color ='black', \n",
    "                min_font_size = 10).generate(sp) \n",
    "  \n",
    "# plot the WordCloud image                        \n",
    "plt.figure(figsize = (5,5), facecolor = None) \n",
    "plt.imshow(wordcloud) \n",
    "plt.axis(\"off\") \n",
    "plt.tight_layout(pad = 0) \n",
    "plt.show()"
   ]
  },
  {
   "cell_type": "code",
   "execution_count": 34,
   "metadata": {},
   "outputs": [],
   "source": [
    "#Confusion matrix\n",
    "C = confusion_matrix(y_test, pred_bow)\n",
    "A =(((C.T)/(C.sum(axis=1))).T)\n",
    "B =(C/C.sum(axis=0))\n",
    "labels = [0,1]"
   ]
  },
  {
   "cell_type": "code",
   "execution_count": 35,
   "metadata": {},
   "outputs": [
    {
     "name": "stdout",
     "output_type": "stream",
     "text": [
      "-------------------- Confusion matrix --------------------\n"
     ]
    },
    {
     "data": {
      "image/png": "[encoded data removed]",
      "text/plain": [
       "<Figure size 864x504 with 2 Axes>"
      ]
     },
     "metadata": {},
     "output_type": "display_data"
    },
    {
     "name": "stdout",
     "output_type": "stream",
     "text": [
      "-------------------- Precision matrix (Columm Sum=1) --------------------\n"
     ]
    },
    {
     "data": {
      "image/png": "[encoded data removed]",
      "text/plain": [
       "<Figure size 864x504 with 2 Axes>"
      ]
     },
     "metadata": {},
     "output_type": "display_data"
    },
    {
     "name": "stdout",
     "output_type": "stream",
     "text": [
      "-------------------- Recall matrix (Row sum=1) --------------------\n"
     ]
    },
    {
     "data": {
      "image/png": "[encoded data removed]",
      "text/plain": [
       "<Figure size 864x504 with 2 Axes>"
      ]
     },
     "metadata": {},
     "output_type": "display_data"
    }
   ],
   "source": [
    " print(\"-\"*20, \"Confusion matrix\", \"-\"*20)\n",
    "plt.figure(figsize=(12,7))\n",
    "sns.heatmap(C, annot=True, cmap=\"YlGnBu\", fmt=\"g\", xticklabels=labels, yticklabels=labels)\n",
    "plt.xlabel('Predicted Class')\n",
    "plt.ylabel('Original Class')\n",
    "plt.show()\n",
    "\n",
    "print(\"-\"*20, \"Precision matrix (Columm Sum=1)\", \"-\"*20)\n",
    "plt.figure(figsize=(12,7))\n",
    "sns.heatmap(B, annot=True, cmap=\"YlGnBu\", fmt=\".3f\", xticklabels=labels, yticklabels=labels)\n",
    " plt.xlabel('Predicted Class')\n",
    "plt.ylabel('Original Class')\n",
    "plt.show()\n",
    "    \n",
    "    # representing B in heatmap format\n",
    "print(\"-\"*20, \"Recall matrix (Row sum=1)\", \"-\"*20)\n",
    "plt.figure(figsize=(12,7))\n",
    "sns.heatmap(A, annot=True, cmap=\"YlGnBu\", fmt=\".3f\", xticklabels=labels, yticklabels=labels)\n",
    "plt.xlabel('Predicted Class')\n",
    "plt.ylabel('Original Class')\n",
    "plt.show()"
   ]
  },
  {
   "cell_type": "markdown",
   "metadata": {},
   "source": [
    "What if we decrease the value of C? How does it effect Sparsity and Error?\n",
    "\n",
    "C=1/ λ"
   ]
  },
  {
   "cell_type": "code",
   "execution_count": 36,
   "metadata": {},
   "outputs": [
    {
     "name": "stdout",
     "output_type": "stream",
     "text": [
      "5293\n"
     ]
    }
   ],
   "source": [
    "#Checking current non-zero elements\n",
    "a=np.array(LR_optimal.coef_)\n",
    "print(np.count_nonzero(a))"
   ]
  },
  {
   "cell_type": "code",
   "execution_count": 40,
   "metadata": {},
   "outputs": [],
   "source": [
    "#Decreasing the value of C\n",
    "#{'C': 0.01, 'class_weight': 'balanced'}\n",
    "LR_optimal=LogisticRegression(penalty='l1',C=0.001,class_weight='balanced')\n",
    "\n",
    "# fitting the model\n",
    "LR_optimal.fit(Bow_x_train, y_train)\n",
    "\n",
    "# predict the response\n",
    "pred_bow = LR_optimal.predict(Bow_x_test)\n",
    "\n",
    "# evaluate f1_score\n",
    "f1_score = f1_score(y_test, pred_bow)"
   ]
  },
  {
   "cell_type": "code",
   "execution_count": 41,
   "metadata": {},
   "outputs": [
    {
     "name": "stdout",
     "output_type": "stream",
     "text": [
      "245\n"
     ]
    }
   ],
   "source": [
    "#Checking  non-zero elements\n",
    "a=np.array(LR_optimal.coef_)\n",
    "print(np.count_nonzero(a))"
   ]
  },
  {
   "cell_type": "code",
   "execution_count": 43,
   "metadata": {},
   "outputs": [],
   "source": [
    "#Decreasing the value of C\n",
    "#{'C': 0.01, 'class_weight': 'balanced'}\n",
    "LR_optimal=LogisticRegression(penalty='l1',C=0.0001,class_weight='balanced')\n",
    "\n",
    "# fitting the model\n",
    "LR_optimal.fit(Bow_x_train, y_train)\n",
    "\n",
    "# predict the response\n",
    "pred_bow = LR_optimal.predict(Bow_x_test)\n",
    "\n",
    "# evaluate f1_score\n",
    "f1_score = f1_score(y_test, pred_bow)"
   ]
  },
  {
   "cell_type": "code",
   "execution_count": 44,
   "metadata": {},
   "outputs": [
    {
     "name": "stdout",
     "output_type": "stream",
     "text": [
      "1\n"
     ]
    }
   ],
   "source": [
    "#Checking  non-zero elements\n",
    "a=np.array(LR_optimal.coef_)\n",
    "print(np.count_nonzero(a))"
   ]
  },
  {
   "cell_type": "markdown",
   "metadata": {},
   "source": [
    "#### Tf-IDf"
   ]
  },
  {
   "cell_type": "code",
   "execution_count": 54,
   "metadata": {},
   "outputs": [
    {
     "name": "stdout",
     "output_type": "stream",
     "text": [
      "the type of count vectorizer  <class 'scipy.sparse.csr.csr_matrix'>\n",
      "the shape of out text BOW vectorizer  (80000, 1013943)\n",
      "the number of unique words  1013943\n"
     ]
    }
   ],
   "source": [
    "#Initiating Vectorizer\n",
    "count_vect = TfidfVectorizer(ngram_range=(1,2))\n",
    "\n",
    "#Train data\n",
    "vocabulary = count_vect.fit(x_train)\n",
    "Tfidf_x_train= count_vect.transform(x_train)\n",
    "print(\"the type of count vectorizer \",type(Tfidf_x_train))\n",
    "print(\"the shape of out text BOW vectorizer \",Tfidf_x_train.get_shape())\n",
    "print(\"the number of unique words \", Tfidf_x_train.get_shape()[1])"
   ]
  },
  {
   "cell_type": "code",
   "execution_count": 55,
   "metadata": {},
   "outputs": [
    {
     "name": "stdout",
     "output_type": "stream",
     "text": [
      "the type of count vectorizer  <class 'scipy.sparse.csr.csr_matrix'>\n",
      "the shape of out text BOW vectorizer  (20000, 1013943)\n",
      "the number of unique words  1013943\n"
     ]
    }
   ],
   "source": [
    "#Test data\n",
    "Tfidf_x_test= count_vect.transform(x_test)\n",
    "print(\"the type of count vectorizer \",type(Tfidf_x_test))\n",
    "print(\"the shape of out text BOW vectorizer \",Tfidf_x_test.get_shape())\n",
    "print(\"the number of unique words \", Tfidf_x_test.get_shape()[1])"
   ]
  },
  {
   "cell_type": "code",
   "execution_count": 56,
   "metadata": {},
   "outputs": [
    {
     "name": "stdout",
     "output_type": "stream",
     "text": [
      "(80000, 1013943)\n",
      "(20000, 1013943)\n"
     ]
    }
   ],
   "source": [
    "#Standardizing \n",
    "from sklearn.preprocessing import StandardScaler\n",
    "Standard=StandardScaler(with_mean=False)\n",
    "Tfidf_x_train = Standard.fit_transform(Tfidf_x_train)\n",
    "Tfidf_x_test = Standard.transform(Tfidf_x_test)\n",
    "\n",
    "print(Tfidf_x_train.shape)\n",
    "print(Tfidf_x_test.shape)"
   ]
  },
  {
   "cell_type": "markdown",
   "metadata": {},
   "source": [
    "#### Fitting Grid Search on Tf-Idf"
   ]
  },
  {
   "cell_type": "code",
   "execution_count": 59,
   "metadata": {},
   "outputs": [
    {
     "name": "stdout",
     "output_type": "stream",
     "text": [
      "0.5125440355342478\n",
      "{'C': 0.01, 'class_weight': 'balanced'}\n"
     ]
    }
   ],
   "source": [
    "grid.fit(Tfidf_x_train, y_train)\n",
    "\n",
    "# examine the best model\n",
    "print(grid.best_score_)\n",
    "print(grid.best_params_)"
   ]
  },
  {
   "cell_type": "code",
   "execution_count": 60,
   "metadata": {},
   "outputs": [
    {
     "data": {
      "text/plain": [
       "Text(0,0.5,'Cross-Validated Error')"
      ]
     },
     "execution_count": 60,
     "metadata": {},
     "output_type": "execute_result"
    },
    {
     "data": {
      "image/png": "[encoded data removed]",
      "text/plain": [
       "<Figure size 432x288 with 1 Axes>"
      ]
     },
     "metadata": {},
     "output_type": "display_data"
    }
   ],
   "source": [
    "#Plotting C v/s CV_error\n",
    "a=pd.DataFrame(grid.cv_results_)[['mean_test_score', 'std_test_score', 'params']]\n",
    "a['C'] = [d.get('C') for d in a['params']]\n",
    "b=a.sort_values(['C'])\n",
    "CV_Error=1-b['mean_test_score']\n",
    "C =b['C']\n",
    "\n",
    "\n",
    "plt.plot(C,CV_Error)\n",
    "plt.xlabel('C')\n",
    "plt.ylabel('Cross-Validated Error')"
   ]
  },
  {
   "cell_type": "code",
   "execution_count": 69,
   "metadata": {},
   "outputs": [
    {
     "name": "stdout",
     "output_type": "stream",
     "text": [
      "The overall f1_score for the Train Data is :  0.954717356687898\n",
      "The overall f1_score for the Test Data is :  0.679509632224168\n"
     ]
    }
   ],
   "source": [
    "\n",
    "#{'C': 0.01, 'class_weight': 'balanced'}\n",
    "LR_optimal=LogisticRegression(penalty='l1',C=0.01,class_weight='balanced')\n",
    "\n",
    "# fitting the model\n",
    "LR_optimal.fit(Tfidf_x_train, y_train)\n",
    "\n",
    "# predict the response\n",
    "pred_tfidf = LR_optimal.predict(Tfidf_x_test)\n",
    "\n",
    "# evaluate accuracy\n",
    "f1_score = f1_score(y_test, pred_tfidf)\n",
    "\n",
    "# Train & Test Error\n",
    "print(\"The overall f1_score for the Train Data is : \", metrics.f1_score(y_train,LR_optimal.predict(Tfidf_x_train)))\n",
    "print(\"The overall f1_score for the Test Data is : \", metrics.f1_score(y_test,pred_tfidf))"
   ]
  },
  {
   "cell_type": "markdown",
   "metadata": {},
   "source": [
    "Pertubation test"
   ]
  },
  {
   "cell_type": "code",
   "execution_count": 70,
   "metadata": {},
   "outputs": [],
   "source": [
    "# Re-training the model after adding noise\n",
    "Epsilon = np.random.normal(loc=0,scale =0.01)\n",
    "Noise_Tfidf_x_train=Tfidf_x_train\n",
    "Noise_Tfidf_x_train.data+=Epsilon"
   ]
  },
  {
   "cell_type": "code",
   "execution_count": 71,
   "metadata": {},
   "outputs": [
    {
     "name": "stdout",
     "output_type": "stream",
     "text": [
      "The overall f1_score for the Train Data is :  0.9545273631840796\n",
      "The overall f1_score for the Test Data is :  0.6779925795743019\n"
     ]
    }
   ],
   "source": [
    "from sklearn.metrics import f1_score\n",
    "#{'C': 0.01, 'class_weight': 'balanced'}\n",
    "LR_optimal_noise=LogisticRegression(penalty='l1',C=0.01,class_weight='balanced')\n",
    "\n",
    "# fitting the model\n",
    "LR_optimal_noise.fit(Noise_Tfidf_x_train, y_train)\n",
    "\n",
    "# predict the response\n",
    "pred_tfidf = LR_optimal_noise.predict(Tfidf_x_test)\n",
    "\n",
    "# evaluate accuracy\n",
    "f1_score = f1_score(y_test, pred_tfidf)\n",
    "\n",
    "# Train & Test Error\n",
    "print(\"The overall f1_score for the Train Data is : \", metrics.f1_score(y_train,LR_optimal.predict(Noise_Tfidf_x_train)))\n",
    "print(\"The overall f1_score for the Test Data is : \", metrics.f1_score(y_test,pred_tfidf))"
   ]
  },
  {
   "cell_type": "code",
   "execution_count": 72,
   "metadata": {},
   "outputs": [
    {
     "data": {
      "text/plain": [
       "(1013943,)"
      ]
     },
     "execution_count": 72,
     "metadata": {},
     "output_type": "execute_result"
    }
   ],
   "source": [
    "#Features\n",
    "feature_names = np.array(vocabulary.get_feature_names())\n",
    "feature_names.shape"
   ]
  },
  {
   "cell_type": "code",
   "execution_count": 76,
   "metadata": {},
   "outputs": [
    {
     "data": {
      "text/plain": [
       "(1, 1013943)"
      ]
     },
     "execution_count": 76,
     "metadata": {},
     "output_type": "execute_result"
    }
   ],
   "source": [
    "LR_optimal.coef_.shape"
   ]
  },
  {
   "cell_type": "code",
   "execution_count": 78,
   "metadata": {},
   "outputs": [
    {
     "data": {
      "text/plain": [
       "(1, 1013943)"
      ]
     },
     "execution_count": 78,
     "metadata": {},
     "output_type": "execute_result"
    }
   ],
   "source": [
    "LR_optimal_noise.coef_.shape"
   ]
  },
  {
   "cell_type": "code",
   "execution_count": 79,
   "metadata": {},
   "outputs": [
    {
     "data": {
      "text/html": [
       "<div>\n",
       "<style scoped>\n",
       "    .dataframe tbody tr th:only-of-type {\n",
       "        vertical-align: middle;\n",
       "    }\n",
       "\n",
       "    .dataframe tbody tr th {\n",
       "        vertical-align: top;\n",
       "    }\n",
       "\n",
       "    .dataframe thead th {\n",
       "        text-align: right;\n",
       "    }\n",
       "</style>\n",
       "<table border=\"1\" class=\"dataframe\">\n",
       "  <thead>\n",
       "    <tr style=\"text-align: right;\">\n",
       "      <th></th>\n",
       "      <th>0</th>\n",
       "      <th>1</th>\n",
       "      <th>2</th>\n",
       "    </tr>\n",
       "  </thead>\n",
       "  <tbody>\n",
       "    <tr>\n",
       "      <th>aaa</th>\n",
       "      <td>0.0</td>\n",
       "      <td>0.000000</td>\n",
       "      <td>NaN</td>\n",
       "    </tr>\n",
       "    <tr>\n",
       "      <th>aaa condit</th>\n",
       "      <td>0.0</td>\n",
       "      <td>0.000000</td>\n",
       "      <td>NaN</td>\n",
       "    </tr>\n",
       "    <tr>\n",
       "      <th>aaa perfect</th>\n",
       "      <td>0.0</td>\n",
       "      <td>0.000000</td>\n",
       "      <td>NaN</td>\n",
       "    </tr>\n",
       "    <tr>\n",
       "      <th>aaaaaaaaagghh</th>\n",
       "      <td>0.0</td>\n",
       "      <td>0.000000</td>\n",
       "      <td>NaN</td>\n",
       "    </tr>\n",
       "    <tr>\n",
       "      <th>aaaaah</th>\n",
       "      <td>0.0</td>\n",
       "      <td>0.000000</td>\n",
       "      <td>NaN</td>\n",
       "    </tr>\n",
       "    <tr>\n",
       "      <th>aaaaah awak</th>\n",
       "      <td>0.0</td>\n",
       "      <td>0.000000</td>\n",
       "      <td>NaN</td>\n",
       "    </tr>\n",
       "    <tr>\n",
       "      <th>aaaaah satisfi</th>\n",
       "      <td>0.0</td>\n",
       "      <td>0.000000</td>\n",
       "      <td>NaN</td>\n",
       "    </tr>\n",
       "    <tr>\n",
       "      <th>aaaaahhhhhhhhhhhhhhhh</th>\n",
       "      <td>0.0</td>\n",
       "      <td>0.000000</td>\n",
       "      <td>NaN</td>\n",
       "    </tr>\n",
       "    <tr>\n",
       "      <th>aaaaahhhhhhhhhhhhhhhh angel</th>\n",
       "      <td>0.0</td>\n",
       "      <td>0.000000</td>\n",
       "      <td>NaN</td>\n",
       "    </tr>\n",
       "    <tr>\n",
       "      <th>aaaah</th>\n",
       "      <td>0.0</td>\n",
       "      <td>0.000000</td>\n",
       "      <td>NaN</td>\n",
       "    </tr>\n",
       "    <tr>\n",
       "      <th>aaaah snob</th>\n",
       "      <td>0.0</td>\n",
       "      <td>0.000000</td>\n",
       "      <td>NaN</td>\n",
       "    </tr>\n",
       "    <tr>\n",
       "      <th>aaah</th>\n",
       "      <td>0.0</td>\n",
       "      <td>0.000000</td>\n",
       "      <td>NaN</td>\n",
       "    </tr>\n",
       "    <tr>\n",
       "      <th>aaah inhal</th>\n",
       "      <td>0.0</td>\n",
       "      <td>0.000000</td>\n",
       "      <td>NaN</td>\n",
       "    </tr>\n",
       "    <tr>\n",
       "      <th>aaah miss</th>\n",
       "      <td>0.0</td>\n",
       "      <td>0.000000</td>\n",
       "      <td>NaN</td>\n",
       "    </tr>\n",
       "    <tr>\n",
       "      <th>aaah sip</th>\n",
       "      <td>0.0</td>\n",
       "      <td>0.000000</td>\n",
       "      <td>NaN</td>\n",
       "    </tr>\n",
       "    <tr>\n",
       "      <th>aachen</th>\n",
       "      <td>0.0</td>\n",
       "      <td>0.000000</td>\n",
       "      <td>NaN</td>\n",
       "    </tr>\n",
       "    <tr>\n",
       "      <th>aachen munich</th>\n",
       "      <td>0.0</td>\n",
       "      <td>0.000000</td>\n",
       "      <td>NaN</td>\n",
       "    </tr>\n",
       "    <tr>\n",
       "      <th>aad</th>\n",
       "      <td>0.0</td>\n",
       "      <td>0.000000</td>\n",
       "      <td>NaN</td>\n",
       "    </tr>\n",
       "    <tr>\n",
       "      <th>aad sausag</th>\n",
       "      <td>0.0</td>\n",
       "      <td>0.000000</td>\n",
       "      <td>NaN</td>\n",
       "    </tr>\n",
       "    <tr>\n",
       "      <th>aadp</th>\n",
       "      <td>0.0</td>\n",
       "      <td>0.000000</td>\n",
       "      <td>NaN</td>\n",
       "    </tr>\n",
       "    <tr>\n",
       "      <th>aafco</th>\n",
       "      <td>0.0</td>\n",
       "      <td>0.000000</td>\n",
       "      <td>NaN</td>\n",
       "    </tr>\n",
       "    <tr>\n",
       "      <th>aafco also</th>\n",
       "      <td>0.0</td>\n",
       "      <td>0.000000</td>\n",
       "      <td>NaN</td>\n",
       "    </tr>\n",
       "    <tr>\n",
       "      <th>aafco certifi</th>\n",
       "      <td>0.0</td>\n",
       "      <td>0.000168</td>\n",
       "      <td>inf</td>\n",
       "    </tr>\n",
       "    <tr>\n",
       "      <th>aafco countri</th>\n",
       "      <td>0.0</td>\n",
       "      <td>0.000000</td>\n",
       "      <td>NaN</td>\n",
       "    </tr>\n",
       "    <tr>\n",
       "      <th>aafco definit</th>\n",
       "      <td>0.0</td>\n",
       "      <td>0.000000</td>\n",
       "      <td>NaN</td>\n",
       "    </tr>\n",
       "    <tr>\n",
       "      <th>aafco dog</th>\n",
       "      <td>0.0</td>\n",
       "      <td>0.000000</td>\n",
       "      <td>NaN</td>\n",
       "    </tr>\n",
       "    <tr>\n",
       "      <th>aafco guidelin</th>\n",
       "      <td>0.0</td>\n",
       "      <td>0.000000</td>\n",
       "      <td>NaN</td>\n",
       "    </tr>\n",
       "    <tr>\n",
       "      <th>aafco requir</th>\n",
       "      <td>0.0</td>\n",
       "      <td>0.000000</td>\n",
       "      <td>NaN</td>\n",
       "    </tr>\n",
       "    <tr>\n",
       "      <th>aagh</th>\n",
       "      <td>0.0</td>\n",
       "      <td>0.000000</td>\n",
       "      <td>NaN</td>\n",
       "    </tr>\n",
       "    <tr>\n",
       "      <th>aagh yelp</th>\n",
       "      <td>0.0</td>\n",
       "      <td>0.000000</td>\n",
       "      <td>NaN</td>\n",
       "    </tr>\n",
       "    <tr>\n",
       "      <th>...</th>\n",
       "      <td>...</td>\n",
       "      <td>...</td>\n",
       "      <td>...</td>\n",
       "    </tr>\n",
       "    <tr>\n",
       "      <th>zum heal</th>\n",
       "      <td>0.0</td>\n",
       "      <td>0.000000</td>\n",
       "      <td>NaN</td>\n",
       "    </tr>\n",
       "    <tr>\n",
       "      <th>zummi</th>\n",
       "      <td>0.0</td>\n",
       "      <td>0.000000</td>\n",
       "      <td>NaN</td>\n",
       "    </tr>\n",
       "    <tr>\n",
       "      <th>zummi love</th>\n",
       "      <td>0.0</td>\n",
       "      <td>0.000000</td>\n",
       "      <td>NaN</td>\n",
       "    </tr>\n",
       "    <tr>\n",
       "      <th>zummi tast</th>\n",
       "      <td>0.0</td>\n",
       "      <td>0.000000</td>\n",
       "      <td>NaN</td>\n",
       "    </tr>\n",
       "    <tr>\n",
       "      <th>zummi tri</th>\n",
       "      <td>0.0</td>\n",
       "      <td>0.000000</td>\n",
       "      <td>NaN</td>\n",
       "    </tr>\n",
       "    <tr>\n",
       "      <th>zune</th>\n",
       "      <td>0.0</td>\n",
       "      <td>0.000000</td>\n",
       "      <td>NaN</td>\n",
       "    </tr>\n",
       "    <tr>\n",
       "      <th>zune video</th>\n",
       "      <td>0.0</td>\n",
       "      <td>0.000000</td>\n",
       "      <td>NaN</td>\n",
       "    </tr>\n",
       "    <tr>\n",
       "      <th>zupreem</th>\n",
       "      <td>0.0</td>\n",
       "      <td>0.000000</td>\n",
       "      <td>NaN</td>\n",
       "    </tr>\n",
       "    <tr>\n",
       "      <th>zupreem ferret</th>\n",
       "      <td>0.0</td>\n",
       "      <td>0.000000</td>\n",
       "      <td>NaN</td>\n",
       "    </tr>\n",
       "    <tr>\n",
       "      <th>zurich</th>\n",
       "      <td>0.0</td>\n",
       "      <td>0.000000</td>\n",
       "      <td>NaN</td>\n",
       "    </tr>\n",
       "    <tr>\n",
       "      <th>zurich schnatzlet</th>\n",
       "      <td>0.0</td>\n",
       "      <td>0.000000</td>\n",
       "      <td>NaN</td>\n",
       "    </tr>\n",
       "    <tr>\n",
       "      <th>zwar</th>\n",
       "      <td>0.0</td>\n",
       "      <td>0.000000</td>\n",
       "      <td>NaN</td>\n",
       "    </tr>\n",
       "    <tr>\n",
       "      <th>zwar billig</th>\n",
       "      <td>0.0</td>\n",
       "      <td>0.000000</td>\n",
       "      <td>NaN</td>\n",
       "    </tr>\n",
       "    <tr>\n",
       "      <th>zwieback</th>\n",
       "      <td>0.0</td>\n",
       "      <td>0.000000</td>\n",
       "      <td>NaN</td>\n",
       "    </tr>\n",
       "    <tr>\n",
       "      <th>zwieback toast</th>\n",
       "      <td>0.0</td>\n",
       "      <td>0.000000</td>\n",
       "      <td>NaN</td>\n",
       "    </tr>\n",
       "    <tr>\n",
       "      <th>zwiebeck</th>\n",
       "      <td>0.0</td>\n",
       "      <td>0.000000</td>\n",
       "      <td>NaN</td>\n",
       "    </tr>\n",
       "    <tr>\n",
       "      <th>zwiebeck toast</th>\n",
       "      <td>0.0</td>\n",
       "      <td>0.000000</td>\n",
       "      <td>NaN</td>\n",
       "    </tr>\n",
       "    <tr>\n",
       "      <th>zydeco</th>\n",
       "      <td>0.0</td>\n",
       "      <td>0.000000</td>\n",
       "      <td>NaN</td>\n",
       "    </tr>\n",
       "    <tr>\n",
       "      <th>zydeco saturday</th>\n",
       "      <td>0.0</td>\n",
       "      <td>0.000000</td>\n",
       "      <td>NaN</td>\n",
       "    </tr>\n",
       "    <tr>\n",
       "      <th>zzzzzs</th>\n",
       "      <td>0.0</td>\n",
       "      <td>0.000000</td>\n",
       "      <td>NaN</td>\n",
       "    </tr>\n",
       "    <tr>\n",
       "      <th>zzzzzs larg</th>\n",
       "      <td>0.0</td>\n",
       "      <td>0.000000</td>\n",
       "      <td>NaN</td>\n",
       "    </tr>\n",
       "    <tr>\n",
       "      <th>zzzzzz</th>\n",
       "      <td>0.0</td>\n",
       "      <td>0.000000</td>\n",
       "      <td>NaN</td>\n",
       "    </tr>\n",
       "    <tr>\n",
       "      <th>zzzzzz say</th>\n",
       "      <td>0.0</td>\n",
       "      <td>0.000000</td>\n",
       "      <td>NaN</td>\n",
       "    </tr>\n",
       "    <tr>\n",
       "      <th>zzzzzzz</th>\n",
       "      <td>0.0</td>\n",
       "      <td>0.000000</td>\n",
       "      <td>NaN</td>\n",
       "    </tr>\n",
       "    <tr>\n",
       "      <th>zzzzzzz high</th>\n",
       "      <td>0.0</td>\n",
       "      <td>0.000000</td>\n",
       "      <td>NaN</td>\n",
       "    </tr>\n",
       "    <tr>\n",
       "      <th>zzzzzzzz</th>\n",
       "      <td>0.0</td>\n",
       "      <td>0.000000</td>\n",
       "      <td>NaN</td>\n",
       "    </tr>\n",
       "    <tr>\n",
       "      <th>zzzzzzzzzz</th>\n",
       "      <td>0.0</td>\n",
       "      <td>0.000000</td>\n",
       "      <td>NaN</td>\n",
       "    </tr>\n",
       "    <tr>\n",
       "      <th>zzzzzzzzzz final</th>\n",
       "      <td>0.0</td>\n",
       "      <td>0.000000</td>\n",
       "      <td>NaN</td>\n",
       "    </tr>\n",
       "    <tr>\n",
       "      <th>zzzzzzzzzzz</th>\n",
       "      <td>0.0</td>\n",
       "      <td>0.000000</td>\n",
       "      <td>NaN</td>\n",
       "    </tr>\n",
       "    <tr>\n",
       "      <th>çay</th>\n",
       "      <td>0.0</td>\n",
       "      <td>0.000000</td>\n",
       "      <td>NaN</td>\n",
       "    </tr>\n",
       "  </tbody>\n",
       "</table>\n",
       "<p>1013943 rows × 3 columns</p>\n",
       "</div>"
      ],
      "text/plain": [
       "                               0         1    2\n",
       "aaa                          0.0  0.000000  NaN\n",
       "aaa condit                   0.0  0.000000  NaN\n",
       "aaa perfect                  0.0  0.000000  NaN\n",
       "aaaaaaaaagghh                0.0  0.000000  NaN\n",
       "aaaaah                       0.0  0.000000  NaN\n",
       "aaaaah awak                  0.0  0.000000  NaN\n",
       "aaaaah satisfi               0.0  0.000000  NaN\n",
       "aaaaahhhhhhhhhhhhhhhh        0.0  0.000000  NaN\n",
       "aaaaahhhhhhhhhhhhhhhh angel  0.0  0.000000  NaN\n",
       "aaaah                        0.0  0.000000  NaN\n",
       "aaaah snob                   0.0  0.000000  NaN\n",
       "aaah                         0.0  0.000000  NaN\n",
       "aaah inhal                   0.0  0.000000  NaN\n",
       "aaah miss                    0.0  0.000000  NaN\n",
       "aaah sip                     0.0  0.000000  NaN\n",
       "aachen                       0.0  0.000000  NaN\n",
       "aachen munich                0.0  0.000000  NaN\n",
       "aad                          0.0  0.000000  NaN\n",
       "aad sausag                   0.0  0.000000  NaN\n",
       "aadp                         0.0  0.000000  NaN\n",
       "aafco                        0.0  0.000000  NaN\n",
       "aafco also                   0.0  0.000000  NaN\n",
       "aafco certifi                0.0  0.000168  inf\n",
       "aafco countri                0.0  0.000000  NaN\n",
       "aafco definit                0.0  0.000000  NaN\n",
       "aafco dog                    0.0  0.000000  NaN\n",
       "aafco guidelin               0.0  0.000000  NaN\n",
       "aafco requir                 0.0  0.000000  NaN\n",
       "aagh                         0.0  0.000000  NaN\n",
       "aagh yelp                    0.0  0.000000  NaN\n",
       "...                          ...       ...  ...\n",
       "zum heal                     0.0  0.000000  NaN\n",
       "zummi                        0.0  0.000000  NaN\n",
       "zummi love                   0.0  0.000000  NaN\n",
       "zummi tast                   0.0  0.000000  NaN\n",
       "zummi tri                    0.0  0.000000  NaN\n",
       "zune                         0.0  0.000000  NaN\n",
       "zune video                   0.0  0.000000  NaN\n",
       "zupreem                      0.0  0.000000  NaN\n",
       "zupreem ferret               0.0  0.000000  NaN\n",
       "zurich                       0.0  0.000000  NaN\n",
       "zurich schnatzlet            0.0  0.000000  NaN\n",
       "zwar                         0.0  0.000000  NaN\n",
       "zwar billig                  0.0  0.000000  NaN\n",
       "zwieback                     0.0  0.000000  NaN\n",
       "zwieback toast               0.0  0.000000  NaN\n",
       "zwiebeck                     0.0  0.000000  NaN\n",
       "zwiebeck toast               0.0  0.000000  NaN\n",
       "zydeco                       0.0  0.000000  NaN\n",
       "zydeco saturday              0.0  0.000000  NaN\n",
       "zzzzzs                       0.0  0.000000  NaN\n",
       "zzzzzs larg                  0.0  0.000000  NaN\n",
       "zzzzzz                       0.0  0.000000  NaN\n",
       "zzzzzz say                   0.0  0.000000  NaN\n",
       "zzzzzzz                      0.0  0.000000  NaN\n",
       "zzzzzzz high                 0.0  0.000000  NaN\n",
       "zzzzzzzz                     0.0  0.000000  NaN\n",
       "zzzzzzzzzz                   0.0  0.000000  NaN\n",
       "zzzzzzzzzz final             0.0  0.000000  NaN\n",
       "zzzzzzzzzzz                  0.0  0.000000  NaN\n",
       "çay                          0.0  0.000000  NaN\n",
       "\n",
       "[1013943 rows x 3 columns]"
      ]
     },
     "execution_count": 79,
     "metadata": {},
     "output_type": "execute_result"
    }
   ],
   "source": [
    "merge_arr = np.concatenate([LR_optimal.coef_, LR_optimal_noise.coef_], axis=0)\n",
    "merge=pd.DataFrame(data=merge_arr,columns=feature_names).transpose()\n",
    "merge[2]=((merge[1]-merge[0])/merge[0])*100\n",
    "merge"
   ]
  },
  {
   "cell_type": "code",
   "execution_count": 80,
   "metadata": {},
   "outputs": [
    {
     "data": {
      "text/plain": [
       "(12588, 3)"
      ]
     },
     "execution_count": 80,
     "metadata": {},
     "output_type": "execute_result"
    }
   ],
   "source": [
    "merge[merge[2]>30].shape"
   ]
  },
  {
   "cell_type": "markdown",
   "metadata": {},
   "source": [
    "12588 features out of 1013943 shows percentage change > 30 post pertubation test i.e 1.24%\n",
    "\n",
    "We can say that our data isn't affected by multicollinearity"
   ]
  },
  {
   "cell_type": "code",
   "execution_count": 82,
   "metadata": {},
   "outputs": [],
   "source": [
    "feature_names = np.array(vocabulary.get_feature_names())\n",
    "sorted_coef_index = LR_optimal.coef_[0].argsort()"
   ]
  },
  {
   "cell_type": "code",
   "execution_count": 83,
   "metadata": {},
   "outputs": [
    {
     "name": "stdout",
     "output_type": "stream",
     "text": [
      "great,best,love,delici,good,perfect,excel,high recommend,favorit,wonder,nice,find,tasti,amaz,keep,alway,enjoy,addict,thank,easi,\n"
     ]
    }
   ],
   "source": [
    "#Top 20 positive features\n",
    "p=feature_names[sorted_coef_index[:20]]\n",
    "\n",
    "sp = \"\"\n",
    "for i in p:\n",
    "    sp += str(i)+\",\"\n",
    "print(sp)"
   ]
  },
  {
   "cell_type": "code",
   "execution_count": 84,
   "metadata": {},
   "outputs": [
    {
     "name": "stdout",
     "output_type": "stream",
     "text": [
      "disappoint,worst,terribl,aw,threw,horribl,return,stale,wast money,two star,wont buy,bad,bland,unfortun,thought,refund,sorri,wors,weak,mayb,\n"
     ]
    }
   ],
   "source": [
    "n=feature_names[sorted_coef_index[:-21:-1]]\n",
    "\n",
    "sn = \"\"\n",
    "for i in n:\n",
    "    sn += str(i)+\",\"\n",
    "print(sn)"
   ]
  },
  {
   "cell_type": "code",
   "execution_count": 85,
   "metadata": {},
   "outputs": [
    {
     "name": "stdout",
     "output_type": "stream",
     "text": [
      "************ Top 20 Negative words *******************\n"
     ]
    },
    {
     "data": {
      "image/png": "[encoded data removed]",
      "text/plain": [
       "<Figure size 360x360 with 1 Axes>"
      ]
     },
     "metadata": {},
     "output_type": "display_data"
    },
    {
     "name": "stdout",
     "output_type": "stream",
     "text": [
      "************ Top 20 Positive words *******************\n"
     ]
    },
    {
     "data": {
      "image/png": "[encoded data removed]",
      "text/plain": [
       "<Figure size 360x360 with 1 Axes>"
      ]
     },
     "metadata": {},
     "output_type": "display_data"
    }
   ],
   "source": [
    "print(\"************ Top 20 Negative words *******************\")\n",
    "wordcloud = WordCloud(width = 800, height = 800, \n",
    "                background_color ='black', \n",
    "                min_font_size = 10).generate(sn) \n",
    "  \n",
    "# plot the WordCloud image                        \n",
    "plt.figure(figsize = (5,5), facecolor = None) \n",
    "plt.imshow(wordcloud) \n",
    "plt.axis(\"off\") \n",
    "plt.tight_layout(pad = 0) \n",
    "plt.show()\n",
    "\n",
    "\n",
    "print(\"************ Top 20 Positive words *******************\")\n",
    "wordcloud = WordCloud(width = 800, height = 800, \n",
    "                background_color ='black', \n",
    "                min_font_size = 10).generate(sp) \n",
    "  \n",
    "# plot the WordCloud image                        \n",
    "plt.figure(figsize = (5,5), facecolor = None) \n",
    "plt.imshow(wordcloud) \n",
    "plt.axis(\"off\") \n",
    "plt.tight_layout(pad = 0) \n",
    "plt.show()"
   ]
  },
  {
   "cell_type": "code",
   "execution_count": 86,
   "metadata": {},
   "outputs": [],
   "source": [
    "#Confusion matrix\n",
    "C = confusion_matrix(y_test, pred_tfidf)\n",
    "A =(((C.T)/(C.sum(axis=1))).T)\n",
    "B =(C/C.sum(axis=0))\n",
    "labels = [0,1]"
   ]
  },
  {
   "cell_type": "code",
   "execution_count": 87,
   "metadata": {},
   "outputs": [
    {
     "name": "stdout",
     "output_type": "stream",
     "text": [
      "-------------------- Confusion matrix --------------------\n"
     ]
    },
    {
     "data": {
      "image/png": "[encoded data removed]",
      "text/plain": [
       "<Figure size 864x504 with 2 Axes>"
      ]
     },
     "metadata": {},
     "output_type": "display_data"
    },
    {
     "name": "stdout",
     "output_type": "stream",
     "text": [
      "-------------------- Precision matrix (Columm Sum=1) --------------------\n"
     ]
    },
    {
     "data": {
      "image/png": "[encoded data removed]",
      "text/plain": [
       "<Figure size 864x504 with 2 Axes>"
      ]
     },
     "metadata": {},
     "output_type": "display_data"
    },
    {
     "name": "stdout",
     "output_type": "stream",
     "text": [
      "-------------------- Recall matrix (Row sum=1) --------------------\n"
     ]
    },
    {
     "data": {
      "image/png": "[encoded data removed]",
      "text/plain": [
       "<Figure size 864x504 with 2 Axes>"
      ]
     },
     "metadata": {},
     "output_type": "display_data"
    }
   ],
   "source": [
    " print(\"-\"*20, \"Confusion matrix\", \"-\"*20)\n",
    "plt.figure(figsize=(12,7))\n",
    "sns.heatmap(C, annot=True, cmap=\"YlGnBu\", fmt=\"g\", xticklabels=labels, yticklabels=labels)\n",
    "plt.xlabel('Predicted Class')\n",
    "plt.ylabel('Original Class')\n",
    "plt.show()\n",
    "\n",
    "print(\"-\"*20, \"Precision matrix (Columm Sum=1)\", \"-\"*20)\n",
    "plt.figure(figsize=(12,7))\n",
    "sns.heatmap(B, annot=True, cmap=\"YlGnBu\", fmt=\".3f\", xticklabels=labels, yticklabels=labels)\n",
    " plt.xlabel('Predicted Class')\n",
    "plt.ylabel('Original Class')\n",
    "plt.show()\n",
    "    \n",
    "    # representing B in heatmap format\n",
    "print(\"-\"*20, \"Recall matrix (Row sum=1)\", \"-\"*20)\n",
    "plt.figure(figsize=(12,7))\n",
    "sns.heatmap(A, annot=True, cmap=\"YlGnBu\", fmt=\".3f\", xticklabels=labels, yticklabels=labels)\n",
    "plt.xlabel('Predicted Class')\n",
    "plt.ylabel('Original Class')\n",
    "plt.show()"
   ]
  },
  {
   "cell_type": "markdown",
   "metadata": {},
   "source": [
    "What if we decrease the value of C? How does it effect Sparsity and Error?\n",
    "\n",
    "C=1/ λ"
   ]
  },
  {
   "cell_type": "code",
   "execution_count": 88,
   "metadata": {},
   "outputs": [
    {
     "name": "stdout",
     "output_type": "stream",
     "text": [
      "31591\n"
     ]
    }
   ],
   "source": [
    "#Checking current non-zero elements\n",
    "a=np.array(LR_optimal.coef_)\n",
    "print(np.count_nonzero(a))"
   ]
  },
  {
   "cell_type": "code",
   "execution_count": 89,
   "metadata": {},
   "outputs": [],
   "source": [
    "#Decreasing value of c\n",
    "#{'C': 0.01, 'class_weight': 'balanced'}\n",
    "LR_optimal=LogisticRegression(penalty='l1',C=0.001,class_weight='balanced')\n",
    "\n",
    "# fitting the model\n",
    "LR_optimal.fit(Tfidf_x_train, y_train)\n",
    "\n",
    "# predict the response\n",
    "pred_tfidf = LR_optimal.predict(Tfidf_x_test)\n",
    "\n",
    "# evaluate accuracy\n",
    "f1_score = f1_score(y_test, pred_tfidf)"
   ]
  },
  {
   "cell_type": "code",
   "execution_count": 90,
   "metadata": {},
   "outputs": [
    {
     "name": "stdout",
     "output_type": "stream",
     "text": [
      "577\n"
     ]
    }
   ],
   "source": [
    "#Checking current non-zero elements\n",
    "a=np.array(LR_optimal.coef_)\n",
    "print(np.count_nonzero(a))"
   ]
  },
  {
   "cell_type": "code",
   "execution_count": 91,
   "metadata": {},
   "outputs": [],
   "source": [
    "#Decreasing value of c\n",
    "#{'C': 0.01, 'class_weight': 'balanced'}\n",
    "LR_optimal=LogisticRegression(penalty='l1',C=0.0001,class_weight='balanced')\n",
    "\n",
    "# fitting the model\n",
    "LR_optimal.fit(Tfidf_x_train, y_train)\n",
    "\n",
    "# predict the response\n",
    "pred_tfidf = LR_optimal.predict(Tfidf_x_test)\n",
    "\n",
    "# evaluate accuracy\n",
    "f1_score = f1_score(y_test, pred_tfidf)"
   ]
  },
  {
   "cell_type": "code",
   "execution_count": 92,
   "metadata": {},
   "outputs": [
    {
     "name": "stdout",
     "output_type": "stream",
     "text": [
      "1\n"
     ]
    }
   ],
   "source": [
    "#Checking current non-zero elements\n",
    "a=np.array(LR_optimal.coef_)\n",
    "print(np.count_nonzero(a))"
   ]
  },
  {
   "cell_type": "markdown",
   "metadata": {},
   "source": [
    "#### Avg-W2Vec"
   ]
  },
  {
   "cell_type": "code",
   "execution_count": 93,
   "metadata": {},
   "outputs": [],
   "source": [
    "#W2V list of Training data\n",
    "i=0\n",
    "list_of_sent_train=[]\n",
    "for sent in train_data['CleanedText'].values:\n",
    "    list_of_sent_train.append(sent.split())"
   ]
  },
  {
   "cell_type": "code",
   "execution_count": 94,
   "metadata": {},
   "outputs": [],
   "source": [
    "#W2V List of Test data\n",
    "i=0\n",
    "list_of_sent_test=[]\n",
    "for sent in test_data['CleanedText'].values:\n",
    "    list_of_sent_test.append(sent.split())"
   ]
  },
  {
   "cell_type": "code",
   "execution_count": 95,
   "metadata": {},
   "outputs": [],
   "source": [
    "#Training W2V train model\n",
    "# min_count = 5 considers only words that occured atleast 5 times\n",
    "w2v_model_train=Word2Vec(list_of_sent_train,min_count=5,size=50, workers=6)"
   ]
  },
  {
   "cell_type": "code",
   "execution_count": 96,
   "metadata": {},
   "outputs": [
    {
     "name": "stdout",
     "output_type": "stream",
     "text": [
      "number of words that occured minimum 5 times  11361\n",
      "sample words  ['witti', 'littl', 'book', 'make', 'son', 'laugh', 'loud', 'car', 'drive', 'along', 'alway', 'sing', 'refrain', 'hes', 'learn', 'whale', 'india', 'droop', 'love', 'new', 'word', 'introduc', 'silli', 'classic', 'will', 'bet', 'still', 'abl', 'memori', 'colleg', 'rememb', 'see', 'show', 'air', 'televis', 'year', 'ago', 'child', 'sister', 'later', 'bought', 'day', 'thirti', 'someth', 'use', 'seri', 'song', 'student', 'teach', 'preschool']\n"
     ]
    }
   ],
   "source": [
    "w2v_words_train = list(w2v_model_train.wv.vocab)\n",
    "print(\"number of words that occured minimum 5 times \",len(w2v_words_train))\n",
    "print(\"sample words \", w2v_words_train[0:50])"
   ]
  },
  {
   "cell_type": "code",
   "execution_count": 97,
   "metadata": {},
   "outputs": [
    {
     "name": "stdout",
     "output_type": "stream",
     "text": [
      "80000\n",
      "50\n"
     ]
    }
   ],
   "source": [
    "#Train data\n",
    "# average Word2Vec\n",
    "# compute average word2vec for each review.\n",
    "sent_vectors_train_avgw2v = []; # the avg-w2v for each sentence/review is stored in this list\n",
    "for sent in list_of_sent_train: # for each review/sentence\n",
    "    sent_vec = np.zeros(50) # as word vectors are of zero length\n",
    "    cnt_words =0; # num of words with a valid vector in the sentence/review\n",
    "    for word in sent: # for each word in a review/sentence\n",
    "        if word in w2v_words_train:\n",
    "            vec = w2v_model_train.wv[word]\n",
    "            sent_vec += vec\n",
    "            cnt_words += 1\n",
    "    if cnt_words != 0:\n",
    "        sent_vec /= cnt_words\n",
    "    sent_vectors_train_avgw2v.append(sent_vec)\n",
    "print(len(sent_vectors_train_avgw2v))\n",
    "print(len(sent_vectors_train_avgw2v[0]))"
   ]
  },
  {
   "cell_type": "code",
   "execution_count": 98,
   "metadata": {},
   "outputs": [
    {
     "name": "stdout",
     "output_type": "stream",
     "text": [
      "20000\n",
      "50\n"
     ]
    }
   ],
   "source": [
    "#Test data\n",
    "# average Word2Vec\n",
    "# compute average word2vec for each review.\n",
    "sent_vectors_test_avgw2v = []; # the avg-w2v for each sentence/review is stored in this list\n",
    "for sent in list_of_sent_test: # for each review/sentence\n",
    "    sent_vec = np.zeros(50) # as word vectors are of zero length\n",
    "    cnt_words =0; # num of words with a valid vector in the sentence/review\n",
    "    for word in sent: # for each word in a review/sentence\n",
    "        if word in w2v_words_train:\n",
    "            vec = w2v_model_train.wv[word]\n",
    "            sent_vec += vec\n",
    "            cnt_words += 1\n",
    "    if cnt_words != 0:\n",
    "        sent_vec /= cnt_words\n",
    "    sent_vectors_test_avgw2v.append(sent_vec)\n",
    "print(len(sent_vectors_test_avgw2v))\n",
    "print(len(sent_vectors_test_avgw2v[0]))"
   ]
  },
  {
   "cell_type": "code",
   "execution_count": 99,
   "metadata": {},
   "outputs": [
    {
     "name": "stdout",
     "output_type": "stream",
     "text": [
      "(80000, 50)\n",
      "(20000, 50)\n"
     ]
    }
   ],
   "source": [
    "#Standardizing Avg-W2v\n",
    "from sklearn.preprocessing import StandardScaler\n",
    "\n",
    "Standard=StandardScaler()\n",
    "sent_vectors_train_avgw2v = Standard.fit_transform(sent_vectors_train_avgw2v)\n",
    "sent_vectors_test_avgw2v = Standard.transform(sent_vectors_test_avgw2v)\n",
    "\n",
    "print(sent_vectors_train_avgw2v.shape)\n",
    "print(sent_vectors_test_avgw2v.shape)"
   ]
  },
  {
   "cell_type": "markdown",
   "metadata": {},
   "source": [
    "#### Fitting grid search on Avg-W2V"
   ]
  },
  {
   "cell_type": "code",
   "execution_count": 100,
   "metadata": {},
   "outputs": [
    {
     "name": "stdout",
     "output_type": "stream",
     "text": [
      "0.5141808414956328\n",
      "{'C': 5, 'class_weight': 'balanced'}\n"
     ]
    }
   ],
   "source": [
    "grid.fit(sent_vectors_train_avgw2v, y_train)\n",
    "\n",
    "# examine the best model\n",
    "print(grid.best_score_)\n",
    "print(grid.best_params_)"
   ]
  },
  {
   "cell_type": "code",
   "execution_count": 101,
   "metadata": {},
   "outputs": [
    {
     "data": {
      "text/plain": [
       "Text(0,0.5,'Cross-Validated Error')"
      ]
     },
     "execution_count": 101,
     "metadata": {},
     "output_type": "execute_result"
    },
    {
     "data": {
      "image/png": "[encoded data removed]",
      "text/plain": [
       "<Figure size 432x288 with 1 Axes>"
      ]
     },
     "metadata": {},
     "output_type": "display_data"
    }
   ],
   "source": [
    "#Plotting C v/s CV_error\n",
    "a=pd.DataFrame(grid.cv_results_)[['mean_test_score', 'std_test_score', 'params']]\n",
    "a['C'] = [d.get('C') for d in a['params']]\n",
    "b=a.sort_values(['C'])\n",
    "CV_Error=1-b['mean_test_score']\n",
    "C =b['C']\n",
    "\n",
    "\n",
    "plt.plot(C,CV_Error)\n",
    "plt.xlabel('C')\n",
    "plt.ylabel('Cross-Validated Error')"
   ]
  },
  {
   "cell_type": "code",
   "execution_count": 102,
   "metadata": {},
   "outputs": [
    {
     "name": "stdout",
     "output_type": "stream",
     "text": [
      "The overall f1_score for the Train Data is :  0.5156973751930005\n",
      "The overall f1_score for the Test Data is :  0.5372252422595132\n"
     ]
    }
   ],
   "source": [
    "\n",
    "#{'C': 5, 'class_weight': 'balanced'}\n",
    "LR_optimal=LogisticRegression(penalty='l1',C=5,class_weight='balanced')\n",
    "\n",
    "# fitting the model\n",
    "LR_optimal.fit(sent_vectors_train_avgw2v, y_train)\n",
    "\n",
    "# predict the response\n",
    "pred_avg_w2v = LR_optimal.predict(sent_vectors_test_avgw2v)\n",
    "\n",
    "# evaluate f1_score\n",
    "f1_score = f1_score(y_test, pred_avg_w2v)\n",
    "\n",
    "# Train & Test Error\n",
    "print(\"The overall f1_score for the Train Data is : \", metrics.f1_score(y_train,LR_optimal.predict(sent_vectors_train_avgw2v)))\n",
    "print(\"The overall f1_score for the Test Data is : \", metrics.f1_score(y_test,pred_avg_w2v))"
   ]
  },
  {
   "cell_type": "code",
   "execution_count": 103,
   "metadata": {},
   "outputs": [],
   "source": [
    "#Confusion matrix\n",
    "C = confusion_matrix(y_test, pred_avg_w2v)\n",
    "A =(((C.T)/(C.sum(axis=1))).T)\n",
    "B =(C/C.sum(axis=0))\n",
    "labels = [0,1]"
   ]
  },
  {
   "cell_type": "code",
   "execution_count": 104,
   "metadata": {},
   "outputs": [
    {
     "name": "stdout",
     "output_type": "stream",
     "text": [
      "-------------------- Confusion matrix --------------------\n"
     ]
    },
    {
     "data": {
      "image/png": "[encoded data removed]",
      "text/plain": [
       "<Figure size 864x504 with 2 Axes>"
      ]
     },
     "metadata": {},
     "output_type": "display_data"
    },
    {
     "name": "stdout",
     "output_type": "stream",
     "text": [
      "-------------------- Precision matrix (Columm Sum=1) --------------------\n"
     ]
    },
    {
     "data": {
      "image/png": "[encoded data removed]",
      "text/plain": [
       "<Figure size 864x504 with 2 Axes>"
      ]
     },
     "metadata": {},
     "output_type": "display_data"
    },
    {
     "name": "stdout",
     "output_type": "stream",
     "text": [
      "-------------------- Recall matrix (Row sum=1) --------------------\n"
     ]
    },
    {
     "data": {
      "image/png": "[encoded data removed]",
      "text/plain": [
       "<Figure size 864x504 with 2 Axes>"
      ]
     },
     "metadata": {},
     "output_type": "display_data"
    }
   ],
   "source": [
    " print(\"-\"*20, \"Confusion matrix\", \"-\"*20)\n",
    "plt.figure(figsize=(12,7))\n",
    "sns.heatmap(C, annot=True, cmap=\"YlGnBu\", fmt=\"g\", xticklabels=labels, yticklabels=labels)\n",
    "plt.xlabel('Predicted Class')\n",
    "plt.ylabel('Original Class')\n",
    "plt.show()\n",
    "\n",
    "print(\"-\"*20, \"Precision matrix (Columm Sum=1)\", \"-\"*20)\n",
    "plt.figure(figsize=(12,7))\n",
    "sns.heatmap(B, annot=True, cmap=\"YlGnBu\", fmt=\".3f\", xticklabels=labels, yticklabels=labels)\n",
    " plt.xlabel('Predicted Class')\n",
    "plt.ylabel('Original Class')\n",
    "plt.show()\n",
    "    \n",
    "    # representing B in heatmap format\n",
    "print(\"-\"*20, \"Recall matrix (Row sum=1)\", \"-\"*20)\n",
    "plt.figure(figsize=(12,7))\n",
    "sns.heatmap(A, annot=True, cmap=\"YlGnBu\", fmt=\".3f\", xticklabels=labels, yticklabels=labels)\n",
    "plt.xlabel('Predicted Class')\n",
    "plt.ylabel('Original Class')\n",
    "plt.show()"
   ]
  },
  {
   "cell_type": "markdown",
   "metadata": {},
   "source": [
    "What if we decrease the value of C? How does it effect Sparsity and Error?\n",
    "\n",
    "C=1/ λ"
   ]
  },
  {
   "cell_type": "code",
   "execution_count": 105,
   "metadata": {},
   "outputs": [
    {
     "name": "stdout",
     "output_type": "stream",
     "text": [
      "50\n"
     ]
    }
   ],
   "source": [
    "#Checking current non-zero elements\n",
    "a=np.array(LR_optimal.coef_)\n",
    "print(np.count_nonzero(a))"
   ]
  },
  {
   "cell_type": "code",
   "execution_count": 106,
   "metadata": {},
   "outputs": [],
   "source": [
    "#Decrese the value of C\n",
    "#{'C': 5, 'class_weight': 'balanced'}\n",
    "LR_optimal=LogisticRegression(penalty='l1',C=0.1,class_weight='balanced')\n",
    "\n",
    "# fitting the model\n",
    "LR_optimal.fit(sent_vectors_train_avgw2v, y_train)\n",
    "\n",
    "# predict the response\n",
    "pred_avg_w2v = LR_optimal.predict(sent_vectors_test_avgw2v)\n",
    "\n",
    "# evaluate f1_score\n",
    "f1_score = f1_score(y_test, pred_avg_w2v)"
   ]
  },
  {
   "cell_type": "code",
   "execution_count": 107,
   "metadata": {},
   "outputs": [
    {
     "name": "stdout",
     "output_type": "stream",
     "text": [
      "50\n"
     ]
    }
   ],
   "source": [
    "a=np.array(LR_optimal.coef_)\n",
    "print(np.count_nonzero(a))"
   ]
  },
  {
   "cell_type": "code",
   "execution_count": 108,
   "metadata": {},
   "outputs": [],
   "source": [
    "#Decrese the value of C\n",
    "#{'C': 5, 'class_weight': 'balanced'}\n",
    "LR_optimal=LogisticRegression(penalty='l1',C=0.001,class_weight='balanced')\n",
    "\n",
    "# fitting the model\n",
    "LR_optimal.fit(sent_vectors_train_avgw2v, y_train)\n",
    "\n",
    "# predict the response\n",
    "pred_avg_w2v = LR_optimal.predict(sent_vectors_test_avgw2v)\n",
    "\n",
    "# evaluate f1_score\n",
    "f1_score = f1_score(y_test, pred_avg_w2v)"
   ]
  },
  {
   "cell_type": "code",
   "execution_count": 109,
   "metadata": {},
   "outputs": [
    {
     "name": "stdout",
     "output_type": "stream",
     "text": [
      "33\n"
     ]
    }
   ],
   "source": [
    "a=np.array(LR_optimal.coef_)\n",
    "print(np.count_nonzero(a))"
   ]
  },
  {
   "cell_type": "code",
   "execution_count": 112,
   "metadata": {},
   "outputs": [],
   "source": [
    "#Decrese the value of C\n",
    "#{'C': 5, 'class_weight': 'balanced'}\n",
    "LR_optimal=LogisticRegression(penalty='l1',C=0.0001,class_weight='balanced')\n",
    "\n",
    "# fitting the model\n",
    "LR_optimal.fit(sent_vectors_train_avgw2v, y_train)\n",
    "\n",
    "# predict the response\n",
    "pred_avg_w2v = LR_optimal.predict(sent_vectors_test_avgw2v)\n",
    "\n",
    "# evaluate f1_score\n",
    "f1_score = f1_score(y_test, pred_avg_w2v)"
   ]
  },
  {
   "cell_type": "code",
   "execution_count": 113,
   "metadata": {},
   "outputs": [
    {
     "name": "stdout",
     "output_type": "stream",
     "text": [
      "3\n"
     ]
    }
   ],
   "source": [
    "a=np.array(LR_optimal.coef_)\n",
    "print(np.count_nonzero(a))"
   ]
  },
  {
   "cell_type": "markdown",
   "metadata": {},
   "source": [
    "#### Tf-idf W2V"
   ]
  },
  {
   "cell_type": "code",
   "execution_count": 114,
   "metadata": {},
   "outputs": [],
   "source": [
    "tf_idf_vect = TfidfVectorizer()\n",
    "vocabulary = tf_idf_vect.fit(train_data['CleanedText'])\n",
    "final_tf_idf= tf_idf_vect.transform(train_data['CleanedText'])\n",
    "\n",
    "# we are converting a dictionary with word as a key, and the idf as a value\n",
    "dictionary = dict(zip(vocabulary.get_feature_names(), list(tf_idf_vect.idf_)))"
   ]
  },
  {
   "cell_type": "code",
   "execution_count": 115,
   "metadata": {},
   "outputs": [
    {
     "name": "stderr",
     "output_type": "stream",
     "text": [
      "100%|██████████████████████████████████████████████████████████████████████████| 80000/80000 [01:11<00:00, 1112.80it/s]\n"
     ]
    }
   ],
   "source": [
    "# TF-IDF weighted Word2Vec\n",
    "tfidf_feat = tf_idf_vect.get_feature_names() # tfidf words/col-names\n",
    "# final_tf_idf is the sparse matrix with row= sentence, col=word and cell_val = tfidf\n",
    "\n",
    "tfidf_w2v_sent_vectors_train = []; # the tfidf-w2v for each sentence/review is stored in this list\n",
    "row=0;\n",
    "for sent in tqdm(list_of_sent_train): # for each review/sentence \n",
    "    sent_vec = np.zeros(50) # as word vectors are of zero length\n",
    "    weight_sum =0; # num of words with a valid vector in the sentence/review\n",
    "    for word in sent: # for each word in a review/sentence\n",
    "        if word in w2v_words_train:\n",
    "            vec = w2v_model_train.wv[word]\n",
    "#             tf_idf = tf_idf_matrix[row, tfidf_feat.index(word)]\n",
    "            # to reduce the computation we are \n",
    "            # dictionary[word] = idf value of word in whole courpus\n",
    "            # sent.count(word) = tf valeus of word in this review\n",
    "            tf_idf = dictionary[word]*(sent.count(word)/len(sent))\n",
    "            sent_vec += (vec * tf_idf)\n",
    "            weight_sum += tf_idf\n",
    "    if weight_sum != 0:\n",
    "        sent_vec /= weight_sum\n",
    "    tfidf_w2v_sent_vectors_train.append(sent_vec)\n",
    "    row += 1"
   ]
  },
  {
   "cell_type": "code",
   "execution_count": 116,
   "metadata": {},
   "outputs": [
    {
     "name": "stderr",
     "output_type": "stream",
     "text": [
      "100%|██████████████████████████████████████████████████████████████████████████| 20000/20000 [00:18<00:00, 1098.16it/s]\n"
     ]
    }
   ],
   "source": [
    "final_tf_idf= tf_idf_vect.transform(test_data['CleanedText'])\n",
    "\n",
    "tfidf_w2v_sent_vectors_test = []; # the tfidf-w2v for each sentence/review is stored in this list\n",
    "row=0;\n",
    "for sent in tqdm(list_of_sent_test): # for each review/sentence \n",
    "    sent_vec = np.zeros(50) # as word vectors are of zero length\n",
    "    weight_sum =0; # num of words with a valid vector in the sentence/review\n",
    "    for word in sent: # for each word in a review/sentence\n",
    "        if word in w2v_words_train:\n",
    "            vec = w2v_model_train.wv[word]\n",
    "            # obtain the tf_idfidf of a word in a sentence/review\n",
    "            tf_idf = dictionary[word]*(sent.count(word)/len(sent))\n",
    "            sent_vec += (vec * tf_idf)\n",
    "            weight_sum += tf_idf\n",
    "    if weight_sum != 0:\n",
    "        sent_vec /= weight_sum\n",
    "    tfidf_w2v_sent_vectors_test.append(sent_vec)\n",
    "    row += 1"
   ]
  },
  {
   "cell_type": "code",
   "execution_count": 117,
   "metadata": {},
   "outputs": [
    {
     "name": "stdout",
     "output_type": "stream",
     "text": [
      "(80000, 50)\n",
      "(20000, 50)\n"
     ]
    }
   ],
   "source": [
    "#Standardizing\n",
    "from sklearn.preprocessing import StandardScaler\n",
    "\n",
    "Standard=StandardScaler()\n",
    "tfidf_w2v_sent_vectors_train = Standard.fit_transform(tfidf_w2v_sent_vectors_train)\n",
    "tfidf_w2v_sent_vectors_test = Standard.transform(tfidf_w2v_sent_vectors_test)\n",
    "\n",
    "print(tfidf_w2v_sent_vectors_train.shape)\n",
    "print(tfidf_w2v_sent_vectors_test.shape)"
   ]
  },
  {
   "cell_type": "markdown",
   "metadata": {},
   "source": [
    "#### Fitting grid search cv on tfidf-w2vec"
   ]
  },
  {
   "cell_type": "code",
   "execution_count": 118,
   "metadata": {},
   "outputs": [
    {
     "name": "stdout",
     "output_type": "stream",
     "text": [
      "0.47690283662194616\n",
      "{'C': 0.1, 'class_weight': 'balanced'}\n"
     ]
    }
   ],
   "source": [
    "grid.fit(tfidf_w2v_sent_vectors_train, y_train)\n",
    "\n",
    "# examine the best model\n",
    "print(grid.best_score_)\n",
    "print(grid.best_params_)"
   ]
  },
  {
   "cell_type": "code",
   "execution_count": 119,
   "metadata": {},
   "outputs": [
    {
     "data": {
      "text/plain": [
       "Text(0,0.5,'Cross-Validated Error')"
      ]
     },
     "execution_count": 119,
     "metadata": {},
     "output_type": "execute_result"
    },
    {
     "data": {
      "image/png": "[encoded data removed]",
      "text/plain": [
       "<Figure size 432x288 with 1 Axes>"
      ]
     },
     "metadata": {},
     "output_type": "display_data"
    }
   ],
   "source": [
    "#Plotting C v/s CV_error\n",
    "a=pd.DataFrame(grid.cv_results_)[['mean_test_score', 'std_test_score', 'params']]\n",
    "a['C'] = [d.get('C') for d in a['params']]\n",
    "b=a.sort_values(['C'])\n",
    "CV_Error=1-b['mean_test_score']\n",
    "C =b['C']\n",
    "\n",
    "\n",
    "plt.plot(C,CV_Error)\n",
    "plt.xlabel('C')\n",
    "plt.ylabel('Cross-Validated Error')"
   ]
  },
  {
   "cell_type": "code",
   "execution_count": 120,
   "metadata": {},
   "outputs": [
    {
     "name": "stdout",
     "output_type": "stream",
     "text": [
      "The overall f1_score for the Train Data is :  0.41298833079654995\n",
      "The overall f1_score for the Test Data is :  0.40614423327258525\n"
     ]
    }
   ],
   "source": [
    "#{'C': 0.1, 'class_weight': 'balanced'}\n",
    "LR_optimal=LogisticRegression(penalty='l1',C=0.1,class_weight=None)\n",
    "\n",
    "# fitting the model\n",
    "LR_optimal.fit(tfidf_w2v_sent_vectors_train, y_train)\n",
    "\n",
    "# predict the response\n",
    "pred_tfidf_w2v_sent_vectors_test = LR_optimal.predict(tfidf_w2v_sent_vectors_test)\n",
    "\n",
    "# evaluate f1_score\n",
    "f1_score = f1_score(y_test, pred_tfidf_w2v_sent_vectors_test)\n",
    "\n",
    "# Train & Test Error\n",
    "print(\"The overall f1_score for the Train Data is : \", metrics.f1_score(y_train,LR_optimal.predict(tfidf_w2v_sent_vectors_train)))\n",
    "print(\"The overall f1_score for the Test Data is : \", metrics.f1_score(y_test,pred_tfidf_w2v_sent_vectors_test))"
   ]
  },
  {
   "cell_type": "code",
   "execution_count": 121,
   "metadata": {},
   "outputs": [],
   "source": [
    "#Confusion matrix\n",
    "C = confusion_matrix(y_test, pred_tfidf_w2v_sent_vectors_test)\n",
    "A =(((C.T)/(C.sum(axis=1))).T)\n",
    "B =(C/C.sum(axis=0))\n",
    "labels = [0,1]"
   ]
  },
  {
   "cell_type": "code",
   "execution_count": 122,
   "metadata": {},
   "outputs": [
    {
     "name": "stdout",
     "output_type": "stream",
     "text": [
      "-------------------- Confusion matrix --------------------\n"
     ]
    },
    {
     "data": {
      "image/png": "[encoded data removed]",
      "text/plain": [
       "<Figure size 864x504 with 2 Axes>"
      ]
     },
     "metadata": {},
     "output_type": "display_data"
    },
    {
     "name": "stdout",
     "output_type": "stream",
     "text": [
      "-------------------- Precision matrix (Columm Sum=1) --------------------\n"
     ]
    },
    {
     "data": {
      "image/png": "[encoded data removed]",
      "text/plain": [
       "<Figure size 864x504 with 2 Axes>"
      ]
     },
     "metadata": {},
     "output_type": "display_data"
    },
    {
     "name": "stdout",
     "output_type": "stream",
     "text": [
      "-------------------- Recall matrix (Row sum=1) --------------------\n"
     ]
    },
    {
     "data": {
      "image/png": "[encoded data removed]",
      "text/plain": [
       "<Figure size 864x504 with 2 Axes>"
      ]
     },
     "metadata": {},
     "output_type": "display_data"
    }
   ],
   "source": [
    " print(\"-\"*20, \"Confusion matrix\", \"-\"*20)\n",
    "plt.figure(figsize=(12,7))\n",
    "sns.heatmap(C, annot=True, cmap=\"YlGnBu\", fmt=\"g\", xticklabels=labels, yticklabels=labels)\n",
    "plt.xlabel('Predicted Class')\n",
    "plt.ylabel('Original Class')\n",
    "plt.show()\n",
    "\n",
    "print(\"-\"*20, \"Precision matrix (Columm Sum=1)\", \"-\"*20)\n",
    "plt.figure(figsize=(12,7))\n",
    "sns.heatmap(B, annot=True, cmap=\"YlGnBu\", fmt=\".3f\", xticklabels=labels, yticklabels=labels)\n",
    " plt.xlabel('Predicted Class')\n",
    "plt.ylabel('Original Class')\n",
    "plt.show()\n",
    "    \n",
    "    # representing B in heatmap format\n",
    "print(\"-\"*20, \"Recall matrix (Row sum=1)\", \"-\"*20)\n",
    "plt.figure(figsize=(12,7))\n",
    "sns.heatmap(A, annot=True, cmap=\"YlGnBu\", fmt=\".3f\", xticklabels=labels, yticklabels=labels)\n",
    "plt.xlabel('Predicted Class')\n",
    "plt.ylabel('Original Class')\n",
    "plt.show()"
   ]
  },
  {
   "cell_type": "markdown",
   "metadata": {},
   "source": [
    "What if we decrease the value of C? How does it effect Sparsity and Error?\n",
    "\n",
    "C=1/ λ"
   ]
  },
  {
   "cell_type": "code",
   "execution_count": 123,
   "metadata": {},
   "outputs": [
    {
     "name": "stdout",
     "output_type": "stream",
     "text": [
      "50\n"
     ]
    }
   ],
   "source": [
    "#Checking current non-zero elements\n",
    "a=np.array(LR_optimal.coef_)\n",
    "print(np.count_nonzero(a))"
   ]
  },
  {
   "cell_type": "code",
   "execution_count": 124,
   "metadata": {},
   "outputs": [],
   "source": [
    "#Decreasing value of C\n",
    "#{'C': 0.1, 'class_weight': 'balanced'}\n",
    "LR_optimal=LogisticRegression(penalty='l1',C=0.001,class_weight=None)\n",
    "\n",
    "# fitting the model\n",
    "LR_optimal.fit(tfidf_w2v_sent_vectors_train, y_train)\n",
    "\n",
    "# predict the response\n",
    "pred_tfidf_w2v_sent_vectors_test = LR_optimal.predict(tfidf_w2v_sent_vectors_test)\n",
    "\n",
    "# evaluate f1_score\n",
    "f1_score = f1_score(y_test, pred_tfidf_w2v_sent_vectors_test)\n"
   ]
  },
  {
   "cell_type": "code",
   "execution_count": 125,
   "metadata": {},
   "outputs": [
    {
     "name": "stdout",
     "output_type": "stream",
     "text": [
      "19\n"
     ]
    }
   ],
   "source": [
    "#Checking current non-zero elements\n",
    "a=np.array(LR_optimal.coef_)\n",
    "print(np.count_nonzero(a))"
   ]
  },
  {
   "cell_type": "code",
   "execution_count": 126,
   "metadata": {},
   "outputs": [],
   "source": [
    "#Decreasing value of C\n",
    "#{'C': 0.1, 'class_weight': 'balanced'}\n",
    "LR_optimal=LogisticRegression(penalty='l1',C=0.0001,class_weight=None)\n",
    "\n",
    "# fitting the model\n",
    "LR_optimal.fit(tfidf_w2v_sent_vectors_train, y_train)\n",
    "\n",
    "# predict the response\n",
    "pred_tfidf_w2v_sent_vectors_test = LR_optimal.predict(tfidf_w2v_sent_vectors_test)\n",
    "\n",
    "# evaluate f1_score\n",
    "f1_score = f1_score(y_test, pred_tfidf_w2v_sent_vectors_test)\n"
   ]
  },
  {
   "cell_type": "code",
   "execution_count": 127,
   "metadata": {},
   "outputs": [
    {
     "name": "stdout",
     "output_type": "stream",
     "text": [
      "0\n"
     ]
    }
   ],
   "source": [
    "#Checking current non-zero elements\n",
    "a=np.array(LR_optimal.coef_)\n",
    "print(np.count_nonzero(a))"
   ]
  },
  {
   "cell_type": "markdown",
   "metadata": {},
   "source": [
    "Reporting f1_score for above featurization with L1 regularizer"
   ]
  },
  {
   "cell_type": "code",
   "execution_count": 128,
   "metadata": {},
   "outputs": [],
   "source": [
    "from prettytable import PrettyTable"
   ]
  },
  {
   "cell_type": "code",
   "execution_count": 130,
   "metadata": {},
   "outputs": [
    {
     "name": "stdout",
     "output_type": "stream",
     "text": [
      "+----------------+------+-------+---------+-----------+\n",
      "|     Model      | Bow  | Tfidf | Avg-W2V | Tfidf-W2V |\n",
      "+----------------+------+-------+---------+-----------+\n",
      "|       C        | 0.01 |  0.01 |    5    |    0.1    |\n",
      "| Train f1_score | 0.74 |  0.95 |   0.51  |    0.41   |\n",
      "| Test f1_score  | 0.67 |  0.67 |   0.53  |    0.4    |\n",
      "+----------------+------+-------+---------+-----------+\n"
     ]
    }
   ],
   "source": [
    "x=PrettyTable()\n",
    "x.field_names = [\"Model\",\"Bow\", \"Tfidf\", \"Avg-W2V\", \"Tfidf-W2V\"]\n",
    "x.add_row([\"C\",0.01,0.01,5,0.1])\n",
    "x.add_row([\"Train f1_score\",0.74,0.95,0.51,0.41])\n",
    "x.add_row([\"Test f1_score\",0.67,0.67,0.53,0.40])\n",
    "\n",
    "print(x)"
   ]
  },
  {
   "cell_type": "markdown",
   "metadata": {},
   "source": [
    "************************************************************************************************************************************"
   ]
  }
 ],
 "metadata": {
  "kernelspec": {
   "display_name": "Python 3",
   "language": "python",
   "name": "python3"
  },
  "language_info": {
   "codemirror_mode": {
    "name": "ipython",
    "version": 3
   },
   "file_extension": ".py",
   "mimetype": "text/x-python",
   "name": "python",
   "nbconvert_exporter": "python",
   "pygments_lexer": "ipython3",
   "version": "3.6.5"
  }
 },
 "nbformat": 4,
 "nbformat_minor": 2
}
