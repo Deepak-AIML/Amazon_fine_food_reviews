{
 "cells": [
  {
   "cell_type": "markdown",
   "metadata": {},
   "source": [
    "# Support Vector Machine on Amazon fine food dataset"
   ]
  },
  {
   "cell_type": "markdown",
   "metadata": {},
   "source": [
    "Data Source: https://www.kaggle.com/snap/amazon-fine-food-reviews\n",
    "\n",
    "The Amazon Fine Food Reviews dataset consists of reviews of fine foods from Amazon.<br>\n",
    "\n",
    "Number of reviews: 568,454<br>\n",
    "Number of users: 256,059<br>\n",
    "Number of products: 74,258<br>\n",
    "Timespan: Oct 1999 - Oct 2012<br>\n",
    "Number of Attributes/Columns in data: 10 \n",
    "\n",
    "Attribute Information:\n",
    "\n",
    "1. Id\n",
    "2. ProductId - unique identifier for the product\n",
    "3. UserId - unqiue identifier for the user\n",
    "4. ProfileName\n",
    "5. HelpfulnessNumerator - number of users who found the review helpful\n",
    "6. HelpfulnessDenominator - number of users who indicated whether they found the review helpful or not\n",
    "7. Score - rating between 1 and 5\n",
    "8. Time - timestamp for the review\n",
    "9. Summary - brief summary of the review\n",
    "10. Text - text of the review\n",
    "\n",
    "#### Objective:\n",
    "To perform Support Vector Machine on different vectors like BOW, Tf-idf, Avg-W2vec & Tf-idf_W2vec."
   ]
  },
  {
   "cell_type": "code",
   "execution_count": 11,
   "metadata": {},
   "outputs": [],
   "source": [
    "%matplotlib inline\n",
    "import warnings\n",
    "warnings.filterwarnings(\"ignore\")\n",
    "\n",
    "import sqlite3\n",
    "import pandas as pd\n",
    "import numpy as np\n",
    "import nltk\n",
    "import string\n",
    "import matplotlib.pyplot as plt\n",
    "import seaborn as sns\n",
    "from sklearn.feature_extraction.text import TfidfTransformer\n",
    "from sklearn.feature_extraction.text import TfidfVectorizer\n",
    "\n",
    "from sklearn.feature_extraction.text import CountVectorizer\n",
    "from sklearn.metrics import confusion_matrix\n",
    "from sklearn import metrics\n",
    "from sklearn.metrics import roc_curve, auc\n",
    "from nltk.stem.porter import PorterStemmer\n",
    "\n",
    "import re\n",
    "\n",
    "import string\n",
    "from nltk.corpus import stopwords\n",
    "from nltk.stem import PorterStemmer\n",
    "from nltk.stem.wordnet import WordNetLemmatizer\n",
    "\n",
    "from gensim.models import Word2Vec\n",
    "from gensim.models import KeyedVectors\n",
    "import pickle\n",
    "\n",
    "from tqdm import tqdm"
   ]
  },
  {
   "cell_type": "code",
   "execution_count": 12,
   "metadata": {},
   "outputs": [],
   "source": [
    "#Importing Train and test dataset\n",
    "train_data=pd.read_csv(\"E:/Applied AI assignments/Amazon_fine_train_data.csv\")\n",
    "test_data=pd.read_csv(\"E:/Applied AI assignments/Amazon_fine_test_data.csv\")"
   ]
  },
  {
   "cell_type": "code",
   "execution_count": 13,
   "metadata": {},
   "outputs": [],
   "source": [
    "train_data=train_data.astype(str)\n",
    "test_data=test_data.astype(str)"
   ]
  },
  {
   "cell_type": "code",
   "execution_count": 12,
   "metadata": {},
   "outputs": [
    {
     "data": {
      "text/plain": [
       "(80000, 13)"
      ]
     },
     "execution_count": 12,
     "metadata": {},
     "output_type": "execute_result"
    }
   ],
   "source": [
    "train_data.shape"
   ]
  },
  {
   "cell_type": "code",
   "execution_count": 13,
   "metadata": {},
   "outputs": [
    {
     "data": {
      "text/plain": [
       "positive    70407\n",
       "negative     9593\n",
       "Name: Score, dtype: int64"
      ]
     },
     "execution_count": 13,
     "metadata": {},
     "output_type": "execute_result"
    }
   ],
   "source": [
    "train_data['Score'].value_counts()"
   ]
  },
  {
   "cell_type": "code",
   "execution_count": 14,
   "metadata": {},
   "outputs": [
    {
     "data": {
      "text/plain": [
       "(20000, 13)"
      ]
     },
     "execution_count": 14,
     "metadata": {},
     "output_type": "execute_result"
    }
   ],
   "source": [
    "test_data.shape"
   ]
  },
  {
   "cell_type": "code",
   "execution_count": 15,
   "metadata": {},
   "outputs": [
    {
     "data": {
      "text/plain": [
       "positive    17322\n",
       "negative     2678\n",
       "Name: Score, dtype: int64"
      ]
     },
     "execution_count": 15,
     "metadata": {},
     "output_type": "execute_result"
    }
   ],
   "source": [
    "test_data['Score'].value_counts()"
   ]
  },
  {
   "cell_type": "code",
   "execution_count": 14,
   "metadata": {},
   "outputs": [],
   "source": [
    "#Train data\n",
    "y_train = train_data['Score']\n",
    "x_train = train_data['CleanedText']\n",
    "\n",
    "#Test data\n",
    "y_test = test_data['Score']\n",
    "x_test = test_data['CleanedText'] "
   ]
  },
  {
   "cell_type": "code",
   "execution_count": 15,
   "metadata": {},
   "outputs": [],
   "source": [
    "#Replacing Positive score with 0 and negative score with 1\n",
    "y_train.replace('negative',1,inplace=True)\n",
    "y_train.replace('positive',0,inplace=True)\n",
    "\n",
    "y_test.replace('negative',1,inplace=True)\n",
    "y_test.replace('positive',0,inplace=True)"
   ]
  },
  {
   "cell_type": "code",
   "execution_count": 16,
   "metadata": {},
   "outputs": [],
   "source": [
    "from sklearn.svm import SVC\n",
    "from sklearn.linear_model import SGDClassifier\n",
    "from sklearn.model_selection import RandomizedSearchCV\n",
    "from sklearn.model_selection import TimeSeriesSplit\n",
    "from sklearn.metrics import accuracy_score\n",
    "from sklearn.metrics import recall_score\n",
    "from sklearn.metrics import precision_score\n",
    "from sklearn.metrics import f1_score\n",
    "from sklearn.metrics import make_scorer\n",
    "from sklearn.metrics import confusion_matrix\n",
    "from sklearn.cross_validation import cross_val_score\n",
    "from collections import Counter\n",
    "from sklearn import cross_validation\n",
    "from wordcloud import WordCloud\n",
    "import matplotlib.pyplot as plt"
   ]
  },
  {
   "cell_type": "markdown",
   "metadata": {},
   "source": [
    "Since SVM is computationally expensive therfore running SGD classifier on different featurization like BOW, Tfidf(bigram), \n",
    "Avg-W2V & Tfidf-W2V.\n",
    "For the featurization where we will get best performance metric(f1_score), we will run SVC classifier"
   ]
  },
  {
   "cell_type": "markdown",
   "metadata": {},
   "source": [
    "#### RandomisedSearch CV"
   ]
  },
  {
   "cell_type": "code",
   "execution_count": 17,
   "metadata": {},
   "outputs": [
    {
     "name": "stdout",
     "output_type": "stream",
     "text": [
      "{'alpha': [1e-06, 1e-05, 0.0001, 0.001, 0.01, 0.1, 0.2, 0.3, 0.4, 0.5, 0.6, 0.7, 0.8, 0.9, 1.0, 1, 2, 3, 4, 5, 6, 7, 8, 9, 10, 15, 20, 30, 40, 50], 'epsilon': [1e-07, 1e-06, 1e-05, 0.0001, 0.001, 0.01, 0.1, 0.2, 0.3, 0.4, 0.5, 0.6, 0.7, 0.8, 0.9, 1.0], 'class_weight': [None, 'balanced']}\n"
     ]
    }
   ],
   "source": [
    "alpha_range = [0.000001,0.00001,0.0001,0.001,0.01,0.1,0.2,0.3,0.4,0.5,0.6,0.7,0.8,0.9,1.0,1,2,3,4,5,6,7,8,9,10,15,20,30,40,50]\n",
    "epsilon_range=[0.0000001,0.000001,0.00001,0.0001,0.001,0.01,0.1,0.2,0.3,0.4,0.5,0.6,0.7,0.8,0.9,1.0]\n",
    "T= TimeSeriesSplit(n_splits=5)\n",
    "weight=[None,'balanced']\n",
    "\n",
    "param_distributions = dict(alpha=alpha_range,epsilon=epsilon_range,class_weight=weight)\n",
    "print(param_distributions)\n",
    "\n",
    "# instantiate and fit the grid\n",
    "grid = RandomizedSearchCV(SGDClassifier(), param_distributions, cv=T, scoring='f1',n_iter=30, return_train_score=False,n_jobs=-1)"
   ]
  },
  {
   "cell_type": "markdown",
   "metadata": {},
   "source": [
    "#### Binary Bow"
   ]
  },
  {
   "cell_type": "code",
   "execution_count": 225,
   "metadata": {},
   "outputs": [
    {
     "name": "stdout",
     "output_type": "stream",
     "text": [
      "the type of count vectorizer  <class 'scipy.sparse.csr.csr_matrix'>\n",
      "the shape of out text BOW vectorizer  (80000, 33433)\n",
      "the number of unique words  33433\n"
     ]
    }
   ],
   "source": [
    "count_vect = CountVectorizer(binary=True)\n",
    "\n",
    "#Train data\n",
    "vocabulary = count_vect.fit(x_train) #in scikit-learn\n",
    "Bow_x_train= count_vect.transform(x_train)\n",
    "print(\"the type of count vectorizer \",type(Bow_x_train))\n",
    "print(\"the shape of out text BOW vectorizer \",Bow_x_train.get_shape())\n",
    "print(\"the number of unique words \", Bow_x_train.get_shape()[1])"
   ]
  },
  {
   "cell_type": "code",
   "execution_count": 226,
   "metadata": {},
   "outputs": [
    {
     "name": "stdout",
     "output_type": "stream",
     "text": [
      "the type of count vectorizer  <class 'scipy.sparse.csr.csr_matrix'>\n",
      "the shape of out text BOW vectorizer  (20000, 33433)\n",
      "the number of unique words  33433\n"
     ]
    }
   ],
   "source": [
    "#Test data\n",
    "Bow_x_test = count_vect.transform(x_test)\n",
    "print(\"the type of count vectorizer \",type(Bow_x_test))\n",
    "print(\"the shape of out text BOW vectorizer \",Bow_x_test.get_shape())\n",
    "print(\"the number of unique words \", Bow_x_test.get_shape()[1])"
   ]
  },
  {
   "cell_type": "code",
   "execution_count": 227,
   "metadata": {},
   "outputs": [
    {
     "name": "stdout",
     "output_type": "stream",
     "text": [
      "(80000, 33433)\n",
      "(20000, 33433)\n"
     ]
    }
   ],
   "source": [
    "#Standardizing Bow_x_train and Bow_x_test\n",
    "from sklearn.preprocessing import StandardScaler\n",
    "Standard=StandardScaler(with_mean=False)\n",
    "Bow_x_train = Standard.fit_transform(Bow_x_train)\n",
    "Bow_x_test = Standard.transform(Bow_x_test)\n",
    "\n",
    "print(Bow_x_train.shape)\n",
    "print(Bow_x_test.shape)"
   ]
  },
  {
   "cell_type": "markdown",
   "metadata": {},
   "source": [
    "##### Fitting Randomised search CV on BOW"
   ]
  },
  {
   "cell_type": "code",
   "execution_count": 147,
   "metadata": {},
   "outputs": [
    {
     "name": "stdout",
     "output_type": "stream",
     "text": [
      "0.6363102574032368\n",
      "{'epsilon': 0.4, 'class_weight': 'balanced', 'alpha': 3}\n"
     ]
    }
   ],
   "source": [
    "grid.fit(Bow_x_train, y_train)\n",
    "\n",
    "# examine the best model\n",
    "print(grid.best_score_)\n",
    "print(grid.best_params_)"
   ]
  },
  {
   "cell_type": "code",
   "execution_count": 148,
   "metadata": {},
   "outputs": [
    {
     "data": {
      "text/plain": [
       "Text(0,0.5,'Cross-Validated Error')"
      ]
     },
     "execution_count": 148,
     "metadata": {},
     "output_type": "execute_result"
    },
    {
     "data": {
      "image/png": "[encoded data removed]",
      "text/plain": [
       "<Figure size 432x288 with 1 Axes>"
      ]
     },
     "metadata": {},
     "output_type": "display_data"
    }
   ],
   "source": [
    "#Plotting alpha v/s CV_error\n",
    "a=pd.DataFrame(grid.cv_results_)[['mean_test_score', 'std_test_score', 'params']]\n",
    "a['alpha'] = [d.get('alpha') for d in a['params']]\n",
    "b=a.sort_values(['alpha'])\n",
    "CV_Error=1-b['mean_test_score']\n",
    "alpha =b['alpha']\n",
    "\n",
    "\n",
    "plt.plot(alpha,CV_Error)\n",
    "plt.xlabel('alpha')\n",
    "plt.ylabel('Cross-Validated Error')"
   ]
  },
  {
   "cell_type": "code",
   "execution_count": 151,
   "metadata": {},
   "outputs": [
    {
     "name": "stdout",
     "output_type": "stream",
     "text": [
      "The overall f1_score for the Train Data is :  0.7488488356795158\n",
      "The overall f1_score for the Test Data is :  0.6735686274509805\n"
     ]
    }
   ],
   "source": [
    "#{'epsilon': 0.4, 'class_weight': 'balanced', 'alpha': 3}\n",
    "svm_optimal=SGDClassifier(alpha=3,epsilon=0.4,class_weight='balanced')\n",
    "\n",
    "# fitting the model\n",
    "svm_optimal.fit(Bow_x_train, y_train)\n",
    "\n",
    "# predict the response\n",
    "pred_bow = svm_optimal.predict(Bow_x_test)\n",
    "\n",
    "# evaluate f1_score\n",
    "f1_score = f1_score(y_test, pred_bow)\n",
    "\n",
    "# Train & Test Error\n",
    "print(\"The overall f1_score for the Train Data is : \", metrics.f1_score(y_train,svm_optimal.predict(Bow_x_train)))\n",
    "print(\"The overall f1_score for the Test Data is : \", metrics.f1_score(y_test,pred_bow))"
   ]
  },
  {
   "cell_type": "markdown",
   "metadata": {},
   "source": [
    "Pertubation test"
   ]
  },
  {
   "cell_type": "code",
   "execution_count": 152,
   "metadata": {},
   "outputs": [],
   "source": [
    "# Re-training the model after adding noise\n",
    "Epsilon = np.random.normal(loc=0,scale =0.01)\n",
    "Noise_Bow_x_train=Bow_x_train\n",
    "Noise_Bow_x_train.data+=Epsilon"
   ]
  },
  {
   "cell_type": "code",
   "execution_count": 153,
   "metadata": {},
   "outputs": [
    {
     "data": {
      "text/plain": [
       "(80000, 33433)"
      ]
     },
     "execution_count": 153,
     "metadata": {},
     "output_type": "execute_result"
    }
   ],
   "source": [
    "Noise_Bow_x_train.shape"
   ]
  },
  {
   "cell_type": "code",
   "execution_count": 155,
   "metadata": {},
   "outputs": [
    {
     "name": "stdout",
     "output_type": "stream",
     "text": [
      "The overall f1_score for the Train Data is :  0.7488608482299334\n",
      "The overall f1_score for the Test Data is :  0.6734597899357265\n"
     ]
    }
   ],
   "source": [
    "#{'epsilon': 0.4, 'class_weight': 'balanced', 'alpha': 3}\n",
    "svm_optimal_noise=SGDClassifier(alpha=3,epsilon=0.4,class_weight='balanced')\n",
    "\n",
    "# fitting the model\n",
    "svm_optimal_noise.fit(Noise_Bow_x_train, y_train)\n",
    "\n",
    "# predict the response\n",
    "pred_bow = svm_optimal_noise.predict(Bow_x_test)\n",
    "\n",
    "# evaluate f1_score\n",
    "f1_score = f1_score(y_test, pred_bow)\n",
    "\n",
    "# Train & Test Error\n",
    "print(\"The overall f1_score for the Train Data is : \", metrics.f1_score(y_train,svm_optimal_noise.predict(Noise_Bow_x_train)))\n",
    "print(\"The overall f1_score for the Test Data is : \", metrics.f1_score(y_test,pred_bow))"
   ]
  },
  {
   "cell_type": "code",
   "execution_count": 156,
   "metadata": {},
   "outputs": [
    {
     "data": {
      "text/plain": [
       "(33433,)"
      ]
     },
     "execution_count": 156,
     "metadata": {},
     "output_type": "execute_result"
    }
   ],
   "source": [
    "#Features\n",
    "feature_names = np.array(vocabulary.get_feature_names())\n",
    "feature_names.shape"
   ]
  },
  {
   "cell_type": "code",
   "execution_count": 157,
   "metadata": {},
   "outputs": [
    {
     "data": {
      "text/plain": [
       "(1, 33433)"
      ]
     },
     "execution_count": 157,
     "metadata": {},
     "output_type": "execute_result"
    }
   ],
   "source": [
    "#Weights before adding noise\n",
    "svm_optimal.coef_.shape"
   ]
  },
  {
   "cell_type": "code",
   "execution_count": 158,
   "metadata": {},
   "outputs": [
    {
     "data": {
      "text/plain": [
       "(1, 33433)"
      ]
     },
     "execution_count": 158,
     "metadata": {},
     "output_type": "execute_result"
    }
   ],
   "source": [
    "#Weights after adding noise\n",
    "svm_optimal_noise.coef_.shape"
   ]
  },
  {
   "cell_type": "code",
   "execution_count": 159,
   "metadata": {},
   "outputs": [
    {
     "data": {
      "text/html": [
       "<div>\n",
       "<style scoped>\n",
       "    .dataframe tbody tr th:only-of-type {\n",
       "        vertical-align: middle;\n",
       "    }\n",
       "\n",
       "    .dataframe tbody tr th {\n",
       "        vertical-align: top;\n",
       "    }\n",
       "\n",
       "    .dataframe thead th {\n",
       "        text-align: right;\n",
       "    }\n",
       "</style>\n",
       "<table border=\"1\" class=\"dataframe\">\n",
       "  <thead>\n",
       "    <tr style=\"text-align: right;\">\n",
       "      <th></th>\n",
       "      <th>0</th>\n",
       "      <th>1</th>\n",
       "      <th>2</th>\n",
       "    </tr>\n",
       "  </thead>\n",
       "  <tbody>\n",
       "    <tr>\n",
       "      <th>aaa</th>\n",
       "      <td>-0.000568</td>\n",
       "      <td>-0.000568</td>\n",
       "      <td>-0.006081</td>\n",
       "    </tr>\n",
       "    <tr>\n",
       "      <th>aaaaaaaaagghh</th>\n",
       "      <td>-0.000670</td>\n",
       "      <td>-0.000670</td>\n",
       "      <td>-0.004300</td>\n",
       "    </tr>\n",
       "    <tr>\n",
       "      <th>aaaaah</th>\n",
       "      <td>-0.000758</td>\n",
       "      <td>-0.000757</td>\n",
       "      <td>-0.006081</td>\n",
       "    </tr>\n",
       "    <tr>\n",
       "      <th>aaaaahhhhhhhhhhhhhhhh</th>\n",
       "      <td>-0.000268</td>\n",
       "      <td>-0.000268</td>\n",
       "      <td>-0.004300</td>\n",
       "    </tr>\n",
       "    <tr>\n",
       "      <th>aaaah</th>\n",
       "      <td>-0.000134</td>\n",
       "      <td>-0.000268</td>\n",
       "      <td>99.991400</td>\n",
       "    </tr>\n",
       "    <tr>\n",
       "      <th>aaah</th>\n",
       "      <td>-0.000387</td>\n",
       "      <td>-0.000464</td>\n",
       "      <td>19.991062</td>\n",
       "    </tr>\n",
       "    <tr>\n",
       "      <th>aachen</th>\n",
       "      <td>0.001966</td>\n",
       "      <td>0.001966</td>\n",
       "      <td>-0.004300</td>\n",
       "    </tr>\n",
       "    <tr>\n",
       "      <th>aad</th>\n",
       "      <td>0.000000</td>\n",
       "      <td>0.000000</td>\n",
       "      <td>NaN</td>\n",
       "    </tr>\n",
       "    <tr>\n",
       "      <th>aadp</th>\n",
       "      <td>-0.000536</td>\n",
       "      <td>-0.000536</td>\n",
       "      <td>-0.004300</td>\n",
       "    </tr>\n",
       "    <tr>\n",
       "      <th>aafco</th>\n",
       "      <td>0.000438</td>\n",
       "      <td>0.000438</td>\n",
       "      <td>-0.010533</td>\n",
       "    </tr>\n",
       "    <tr>\n",
       "      <th>aagh</th>\n",
       "      <td>-0.000670</td>\n",
       "      <td>-0.000670</td>\n",
       "      <td>-0.004300</td>\n",
       "    </tr>\n",
       "    <tr>\n",
       "      <th>aah</th>\n",
       "      <td>-0.000852</td>\n",
       "      <td>-0.000852</td>\n",
       "      <td>-0.006081</td>\n",
       "    </tr>\n",
       "    <tr>\n",
       "      <th>aahh</th>\n",
       "      <td>-0.000670</td>\n",
       "      <td>-0.000670</td>\n",
       "      <td>-0.004300</td>\n",
       "    </tr>\n",
       "    <tr>\n",
       "      <th>aand</th>\n",
       "      <td>-0.000670</td>\n",
       "      <td>-0.000670</td>\n",
       "      <td>-0.004300</td>\n",
       "    </tr>\n",
       "    <tr>\n",
       "      <th>aardvark</th>\n",
       "      <td>-0.000670</td>\n",
       "      <td>-0.000670</td>\n",
       "      <td>-0.004300</td>\n",
       "    </tr>\n",
       "    <tr>\n",
       "      <th>aarrgh</th>\n",
       "      <td>0.003931</td>\n",
       "      <td>0.003931</td>\n",
       "      <td>-0.004300</td>\n",
       "    </tr>\n",
       "    <tr>\n",
       "      <th>ab</th>\n",
       "      <td>-0.000506</td>\n",
       "      <td>-0.000506</td>\n",
       "      <td>-0.011377</td>\n",
       "    </tr>\n",
       "    <tr>\n",
       "      <th>aback</th>\n",
       "      <td>-0.000867</td>\n",
       "      <td>-0.000915</td>\n",
       "      <td>5.445340</td>\n",
       "    </tr>\n",
       "    <tr>\n",
       "      <th>abandon</th>\n",
       "      <td>-0.000282</td>\n",
       "      <td>-0.000119</td>\n",
       "      <td>-57.928600</td>\n",
       "    </tr>\n",
       "    <tr>\n",
       "      <th>abaolut</th>\n",
       "      <td>-0.000670</td>\n",
       "      <td>-0.000670</td>\n",
       "      <td>-0.004300</td>\n",
       "    </tr>\n",
       "    <tr>\n",
       "      <th>abattoir</th>\n",
       "      <td>-0.000134</td>\n",
       "      <td>-0.000134</td>\n",
       "      <td>-0.004300</td>\n",
       "    </tr>\n",
       "    <tr>\n",
       "      <th>abba</th>\n",
       "      <td>-0.000773</td>\n",
       "      <td>-0.000773</td>\n",
       "      <td>-0.007448</td>\n",
       "    </tr>\n",
       "    <tr>\n",
       "      <th>abbey</th>\n",
       "      <td>-0.000568</td>\n",
       "      <td>-0.000663</td>\n",
       "      <td>16.659572</td>\n",
       "    </tr>\n",
       "    <tr>\n",
       "      <th>abbi</th>\n",
       "      <td>-0.001377</td>\n",
       "      <td>-0.001317</td>\n",
       "      <td>-4.357023</td>\n",
       "    </tr>\n",
       "    <tr>\n",
       "      <th>abbott</th>\n",
       "      <td>-0.000095</td>\n",
       "      <td>-0.000095</td>\n",
       "      <td>-0.006081</td>\n",
       "    </tr>\n",
       "    <tr>\n",
       "      <th>abbrevi</th>\n",
       "      <td>-0.000077</td>\n",
       "      <td>-0.000155</td>\n",
       "      <td>99.985104</td>\n",
       "    </tr>\n",
       "    <tr>\n",
       "      <th>abc</th>\n",
       "      <td>-0.000460</td>\n",
       "      <td>-0.000391</td>\n",
       "      <td>-15.048432</td>\n",
       "    </tr>\n",
       "    <tr>\n",
       "      <th>abcstor</th>\n",
       "      <td>-0.000670</td>\n",
       "      <td>-0.000670</td>\n",
       "      <td>-0.004300</td>\n",
       "    </tr>\n",
       "    <tr>\n",
       "      <th>abd</th>\n",
       "      <td>-0.000473</td>\n",
       "      <td>-0.000473</td>\n",
       "      <td>-0.006081</td>\n",
       "    </tr>\n",
       "    <tr>\n",
       "      <th>abdomen</th>\n",
       "      <td>-0.000387</td>\n",
       "      <td>-0.000387</td>\n",
       "      <td>-0.007448</td>\n",
       "    </tr>\n",
       "    <tr>\n",
       "      <th>...</th>\n",
       "      <td>...</td>\n",
       "      <td>...</td>\n",
       "      <td>...</td>\n",
       "    </tr>\n",
       "    <tr>\n",
       "      <th>zot</th>\n",
       "      <td>-0.001004</td>\n",
       "      <td>-0.001004</td>\n",
       "      <td>-0.008600</td>\n",
       "    </tr>\n",
       "    <tr>\n",
       "      <th>zotz</th>\n",
       "      <td>-0.000599</td>\n",
       "      <td>-0.000599</td>\n",
       "      <td>-0.012162</td>\n",
       "    </tr>\n",
       "    <tr>\n",
       "      <th>zour</th>\n",
       "      <td>0.001788</td>\n",
       "      <td>0.001787</td>\n",
       "      <td>-0.008600</td>\n",
       "    </tr>\n",
       "    <tr>\n",
       "      <th>zout</th>\n",
       "      <td>-0.000947</td>\n",
       "      <td>-0.000947</td>\n",
       "      <td>-0.006081</td>\n",
       "    </tr>\n",
       "    <tr>\n",
       "      <th>zowi</th>\n",
       "      <td>-0.000402</td>\n",
       "      <td>-0.000402</td>\n",
       "      <td>-0.004300</td>\n",
       "    </tr>\n",
       "    <tr>\n",
       "      <th>zreport</th>\n",
       "      <td>-0.000670</td>\n",
       "      <td>-0.000670</td>\n",
       "      <td>-0.004300</td>\n",
       "    </tr>\n",
       "    <tr>\n",
       "      <th>zsweet</th>\n",
       "      <td>-0.000670</td>\n",
       "      <td>-0.000670</td>\n",
       "      <td>-0.004300</td>\n",
       "    </tr>\n",
       "    <tr>\n",
       "      <th>zuc</th>\n",
       "      <td>-0.000670</td>\n",
       "      <td>-0.000670</td>\n",
       "      <td>-0.004300</td>\n",
       "    </tr>\n",
       "    <tr>\n",
       "      <th>zucchini</th>\n",
       "      <td>-0.000297</td>\n",
       "      <td>-0.000363</td>\n",
       "      <td>22.550771</td>\n",
       "    </tr>\n",
       "    <tr>\n",
       "      <th>zuccini</th>\n",
       "      <td>-0.001620</td>\n",
       "      <td>-0.001569</td>\n",
       "      <td>-3.136021</td>\n",
       "    </tr>\n",
       "    <tr>\n",
       "      <th>zuccnini</th>\n",
       "      <td>0.000000</td>\n",
       "      <td>0.000000</td>\n",
       "      <td>NaN</td>\n",
       "    </tr>\n",
       "    <tr>\n",
       "      <th>zuchinni</th>\n",
       "      <td>-0.000670</td>\n",
       "      <td>-0.000670</td>\n",
       "      <td>-0.004300</td>\n",
       "    </tr>\n",
       "    <tr>\n",
       "      <th>zuke</th>\n",
       "      <td>0.000402</td>\n",
       "      <td>0.000512</td>\n",
       "      <td>27.418087</td>\n",
       "    </tr>\n",
       "    <tr>\n",
       "      <th>zulu</th>\n",
       "      <td>-0.000670</td>\n",
       "      <td>-0.000670</td>\n",
       "      <td>-0.004300</td>\n",
       "    </tr>\n",
       "    <tr>\n",
       "      <th>zum</th>\n",
       "      <td>0.000000</td>\n",
       "      <td>-0.000134</td>\n",
       "      <td>-inf</td>\n",
       "    </tr>\n",
       "    <tr>\n",
       "      <th>zummi</th>\n",
       "      <td>0.000000</td>\n",
       "      <td>-0.000134</td>\n",
       "      <td>-inf</td>\n",
       "    </tr>\n",
       "    <tr>\n",
       "      <th>zune</th>\n",
       "      <td>-0.000670</td>\n",
       "      <td>-0.000670</td>\n",
       "      <td>-0.004300</td>\n",
       "    </tr>\n",
       "    <tr>\n",
       "      <th>zupreem</th>\n",
       "      <td>-0.000268</td>\n",
       "      <td>-0.000268</td>\n",
       "      <td>-0.004300</td>\n",
       "    </tr>\n",
       "    <tr>\n",
       "      <th>zurich</th>\n",
       "      <td>-0.000670</td>\n",
       "      <td>-0.000670</td>\n",
       "      <td>-0.004300</td>\n",
       "    </tr>\n",
       "    <tr>\n",
       "      <th>zwar</th>\n",
       "      <td>-0.000134</td>\n",
       "      <td>-0.000134</td>\n",
       "      <td>-0.004300</td>\n",
       "    </tr>\n",
       "    <tr>\n",
       "      <th>zwieback</th>\n",
       "      <td>0.002064</td>\n",
       "      <td>0.002219</td>\n",
       "      <td>7.483452</td>\n",
       "    </tr>\n",
       "    <tr>\n",
       "      <th>zwiebeck</th>\n",
       "      <td>-0.000670</td>\n",
       "      <td>-0.000670</td>\n",
       "      <td>-0.004300</td>\n",
       "    </tr>\n",
       "    <tr>\n",
       "      <th>zydeco</th>\n",
       "      <td>-0.000670</td>\n",
       "      <td>-0.000670</td>\n",
       "      <td>-0.004300</td>\n",
       "    </tr>\n",
       "    <tr>\n",
       "      <th>zzzzzs</th>\n",
       "      <td>-0.000663</td>\n",
       "      <td>-0.000568</td>\n",
       "      <td>-14.290927</td>\n",
       "    </tr>\n",
       "    <tr>\n",
       "      <th>zzzzzz</th>\n",
       "      <td>0.000000</td>\n",
       "      <td>0.000000</td>\n",
       "      <td>NaN</td>\n",
       "    </tr>\n",
       "    <tr>\n",
       "      <th>zzzzzzz</th>\n",
       "      <td>0.002948</td>\n",
       "      <td>0.002948</td>\n",
       "      <td>-0.004300</td>\n",
       "    </tr>\n",
       "    <tr>\n",
       "      <th>zzzzzzzz</th>\n",
       "      <td>-0.000268</td>\n",
       "      <td>-0.000268</td>\n",
       "      <td>-0.004300</td>\n",
       "    </tr>\n",
       "    <tr>\n",
       "      <th>zzzzzzzzzz</th>\n",
       "      <td>0.000000</td>\n",
       "      <td>0.000000</td>\n",
       "      <td>NaN</td>\n",
       "    </tr>\n",
       "    <tr>\n",
       "      <th>zzzzzzzzzzz</th>\n",
       "      <td>-0.000670</td>\n",
       "      <td>-0.000670</td>\n",
       "      <td>-0.004300</td>\n",
       "    </tr>\n",
       "    <tr>\n",
       "      <th>çay</th>\n",
       "      <td>-0.000268</td>\n",
       "      <td>-0.000402</td>\n",
       "      <td>49.993550</td>\n",
       "    </tr>\n",
       "  </tbody>\n",
       "</table>\n",
       "<p>33433 rows × 3 columns</p>\n",
       "</div>"
      ],
      "text/plain": [
       "                              0         1          2\n",
       "aaa                   -0.000568 -0.000568  -0.006081\n",
       "aaaaaaaaagghh         -0.000670 -0.000670  -0.004300\n",
       "aaaaah                -0.000758 -0.000757  -0.006081\n",
       "aaaaahhhhhhhhhhhhhhhh -0.000268 -0.000268  -0.004300\n",
       "aaaah                 -0.000134 -0.000268  99.991400\n",
       "aaah                  -0.000387 -0.000464  19.991062\n",
       "aachen                 0.001966  0.001966  -0.004300\n",
       "aad                    0.000000  0.000000        NaN\n",
       "aadp                  -0.000536 -0.000536  -0.004300\n",
       "aafco                  0.000438  0.000438  -0.010533\n",
       "aagh                  -0.000670 -0.000670  -0.004300\n",
       "aah                   -0.000852 -0.000852  -0.006081\n",
       "aahh                  -0.000670 -0.000670  -0.004300\n",
       "aand                  -0.000670 -0.000670  -0.004300\n",
       "aardvark              -0.000670 -0.000670  -0.004300\n",
       "aarrgh                 0.003931  0.003931  -0.004300\n",
       "ab                    -0.000506 -0.000506  -0.011377\n",
       "aback                 -0.000867 -0.000915   5.445340\n",
       "abandon               -0.000282 -0.000119 -57.928600\n",
       "abaolut               -0.000670 -0.000670  -0.004300\n",
       "abattoir              -0.000134 -0.000134  -0.004300\n",
       "abba                  -0.000773 -0.000773  -0.007448\n",
       "abbey                 -0.000568 -0.000663  16.659572\n",
       "abbi                  -0.001377 -0.001317  -4.357023\n",
       "abbott                -0.000095 -0.000095  -0.006081\n",
       "abbrevi               -0.000077 -0.000155  99.985104\n",
       "abc                   -0.000460 -0.000391 -15.048432\n",
       "abcstor               -0.000670 -0.000670  -0.004300\n",
       "abd                   -0.000473 -0.000473  -0.006081\n",
       "abdomen               -0.000387 -0.000387  -0.007448\n",
       "...                         ...       ...        ...\n",
       "zot                   -0.001004 -0.001004  -0.008600\n",
       "zotz                  -0.000599 -0.000599  -0.012162\n",
       "zour                   0.001788  0.001787  -0.008600\n",
       "zout                  -0.000947 -0.000947  -0.006081\n",
       "zowi                  -0.000402 -0.000402  -0.004300\n",
       "zreport               -0.000670 -0.000670  -0.004300\n",
       "zsweet                -0.000670 -0.000670  -0.004300\n",
       "zuc                   -0.000670 -0.000670  -0.004300\n",
       "zucchini              -0.000297 -0.000363  22.550771\n",
       "zuccini               -0.001620 -0.001569  -3.136021\n",
       "zuccnini               0.000000  0.000000        NaN\n",
       "zuchinni              -0.000670 -0.000670  -0.004300\n",
       "zuke                   0.000402  0.000512  27.418087\n",
       "zulu                  -0.000670 -0.000670  -0.004300\n",
       "zum                    0.000000 -0.000134       -inf\n",
       "zummi                  0.000000 -0.000134       -inf\n",
       "zune                  -0.000670 -0.000670  -0.004300\n",
       "zupreem               -0.000268 -0.000268  -0.004300\n",
       "zurich                -0.000670 -0.000670  -0.004300\n",
       "zwar                  -0.000134 -0.000134  -0.004300\n",
       "zwieback               0.002064  0.002219   7.483452\n",
       "zwiebeck              -0.000670 -0.000670  -0.004300\n",
       "zydeco                -0.000670 -0.000670  -0.004300\n",
       "zzzzzs                -0.000663 -0.000568 -14.290927\n",
       "zzzzzz                 0.000000  0.000000        NaN\n",
       "zzzzzzz                0.002948  0.002948  -0.004300\n",
       "zzzzzzzz              -0.000268 -0.000268  -0.004300\n",
       "zzzzzzzzzz             0.000000  0.000000        NaN\n",
       "zzzzzzzzzzz           -0.000670 -0.000670  -0.004300\n",
       "çay                   -0.000268 -0.000402  49.993550\n",
       "\n",
       "[33433 rows x 3 columns]"
      ]
     },
     "execution_count": 159,
     "metadata": {},
     "output_type": "execute_result"
    }
   ],
   "source": [
    "merge_arr = np.concatenate([svm_optimal.coef_, svm_optimal_noise.coef_], axis=0)\n",
    "merge=pd.DataFrame(data=merge_arr,columns=feature_names).transpose()\n",
    "merge[2]=((merge[1]-merge[0])/merge[0])*100\n",
    "merge"
   ]
  },
  {
   "cell_type": "code",
   "execution_count": 160,
   "metadata": {},
   "outputs": [
    {
     "data": {
      "text/plain": [
       "(1319, 3)"
      ]
     },
     "execution_count": 160,
     "metadata": {},
     "output_type": "execute_result"
    }
   ],
   "source": [
    "merge[merge[2]>30].shape"
   ]
  },
  {
   "cell_type": "markdown",
   "metadata": {},
   "source": [
    "1319 features out of 33433 shows percentage change > 30 post pertubation test i.e 3.94%\n",
    "\n",
    "We can say that our data isn't much affected by multicollinearity"
   ]
  },
  {
   "cell_type": "code",
   "execution_count": 161,
   "metadata": {},
   "outputs": [],
   "source": [
    "#Features\n",
    "feature_names = np.array(vocabulary.get_feature_names())\n",
    "sorted_coef_index = svm_optimal.coef_[0].argsort()"
   ]
  },
  {
   "cell_type": "code",
   "execution_count": 162,
   "metadata": {},
   "outputs": [
    {
     "name": "stdout",
     "output_type": "stream",
     "text": [
      "great,love,best,delici,perfect,favorit,excel,good,find,easi,nice,wonder,snack,make,thank,alway,tasti,keep,year,high,\n"
     ]
    }
   ],
   "source": [
    "#Top 20 positive features\n",
    "p=feature_names[sorted_coef_index[:20]]\n",
    "\n",
    "sp = \"\"\n",
    "for i in p:\n",
    "    sp += str(i)+\",\"\n",
    "print(sp)"
   ]
  },
  {
   "cell_type": "code",
   "execution_count": 163,
   "metadata": {},
   "outputs": [
    {
     "name": "stdout",
     "output_type": "stream",
     "text": [
      "disappoint,worst,terribl,bad,aw,thought,money,horribl,stale,would,wast,return,unfortun,threw,bland,didnt,mayb,sorri,weak,away,\n"
     ]
    }
   ],
   "source": [
    "#Top 20 negative features\n",
    "n=feature_names[sorted_coef_index[:-21:-1]]\n",
    "\n",
    "sn = \"\"\n",
    "for i in n:\n",
    "    sn += str(i)+\",\"\n",
    "print(sn)"
   ]
  },
  {
   "cell_type": "code",
   "execution_count": 164,
   "metadata": {},
   "outputs": [
    {
     "name": "stdout",
     "output_type": "stream",
     "text": [
      "************ Top 20 Negative words *******************\n"
     ]
    },
    {
     "data": {
      "image/png": "[encoded data removed]",
      "text/plain": [
       "<Figure size 360x360 with 1 Axes>"
      ]
     },
     "metadata": {},
     "output_type": "display_data"
    },
    {
     "name": "stdout",
     "output_type": "stream",
     "text": [
      "************ Top 20 Positive words *******************\n"
     ]
    },
    {
     "data": {
      "image/png": "[encoded data removed]",
      "text/plain": [
       "<Figure size 360x360 with 1 Axes>"
      ]
     },
     "metadata": {},
     "output_type": "display_data"
    }
   ],
   "source": [
    "print(\"************ Top 20 Negative words *******************\")\n",
    "wordcloud = WordCloud(width = 800, height = 800, \n",
    "                background_color ='black', \n",
    "                min_font_size = 10).generate(sn) \n",
    "  \n",
    "# plot the WordCloud image                        \n",
    "plt.figure(figsize = (5,5), facecolor = None) \n",
    "plt.imshow(wordcloud) \n",
    "plt.axis(\"off\") \n",
    "plt.tight_layout(pad = 0) \n",
    "plt.show()\n",
    "\n",
    "\n",
    "print(\"************ Top 20 Positive words *******************\")\n",
    "wordcloud = WordCloud(width = 800, height = 800, \n",
    "                background_color ='black', \n",
    "                min_font_size = 10).generate(sp) \n",
    "  \n",
    "# plot the WordCloud image                        \n",
    "plt.figure(figsize = (5,5), facecolor = None) \n",
    "plt.imshow(wordcloud) \n",
    "plt.axis(\"off\") \n",
    "plt.tight_layout(pad = 0) \n",
    "plt.show()"
   ]
  },
  {
   "cell_type": "code",
   "execution_count": 165,
   "metadata": {},
   "outputs": [],
   "source": [
    "#Confusion matrix\n",
    "C = confusion_matrix(y_test, pred_bow)\n",
    "A =(((C.T)/(C.sum(axis=1))).T)\n",
    "B =(C/C.sum(axis=0))\n",
    "labels = [0,1]"
   ]
  },
  {
   "cell_type": "code",
   "execution_count": 166,
   "metadata": {},
   "outputs": [
    {
     "name": "stdout",
     "output_type": "stream",
     "text": [
      "-------------------- Confusion matrix --------------------\n"
     ]
    },
    {
     "data": {
      "image/png": "[encoded data removed]",
      "text/plain": [
       "<Figure size 864x504 with 2 Axes>"
      ]
     },
     "metadata": {},
     "output_type": "display_data"
    },
    {
     "name": "stdout",
     "output_type": "stream",
     "text": [
      "-------------------- Precision matrix (Columm Sum=1) --------------------\n"
     ]
    },
    {
     "data": {
      "image/png": "[encoded data removed]",
      "text/plain": [
       "<Figure size 864x504 with 2 Axes>"
      ]
     },
     "metadata": {},
     "output_type": "display_data"
    },
    {
     "name": "stdout",
     "output_type": "stream",
     "text": [
      "-------------------- Recall matrix (Row sum=1) --------------------\n"
     ]
    },
    {
     "data": {
      "image/png": "[encoded data removed]",
      "text/plain": [
       "<Figure size 864x504 with 2 Axes>"
      ]
     },
     "metadata": {},
     "output_type": "display_data"
    }
   ],
   "source": [
    " print(\"-\"*20, \"Confusion matrix\", \"-\"*20)\n",
    "plt.figure(figsize=(12,7))\n",
    "sns.heatmap(C, annot=True, cmap=\"YlGnBu\", fmt=\"g\", xticklabels=labels, yticklabels=labels)\n",
    "plt.xlabel('Predicted Class')\n",
    "plt.ylabel('Original Class')\n",
    "plt.show()\n",
    "\n",
    "print(\"-\"*20, \"Precision matrix (Columm Sum=1)\", \"-\"*20)\n",
    "plt.figure(figsize=(12,7))\n",
    "sns.heatmap(B, annot=True, cmap=\"YlGnBu\", fmt=\".3f\", xticklabels=labels, yticklabels=labels)\n",
    " plt.xlabel('Predicted Class')\n",
    "plt.ylabel('Original Class')\n",
    "plt.show()\n",
    "    \n",
    "    # representing B in heatmap format\n",
    "print(\"-\"*20, \"Recall matrix (Row sum=1)\", \"-\"*20)\n",
    "plt.figure(figsize=(12,7))\n",
    "sns.heatmap(A, annot=True, cmap=\"YlGnBu\", fmt=\".3f\", xticklabels=labels, yticklabels=labels)\n",
    "plt.xlabel('Predicted Class')\n",
    "plt.ylabel('Original Class')\n",
    "plt.show()"
   ]
  },
  {
   "cell_type": "markdown",
   "metadata": {},
   "source": [
    "#### Tf-idf"
   ]
  },
  {
   "cell_type": "code",
   "execution_count": 18,
   "metadata": {},
   "outputs": [
    {
     "name": "stdout",
     "output_type": "stream",
     "text": [
      "the type of count vectorizer  <class 'scipy.sparse.csr.csr_matrix'>\n",
      "the shape of out text BOW vectorizer  (80000, 1013943)\n",
      "the number of unique words  1013943\n"
     ]
    }
   ],
   "source": [
    "#Initiating Vectorizer\n",
    "count_vect = TfidfVectorizer(ngram_range=(1,2))\n",
    "\n",
    "#Train data\n",
    "vocabulary = count_vect.fit(x_train)\n",
    "Tfidf_x_train= count_vect.transform(x_train)\n",
    "print(\"the type of count vectorizer \",type(Tfidf_x_train))\n",
    "print(\"the shape of out text BOW vectorizer \",Tfidf_x_train.get_shape())\n",
    "print(\"the number of unique words \", Tfidf_x_train.get_shape()[1])"
   ]
  },
  {
   "cell_type": "code",
   "execution_count": 19,
   "metadata": {},
   "outputs": [
    {
     "name": "stdout",
     "output_type": "stream",
     "text": [
      "the type of count vectorizer  <class 'scipy.sparse.csr.csr_matrix'>\n",
      "the shape of out text BOW vectorizer  (20000, 1013943)\n",
      "the number of unique words  1013943\n"
     ]
    }
   ],
   "source": [
    "#Test data\n",
    "Tfidf_x_test= count_vect.transform(x_test)\n",
    "print(\"the type of count vectorizer \",type(Tfidf_x_test))\n",
    "print(\"the shape of out text BOW vectorizer \",Tfidf_x_test.get_shape())\n",
    "print(\"the number of unique words \", Tfidf_x_test.get_shape()[1])"
   ]
  },
  {
   "cell_type": "code",
   "execution_count": 20,
   "metadata": {},
   "outputs": [
    {
     "name": "stdout",
     "output_type": "stream",
     "text": [
      "(80000, 1013943)\n",
      "(20000, 1013943)\n"
     ]
    }
   ],
   "source": [
    "#Standardizing \n",
    "from sklearn.preprocessing import StandardScaler\n",
    "Standard=StandardScaler(with_mean=False)\n",
    "Tfidf_x_train = Standard.fit_transform(Tfidf_x_train)\n",
    "Tfidf_x_test = Standard.transform(Tfidf_x_test)\n",
    "\n",
    "print(Tfidf_x_train.shape)\n",
    "print(Tfidf_x_test.shape)"
   ]
  },
  {
   "cell_type": "markdown",
   "metadata": {},
   "source": [
    "#### Fitting Grid Search on Tf-Idf"
   ]
  },
  {
   "cell_type": "code",
   "execution_count": 170,
   "metadata": {},
   "outputs": [
    {
     "name": "stdout",
     "output_type": "stream",
     "text": [
      "0.5625001303946727\n",
      "{'epsilon': 0.2, 'class_weight': 'balanced', 'alpha': 5}\n"
     ]
    }
   ],
   "source": [
    "grid.fit(Tfidf_x_train, y_train)\n",
    "\n",
    "# examine the best model\n",
    "print(grid.best_score_)\n",
    "print(grid.best_params_)"
   ]
  },
  {
   "cell_type": "code",
   "execution_count": 171,
   "metadata": {},
   "outputs": [
    {
     "data": {
      "text/plain": [
       "Text(0,0.5,'Cross-Validated Error')"
      ]
     },
     "execution_count": 171,
     "metadata": {},
     "output_type": "execute_result"
    },
    {
     "data": {
      "image/png": "[encoded data removed]",
      "text/plain": [
       "<Figure size 432x288 with 1 Axes>"
      ]
     },
     "metadata": {},
     "output_type": "display_data"
    }
   ],
   "source": [
    "#Plotting alpha v/s CV_error\n",
    "a=pd.DataFrame(grid.cv_results_)[['mean_test_score', 'std_test_score', 'params']]\n",
    "a['alpha'] = [d.get('alpha') for d in a['params']]\n",
    "b=a.sort_values(['alpha'])\n",
    "CV_Error=1-b['mean_test_score']\n",
    "alpha =b['alpha']\n",
    "\n",
    "\n",
    "plt.plot(alpha,CV_Error)\n",
    "plt.xlabel('alpha')\n",
    "plt.ylabel('Cross-Validated Error')"
   ]
  },
  {
   "cell_type": "code",
   "execution_count": 21,
   "metadata": {},
   "outputs": [
    {
     "name": "stdout",
     "output_type": "stream",
     "text": [
      "The overall f1_score for the Train Data is :  0.9989060790748555\n",
      "The overall f1_score for the Test Data is :  0.5788245279015488\n"
     ]
    }
   ],
   "source": [
    "\n",
    "#{'epsilon': 0.2, 'class_weight': 'balanced', 'alpha': 5}\n",
    "svm_optimal=SGDClassifier(alpha=5,epsilon=0.2,class_weight='balanced')\n",
    "\n",
    "# fitting the model\n",
    "svm_optimal.fit(Tfidf_x_train, y_train)\n",
    "\n",
    "# predict the response\n",
    "pred_tfidf = svm_optimal.predict(Tfidf_x_test)\n",
    "\n",
    "# evaluate accuracy\n",
    "f1_score = f1_score(y_test, pred_tfidf)\n",
    "\n",
    "# Train & Test Error\n",
    "print(\"The overall f1_score for the Train Data is : \", metrics.f1_score(y_train,svm_optimal.predict(Tfidf_x_train)))\n",
    "print(\"The overall f1_score for the Test Data is : \", metrics.f1_score(y_test,pred_tfidf))"
   ]
  },
  {
   "cell_type": "markdown",
   "metadata": {},
   "source": [
    "Pertubation test"
   ]
  },
  {
   "cell_type": "code",
   "execution_count": 22,
   "metadata": {},
   "outputs": [],
   "source": [
    "# Re-training the model after adding noise\n",
    "Epsilon = np.random.normal(loc=0,scale =0.01)\n",
    "Noise_Tfidf_x_train=Tfidf_x_train\n",
    "Noise_Tfidf_x_train.data+=Epsilon"
   ]
  },
  {
   "cell_type": "code",
   "execution_count": 24,
   "metadata": {},
   "outputs": [
    {
     "name": "stdout",
     "output_type": "stream",
     "text": [
      "The overall f1_score for the Train Data is :  0.9989060790748555\n",
      "The overall f1_score for the Test Data is :  0.5773239736226335\n"
     ]
    }
   ],
   "source": [
    "\n",
    "#{'epsilon': 0.2, 'class_weight': 'balanced', 'alpha': 5}\n",
    "svm_optimal_noise=SGDClassifier(alpha=5,epsilon=0.2,class_weight='balanced')\n",
    "\n",
    "# fitting the model\n",
    "svm_optimal_noise.fit(Noise_Tfidf_x_train, y_train)\n",
    "\n",
    "# predict the response\n",
    "pred_tfidf = svm_optimal_noise.predict(Tfidf_x_test)\n",
    "\n",
    "# evaluate accuracy\n",
    "f1_score = f1_score(y_test, pred_tfidf)\n",
    "\n",
    "# Train & Test Error\n",
    "print(\"The overall f1_score for the Train Data is : \", metrics.f1_score(y_train,svm_optimal.predict(Noise_Tfidf_x_train)))\n",
    "print(\"The overall f1_score for the Test Data is : \", metrics.f1_score(y_test,pred_tfidf))"
   ]
  },
  {
   "cell_type": "code",
   "execution_count": 25,
   "metadata": {},
   "outputs": [
    {
     "data": {
      "text/plain": [
       "(1013943,)"
      ]
     },
     "execution_count": 25,
     "metadata": {},
     "output_type": "execute_result"
    }
   ],
   "source": [
    "#Features\n",
    "feature_names = np.array(vocabulary.get_feature_names())\n",
    "feature_names.shape"
   ]
  },
  {
   "cell_type": "code",
   "execution_count": 26,
   "metadata": {},
   "outputs": [
    {
     "data": {
      "text/plain": [
       "(1, 1013943)"
      ]
     },
     "execution_count": 26,
     "metadata": {},
     "output_type": "execute_result"
    }
   ],
   "source": [
    "svm_optimal.coef_.shape"
   ]
  },
  {
   "cell_type": "code",
   "execution_count": 27,
   "metadata": {},
   "outputs": [
    {
     "data": {
      "text/plain": [
       "(1, 1013943)"
      ]
     },
     "execution_count": 27,
     "metadata": {},
     "output_type": "execute_result"
    }
   ],
   "source": [
    "svm_optimal_noise.coef_.shape"
   ]
  },
  {
   "cell_type": "code",
   "execution_count": 28,
   "metadata": {},
   "outputs": [
    {
     "data": {
      "text/html": [
       "<div>\n",
       "<style scoped>\n",
       "    .dataframe tbody tr th:only-of-type {\n",
       "        vertical-align: middle;\n",
       "    }\n",
       "\n",
       "    .dataframe tbody tr th {\n",
       "        vertical-align: top;\n",
       "    }\n",
       "\n",
       "    .dataframe thead th {\n",
       "        text-align: right;\n",
       "    }\n",
       "</style>\n",
       "<table border=\"1\" class=\"dataframe\">\n",
       "  <thead>\n",
       "    <tr style=\"text-align: right;\">\n",
       "      <th></th>\n",
       "      <th>0</th>\n",
       "      <th>1</th>\n",
       "      <th>2</th>\n",
       "    </tr>\n",
       "  </thead>\n",
       "  <tbody>\n",
       "    <tr>\n",
       "      <th>aaa</th>\n",
       "      <td>-0.000105</td>\n",
       "      <td>-0.000179</td>\n",
       "      <td>71.285216</td>\n",
       "    </tr>\n",
       "    <tr>\n",
       "      <th>aaa condit</th>\n",
       "      <td>-0.000080</td>\n",
       "      <td>-0.000161</td>\n",
       "      <td>99.996881</td>\n",
       "    </tr>\n",
       "    <tr>\n",
       "      <th>aaa perfect</th>\n",
       "      <td>-0.000080</td>\n",
       "      <td>-0.000080</td>\n",
       "      <td>-0.001559</td>\n",
       "    </tr>\n",
       "    <tr>\n",
       "      <th>aaaaaaaaagghh</th>\n",
       "      <td>-0.000161</td>\n",
       "      <td>-0.000161</td>\n",
       "      <td>-0.001559</td>\n",
       "    </tr>\n",
       "    <tr>\n",
       "      <th>aaaaah</th>\n",
       "      <td>-0.000113</td>\n",
       "      <td>-0.000113</td>\n",
       "      <td>-0.002219</td>\n",
       "    </tr>\n",
       "    <tr>\n",
       "      <th>aaaaah awak</th>\n",
       "      <td>-0.000080</td>\n",
       "      <td>-0.000080</td>\n",
       "      <td>-0.001559</td>\n",
       "    </tr>\n",
       "    <tr>\n",
       "      <th>aaaaah satisfi</th>\n",
       "      <td>-0.000080</td>\n",
       "      <td>-0.000080</td>\n",
       "      <td>-0.001559</td>\n",
       "    </tr>\n",
       "    <tr>\n",
       "      <th>aaaaahhhhhhhhhhhhhhhh</th>\n",
       "      <td>-0.000080</td>\n",
       "      <td>-0.000080</td>\n",
       "      <td>-0.001559</td>\n",
       "    </tr>\n",
       "    <tr>\n",
       "      <th>aaaaahhhhhhhhhhhhhhhh angel</th>\n",
       "      <td>-0.000080</td>\n",
       "      <td>-0.000080</td>\n",
       "      <td>-0.001559</td>\n",
       "    </tr>\n",
       "    <tr>\n",
       "      <th>aaaah</th>\n",
       "      <td>-0.000080</td>\n",
       "      <td>-0.000080</td>\n",
       "      <td>-0.001559</td>\n",
       "    </tr>\n",
       "    <tr>\n",
       "      <th>aaaah snob</th>\n",
       "      <td>-0.000080</td>\n",
       "      <td>-0.000080</td>\n",
       "      <td>-0.001559</td>\n",
       "    </tr>\n",
       "    <tr>\n",
       "      <th>aaah</th>\n",
       "      <td>-0.000134</td>\n",
       "      <td>-0.000134</td>\n",
       "      <td>-0.002801</td>\n",
       "    </tr>\n",
       "    <tr>\n",
       "      <th>aaah inhal</th>\n",
       "      <td>-0.000080</td>\n",
       "      <td>-0.000080</td>\n",
       "      <td>-0.001559</td>\n",
       "    </tr>\n",
       "    <tr>\n",
       "      <th>aaah miss</th>\n",
       "      <td>-0.000080</td>\n",
       "      <td>-0.000080</td>\n",
       "      <td>-0.001559</td>\n",
       "    </tr>\n",
       "    <tr>\n",
       "      <th>aaah sip</th>\n",
       "      <td>-0.000080</td>\n",
       "      <td>-0.000080</td>\n",
       "      <td>-0.001559</td>\n",
       "    </tr>\n",
       "    <tr>\n",
       "      <th>aachen</th>\n",
       "      <td>0.000590</td>\n",
       "      <td>0.000590</td>\n",
       "      <td>-0.001559</td>\n",
       "    </tr>\n",
       "    <tr>\n",
       "      <th>aachen munich</th>\n",
       "      <td>0.000590</td>\n",
       "      <td>0.000590</td>\n",
       "      <td>-0.001559</td>\n",
       "    </tr>\n",
       "    <tr>\n",
       "      <th>aad</th>\n",
       "      <td>0.000000</td>\n",
       "      <td>0.000000</td>\n",
       "      <td>NaN</td>\n",
       "    </tr>\n",
       "    <tr>\n",
       "      <th>aad sausag</th>\n",
       "      <td>0.000000</td>\n",
       "      <td>0.000000</td>\n",
       "      <td>NaN</td>\n",
       "    </tr>\n",
       "    <tr>\n",
       "      <th>aadp</th>\n",
       "      <td>-0.000080</td>\n",
       "      <td>-0.000080</td>\n",
       "      <td>-0.001559</td>\n",
       "    </tr>\n",
       "    <tr>\n",
       "      <th>aafco</th>\n",
       "      <td>0.000142</td>\n",
       "      <td>0.000184</td>\n",
       "      <td>29.714666</td>\n",
       "    </tr>\n",
       "    <tr>\n",
       "      <th>aafco also</th>\n",
       "      <td>-0.000080</td>\n",
       "      <td>-0.000080</td>\n",
       "      <td>-0.001559</td>\n",
       "    </tr>\n",
       "    <tr>\n",
       "      <th>aafco certifi</th>\n",
       "      <td>0.000590</td>\n",
       "      <td>0.000590</td>\n",
       "      <td>-0.001559</td>\n",
       "    </tr>\n",
       "    <tr>\n",
       "      <th>aafco countri</th>\n",
       "      <td>-0.000080</td>\n",
       "      <td>-0.000080</td>\n",
       "      <td>-0.001559</td>\n",
       "    </tr>\n",
       "    <tr>\n",
       "      <th>aafco definit</th>\n",
       "      <td>0.000590</td>\n",
       "      <td>0.000590</td>\n",
       "      <td>-0.001559</td>\n",
       "    </tr>\n",
       "    <tr>\n",
       "      <th>aafco dog</th>\n",
       "      <td>-0.000080</td>\n",
       "      <td>0.000000</td>\n",
       "      <td>-100.000000</td>\n",
       "    </tr>\n",
       "    <tr>\n",
       "      <th>aafco guidelin</th>\n",
       "      <td>0.000000</td>\n",
       "      <td>0.000000</td>\n",
       "      <td>NaN</td>\n",
       "    </tr>\n",
       "    <tr>\n",
       "      <th>aafco requir</th>\n",
       "      <td>-0.000080</td>\n",
       "      <td>-0.000080</td>\n",
       "      <td>-0.001559</td>\n",
       "    </tr>\n",
       "    <tr>\n",
       "      <th>aagh</th>\n",
       "      <td>-0.000080</td>\n",
       "      <td>-0.000080</td>\n",
       "      <td>-0.001559</td>\n",
       "    </tr>\n",
       "    <tr>\n",
       "      <th>aagh yelp</th>\n",
       "      <td>-0.000080</td>\n",
       "      <td>-0.000080</td>\n",
       "      <td>-0.001559</td>\n",
       "    </tr>\n",
       "    <tr>\n",
       "      <th>...</th>\n",
       "      <td>...</td>\n",
       "      <td>...</td>\n",
       "      <td>...</td>\n",
       "    </tr>\n",
       "    <tr>\n",
       "      <th>zum heal</th>\n",
       "      <td>-0.000080</td>\n",
       "      <td>-0.000080</td>\n",
       "      <td>-0.001559</td>\n",
       "    </tr>\n",
       "    <tr>\n",
       "      <th>zummi</th>\n",
       "      <td>-0.000080</td>\n",
       "      <td>-0.000080</td>\n",
       "      <td>-0.001559</td>\n",
       "    </tr>\n",
       "    <tr>\n",
       "      <th>zummi love</th>\n",
       "      <td>-0.000080</td>\n",
       "      <td>-0.000080</td>\n",
       "      <td>-0.001559</td>\n",
       "    </tr>\n",
       "    <tr>\n",
       "      <th>zummi tast</th>\n",
       "      <td>-0.000080</td>\n",
       "      <td>-0.000080</td>\n",
       "      <td>-0.001559</td>\n",
       "    </tr>\n",
       "    <tr>\n",
       "      <th>zummi tri</th>\n",
       "      <td>-0.000080</td>\n",
       "      <td>-0.000080</td>\n",
       "      <td>-0.001559</td>\n",
       "    </tr>\n",
       "    <tr>\n",
       "      <th>zune</th>\n",
       "      <td>-0.000241</td>\n",
       "      <td>-0.000241</td>\n",
       "      <td>-0.001559</td>\n",
       "    </tr>\n",
       "    <tr>\n",
       "      <th>zune video</th>\n",
       "      <td>-0.000241</td>\n",
       "      <td>-0.000241</td>\n",
       "      <td>-0.001559</td>\n",
       "    </tr>\n",
       "    <tr>\n",
       "      <th>zupreem</th>\n",
       "      <td>-0.000080</td>\n",
       "      <td>-0.000080</td>\n",
       "      <td>-0.001559</td>\n",
       "    </tr>\n",
       "    <tr>\n",
       "      <th>zupreem ferret</th>\n",
       "      <td>-0.000080</td>\n",
       "      <td>-0.000080</td>\n",
       "      <td>-0.001559</td>\n",
       "    </tr>\n",
       "    <tr>\n",
       "      <th>zurich</th>\n",
       "      <td>-0.000080</td>\n",
       "      <td>-0.000080</td>\n",
       "      <td>-0.001559</td>\n",
       "    </tr>\n",
       "    <tr>\n",
       "      <th>zurich schnatzlet</th>\n",
       "      <td>-0.000080</td>\n",
       "      <td>-0.000080</td>\n",
       "      <td>-0.001559</td>\n",
       "    </tr>\n",
       "    <tr>\n",
       "      <th>zwar</th>\n",
       "      <td>-0.000080</td>\n",
       "      <td>-0.000080</td>\n",
       "      <td>-0.001559</td>\n",
       "    </tr>\n",
       "    <tr>\n",
       "      <th>zwar billig</th>\n",
       "      <td>-0.000080</td>\n",
       "      <td>-0.000080</td>\n",
       "      <td>-0.001559</td>\n",
       "    </tr>\n",
       "    <tr>\n",
       "      <th>zwieback</th>\n",
       "      <td>0.000288</td>\n",
       "      <td>0.000288</td>\n",
       "      <td>-0.002321</td>\n",
       "    </tr>\n",
       "    <tr>\n",
       "      <th>zwieback toast</th>\n",
       "      <td>0.000288</td>\n",
       "      <td>0.000288</td>\n",
       "      <td>-0.002321</td>\n",
       "    </tr>\n",
       "    <tr>\n",
       "      <th>zwiebeck</th>\n",
       "      <td>-0.000161</td>\n",
       "      <td>-0.000161</td>\n",
       "      <td>-0.001559</td>\n",
       "    </tr>\n",
       "    <tr>\n",
       "      <th>zwiebeck toast</th>\n",
       "      <td>-0.000161</td>\n",
       "      <td>-0.000161</td>\n",
       "      <td>-0.001559</td>\n",
       "    </tr>\n",
       "    <tr>\n",
       "      <th>zydeco</th>\n",
       "      <td>-0.000161</td>\n",
       "      <td>-0.000161</td>\n",
       "      <td>-0.001559</td>\n",
       "    </tr>\n",
       "    <tr>\n",
       "      <th>zydeco saturday</th>\n",
       "      <td>-0.000161</td>\n",
       "      <td>-0.000161</td>\n",
       "      <td>-0.001559</td>\n",
       "    </tr>\n",
       "    <tr>\n",
       "      <th>zzzzzs</th>\n",
       "      <td>-0.000170</td>\n",
       "      <td>-0.000170</td>\n",
       "      <td>-0.002208</td>\n",
       "    </tr>\n",
       "    <tr>\n",
       "      <th>zzzzzs larg</th>\n",
       "      <td>-0.000161</td>\n",
       "      <td>-0.000161</td>\n",
       "      <td>-0.001559</td>\n",
       "    </tr>\n",
       "    <tr>\n",
       "      <th>zzzzzz</th>\n",
       "      <td>0.000000</td>\n",
       "      <td>0.000000</td>\n",
       "      <td>NaN</td>\n",
       "    </tr>\n",
       "    <tr>\n",
       "      <th>zzzzzz say</th>\n",
       "      <td>0.000000</td>\n",
       "      <td>0.000000</td>\n",
       "      <td>NaN</td>\n",
       "    </tr>\n",
       "    <tr>\n",
       "      <th>zzzzzzz</th>\n",
       "      <td>0.000590</td>\n",
       "      <td>0.000590</td>\n",
       "      <td>-0.001559</td>\n",
       "    </tr>\n",
       "    <tr>\n",
       "      <th>zzzzzzz high</th>\n",
       "      <td>0.000590</td>\n",
       "      <td>0.000590</td>\n",
       "      <td>-0.001559</td>\n",
       "    </tr>\n",
       "    <tr>\n",
       "      <th>zzzzzzzz</th>\n",
       "      <td>-0.000080</td>\n",
       "      <td>-0.000080</td>\n",
       "      <td>-0.001559</td>\n",
       "    </tr>\n",
       "    <tr>\n",
       "      <th>zzzzzzzzzz</th>\n",
       "      <td>-0.000080</td>\n",
       "      <td>-0.000080</td>\n",
       "      <td>-0.001559</td>\n",
       "    </tr>\n",
       "    <tr>\n",
       "      <th>zzzzzzzzzz final</th>\n",
       "      <td>-0.000080</td>\n",
       "      <td>-0.000080</td>\n",
       "      <td>-0.001559</td>\n",
       "    </tr>\n",
       "    <tr>\n",
       "      <th>zzzzzzzzzzz</th>\n",
       "      <td>-0.000080</td>\n",
       "      <td>-0.000080</td>\n",
       "      <td>-0.001559</td>\n",
       "    </tr>\n",
       "    <tr>\n",
       "      <th>çay</th>\n",
       "      <td>-0.000080</td>\n",
       "      <td>-0.000080</td>\n",
       "      <td>-0.001559</td>\n",
       "    </tr>\n",
       "  </tbody>\n",
       "</table>\n",
       "<p>1013943 rows × 3 columns</p>\n",
       "</div>"
      ],
      "text/plain": [
       "                                    0         1           2\n",
       "aaa                         -0.000105 -0.000179   71.285216\n",
       "aaa condit                  -0.000080 -0.000161   99.996881\n",
       "aaa perfect                 -0.000080 -0.000080   -0.001559\n",
       "aaaaaaaaagghh               -0.000161 -0.000161   -0.001559\n",
       "aaaaah                      -0.000113 -0.000113   -0.002219\n",
       "aaaaah awak                 -0.000080 -0.000080   -0.001559\n",
       "aaaaah satisfi              -0.000080 -0.000080   -0.001559\n",
       "aaaaahhhhhhhhhhhhhhhh       -0.000080 -0.000080   -0.001559\n",
       "aaaaahhhhhhhhhhhhhhhh angel -0.000080 -0.000080   -0.001559\n",
       "aaaah                       -0.000080 -0.000080   -0.001559\n",
       "aaaah snob                  -0.000080 -0.000080   -0.001559\n",
       "aaah                        -0.000134 -0.000134   -0.002801\n",
       "aaah inhal                  -0.000080 -0.000080   -0.001559\n",
       "aaah miss                   -0.000080 -0.000080   -0.001559\n",
       "aaah sip                    -0.000080 -0.000080   -0.001559\n",
       "aachen                       0.000590  0.000590   -0.001559\n",
       "aachen munich                0.000590  0.000590   -0.001559\n",
       "aad                          0.000000  0.000000         NaN\n",
       "aad sausag                   0.000000  0.000000         NaN\n",
       "aadp                        -0.000080 -0.000080   -0.001559\n",
       "aafco                        0.000142  0.000184   29.714666\n",
       "aafco also                  -0.000080 -0.000080   -0.001559\n",
       "aafco certifi                0.000590  0.000590   -0.001559\n",
       "aafco countri               -0.000080 -0.000080   -0.001559\n",
       "aafco definit                0.000590  0.000590   -0.001559\n",
       "aafco dog                   -0.000080  0.000000 -100.000000\n",
       "aafco guidelin               0.000000  0.000000         NaN\n",
       "aafco requir                -0.000080 -0.000080   -0.001559\n",
       "aagh                        -0.000080 -0.000080   -0.001559\n",
       "aagh yelp                   -0.000080 -0.000080   -0.001559\n",
       "...                               ...       ...         ...\n",
       "zum heal                    -0.000080 -0.000080   -0.001559\n",
       "zummi                       -0.000080 -0.000080   -0.001559\n",
       "zummi love                  -0.000080 -0.000080   -0.001559\n",
       "zummi tast                  -0.000080 -0.000080   -0.001559\n",
       "zummi tri                   -0.000080 -0.000080   -0.001559\n",
       "zune                        -0.000241 -0.000241   -0.001559\n",
       "zune video                  -0.000241 -0.000241   -0.001559\n",
       "zupreem                     -0.000080 -0.000080   -0.001559\n",
       "zupreem ferret              -0.000080 -0.000080   -0.001559\n",
       "zurich                      -0.000080 -0.000080   -0.001559\n",
       "zurich schnatzlet           -0.000080 -0.000080   -0.001559\n",
       "zwar                        -0.000080 -0.000080   -0.001559\n",
       "zwar billig                 -0.000080 -0.000080   -0.001559\n",
       "zwieback                     0.000288  0.000288   -0.002321\n",
       "zwieback toast               0.000288  0.000288   -0.002321\n",
       "zwiebeck                    -0.000161 -0.000161   -0.001559\n",
       "zwiebeck toast              -0.000161 -0.000161   -0.001559\n",
       "zydeco                      -0.000161 -0.000161   -0.001559\n",
       "zydeco saturday             -0.000161 -0.000161   -0.001559\n",
       "zzzzzs                      -0.000170 -0.000170   -0.002208\n",
       "zzzzzs larg                 -0.000161 -0.000161   -0.001559\n",
       "zzzzzz                       0.000000  0.000000         NaN\n",
       "zzzzzz say                   0.000000  0.000000         NaN\n",
       "zzzzzzz                      0.000590  0.000590   -0.001559\n",
       "zzzzzzz high                 0.000590  0.000590   -0.001559\n",
       "zzzzzzzz                    -0.000080 -0.000080   -0.001559\n",
       "zzzzzzzzzz                  -0.000080 -0.000080   -0.001559\n",
       "zzzzzzzzzz final            -0.000080 -0.000080   -0.001559\n",
       "zzzzzzzzzzz                 -0.000080 -0.000080   -0.001559\n",
       "çay                         -0.000080 -0.000080   -0.001559\n",
       "\n",
       "[1013943 rows x 3 columns]"
      ]
     },
     "execution_count": 28,
     "metadata": {},
     "output_type": "execute_result"
    }
   ],
   "source": [
    "merge_arr = np.concatenate([svm_optimal.coef_, svm_optimal_noise.coef_], axis=0)\n",
    "merge=pd.DataFrame(data=merge_arr,columns=feature_names).transpose()\n",
    "merge[2]=((merge[1]-merge[0])/merge[0])*100\n",
    "merge"
   ]
  },
  {
   "cell_type": "code",
   "execution_count": 29,
   "metadata": {},
   "outputs": [
    {
     "data": {
      "text/plain": [
       "(30883, 3)"
      ]
     },
     "execution_count": 29,
     "metadata": {},
     "output_type": "execute_result"
    }
   ],
   "source": [
    "merge[merge[2]>30].shape"
   ]
  },
  {
   "cell_type": "markdown",
   "metadata": {},
   "source": [
    "30883 features out of 1013943 shows percentage change > 30 post pertubation test i.e 3.04%\n",
    "\n",
    "We can say that our data isn't much affected by multicollinearity"
   ]
  },
  {
   "cell_type": "code",
   "execution_count": 182,
   "metadata": {},
   "outputs": [],
   "source": [
    "sorted_coef_index = svm_optimal.coef_[0].argsort()"
   ]
  },
  {
   "cell_type": "code",
   "execution_count": 184,
   "metadata": {},
   "outputs": [
    {
     "name": "stdout",
     "output_type": "stream",
     "text": [
      "great,love,good,best,delici,excel,favorit,find,use,make,perfect,wonder,tasti,nice,flavor,price,easi,enjoy,high recommend,thank,\n"
     ]
    }
   ],
   "source": [
    "#Top 20 positive features\n",
    "p=feature_names[sorted_coef_index[:20]]\n",
    "\n",
    "sp = \"\"\n",
    "for i in p:\n",
    "    sp += str(i)+\",\"\n",
    "print(sp)"
   ]
  },
  {
   "cell_type": "code",
   "execution_count": 185,
   "metadata": {},
   "outputs": [
    {
     "name": "stdout",
     "output_type": "stream",
     "text": [
      "disappoint,worst,wast money,horribl,terribl,aw,wont buy,wast,threw,return,stale,refund,bland,money,wors,two star,disappoint product,bad,never buy,disgust,\n"
     ]
    }
   ],
   "source": [
    "#Top 20 negative features\n",
    "n=feature_names[sorted_coef_index[:-21:-1]]\n",
    "\n",
    "sn = \"\"\n",
    "for i in n:\n",
    "    sn += str(i)+\",\"\n",
    "print(sn)"
   ]
  },
  {
   "cell_type": "code",
   "execution_count": 62,
   "metadata": {},
   "outputs": [
    {
     "name": "stdout",
     "output_type": "stream",
     "text": [
      "************ Top 20 Negative words *******************\n"
     ]
    },
    {
     "data": {
      "image/png": "[encoded data removed]",
      "text/plain": [
       "<Figure size 360x360 with 1 Axes>"
      ]
     },
     "metadata": {},
     "output_type": "display_data"
    },
    {
     "name": "stdout",
     "output_type": "stream",
     "text": [
      "************ Top 20 Positive words *******************\n"
     ]
    },
    {
     "data": {
      "image/png": "[encoded data removed]",
      "text/plain": [
       "<Figure size 360x360 with 1 Axes>"
      ]
     },
     "metadata": {},
     "output_type": "display_data"
    }
   ],
   "source": [
    "print(\"************ Top 20 Negative words *******************\")\n",
    "wordcloud = WordCloud(width = 800, height = 800, \n",
    "                background_color ='black', \n",
    "                min_font_size = 10).generate(sn) \n",
    "  \n",
    "# plot the WordCloud image                        \n",
    "plt.figure(figsize = (5,5), facecolor = None) \n",
    "plt.imshow(wordcloud) \n",
    "plt.axis(\"off\") \n",
    "plt.tight_layout(pad = 0) \n",
    "plt.show()\n",
    "\n",
    "\n",
    "print(\"************ Top 20 Positive words *******************\")\n",
    "wordcloud = WordCloud(width = 800, height = 800, \n",
    "                background_color ='black', \n",
    "                min_font_size = 10).generate(sp) \n",
    "  \n",
    "# plot the WordCloud image                        \n",
    "plt.figure(figsize = (5,5), facecolor = None) \n",
    "plt.imshow(wordcloud) \n",
    "plt.axis(\"off\") \n",
    "plt.tight_layout(pad = 0) \n",
    "plt.show()"
   ]
  },
  {
   "cell_type": "code",
   "execution_count": 186,
   "metadata": {},
   "outputs": [],
   "source": [
    "#Confusion matrix\n",
    "C = confusion_matrix(y_test, pred_tfidf)\n",
    "A =(((C.T)/(C.sum(axis=1))).T)\n",
    "B =(C/C.sum(axis=0))\n",
    "labels = [0,1]"
   ]
  },
  {
   "cell_type": "code",
   "execution_count": 187,
   "metadata": {},
   "outputs": [
    {
     "name": "stdout",
     "output_type": "stream",
     "text": [
      "-------------------- Confusion matrix --------------------\n"
     ]
    },
    {
     "data": {
      "image/png": "[encoded data removed]",
      "text/plain": [
       "<Figure size 864x504 with 2 Axes>"
      ]
     },
     "metadata": {},
     "output_type": "display_data"
    },
    {
     "name": "stdout",
     "output_type": "stream",
     "text": [
      "-------------------- Precision matrix (Columm Sum=1) --------------------\n"
     ]
    },
    {
     "data": {
      "image/png": "[encoded data removed]",
      "text/plain": [
       "<Figure size 864x504 with 2 Axes>"
      ]
     },
     "metadata": {},
     "output_type": "display_data"
    },
    {
     "name": "stdout",
     "output_type": "stream",
     "text": [
      "-------------------- Recall matrix (Row sum=1) --------------------\n"
     ]
    },
    {
     "data": {
      "image/png": "[encoded data removed]",
      "text/plain": [
       "<Figure size 864x504 with 2 Axes>"
      ]
     },
     "metadata": {},
     "output_type": "display_data"
    }
   ],
   "source": [
    " print(\"-\"*20, \"Confusion matrix\", \"-\"*20)\n",
    "plt.figure(figsize=(12,7))\n",
    "sns.heatmap(C, annot=True, cmap=\"YlGnBu\", fmt=\"g\", xticklabels=labels, yticklabels=labels)\n",
    "plt.xlabel('Predicted Class')\n",
    "plt.ylabel('Original Class')\n",
    "plt.show()\n",
    "\n",
    "print(\"-\"*20, \"Precision matrix (Columm Sum=1)\", \"-\"*20)\n",
    "plt.figure(figsize=(12,7))\n",
    "sns.heatmap(B, annot=True, cmap=\"YlGnBu\", fmt=\".3f\", xticklabels=labels, yticklabels=labels)\n",
    " plt.xlabel('Predicted Class')\n",
    "plt.ylabel('Original Class')\n",
    "plt.show()\n",
    "    \n",
    "    # representing B in heatmap format\n",
    "print(\"-\"*20, \"Recall matrix (Row sum=1)\", \"-\"*20)\n",
    "plt.figure(figsize=(12,7))\n",
    "sns.heatmap(A, annot=True, cmap=\"YlGnBu\", fmt=\".3f\", xticklabels=labels, yticklabels=labels)\n",
    "plt.xlabel('Predicted Class')\n",
    "plt.ylabel('Original Class')\n",
    "plt.show()"
   ]
  },
  {
   "cell_type": "markdown",
   "metadata": {},
   "source": [
    "#### Avg-W2Vec"
   ]
  },
  {
   "cell_type": "code",
   "execution_count": 188,
   "metadata": {},
   "outputs": [],
   "source": [
    "#W2V list of Training data\n",
    "i=0\n",
    "list_of_sent_train=[]\n",
    "for sent in train_data['CleanedText'].values:\n",
    "    list_of_sent_train.append(sent.split())"
   ]
  },
  {
   "cell_type": "code",
   "execution_count": 190,
   "metadata": {},
   "outputs": [],
   "source": [
    "#W2V List of Test data\n",
    "i=0\n",
    "list_of_sent_test=[]\n",
    "for sent in test_data['CleanedText'].values:\n",
    "    list_of_sent_test.append(sent.split())"
   ]
  },
  {
   "cell_type": "code",
   "execution_count": 191,
   "metadata": {},
   "outputs": [],
   "source": [
    "#Training W2V train model\n",
    "# min_count = 5 considers only words that occured atleast 5 times\n",
    "w2v_model_train=Word2Vec(list_of_sent_train,min_count=5,size=50, workers=6)"
   ]
  },
  {
   "cell_type": "code",
   "execution_count": 192,
   "metadata": {},
   "outputs": [
    {
     "name": "stdout",
     "output_type": "stream",
     "text": [
      "number of words that occured minimum 5 times  11361\n",
      "sample words  ['witti', 'littl', 'book', 'make', 'son', 'laugh', 'loud', 'car', 'drive', 'along', 'alway', 'sing', 'refrain', 'hes', 'learn', 'whale', 'india', 'droop', 'love', 'new', 'word', 'introduc', 'silli', 'classic', 'will', 'bet', 'still', 'abl', 'memori', 'colleg', 'rememb', 'see', 'show', 'air', 'televis', 'year', 'ago', 'child', 'sister', 'later', 'bought', 'day', 'thirti', 'someth', 'use', 'seri', 'song', 'student', 'teach', 'preschool']\n"
     ]
    }
   ],
   "source": [
    "w2v_words_train = list(w2v_model_train.wv.vocab)\n",
    "print(\"number of words that occured minimum 5 times \",len(w2v_words_train))\n",
    "print(\"sample words \", w2v_words_train[0:50])"
   ]
  },
  {
   "cell_type": "code",
   "execution_count": 195,
   "metadata": {},
   "outputs": [
    {
     "name": "stdout",
     "output_type": "stream",
     "text": [
      "80000\n",
      "50\n"
     ]
    }
   ],
   "source": [
    "#Train data\n",
    "# average Word2Vec\n",
    "# compute average word2vec for each review.\n",
    "sent_vectors_train_avgw2v = []; # the avg-w2v for each sentence/review is stored in this list\n",
    "for sent in list_of_sent_train: # for each review/sentence\n",
    "    sent_vec = np.zeros(50) # as word vectors are of zero length\n",
    "    cnt_words =0; # num of words with a valid vector in the sentence/review\n",
    "    for word in sent: # for each word in a review/sentence\n",
    "        if word in w2v_words_train:\n",
    "            vec = w2v_model_train.wv[word]\n",
    "            sent_vec += vec\n",
    "            cnt_words += 1\n",
    "    if cnt_words != 0:\n",
    "        sent_vec /= cnt_words\n",
    "    sent_vectors_train_avgw2v.append(sent_vec)\n",
    "print(len(sent_vectors_train_avgw2v))\n",
    "print(len(sent_vectors_train_avgw2v[0]))"
   ]
  },
  {
   "cell_type": "code",
   "execution_count": 196,
   "metadata": {},
   "outputs": [
    {
     "name": "stdout",
     "output_type": "stream",
     "text": [
      "20000\n",
      "50\n"
     ]
    }
   ],
   "source": [
    "#Test data\n",
    "# average Word2Vec\n",
    "# compute average word2vec for each review.\n",
    "sent_vectors_test_avgw2v = []; # the avg-w2v for each sentence/review is stored in this list\n",
    "for sent in list_of_sent_test: # for each review/sentence\n",
    "    sent_vec = np.zeros(50) # as word vectors are of zero length\n",
    "    cnt_words =0; # num of words with a valid vector in the sentence/review\n",
    "    for word in sent: # for each word in a review/sentence\n",
    "        if word in w2v_words_train:\n",
    "            vec = w2v_model_train.wv[word]\n",
    "            sent_vec += vec\n",
    "            cnt_words += 1\n",
    "    if cnt_words != 0:\n",
    "        sent_vec /= cnt_words\n",
    "    sent_vectors_test_avgw2v.append(sent_vec)\n",
    "print(len(sent_vectors_test_avgw2v))\n",
    "print(len(sent_vectors_test_avgw2v[0]))"
   ]
  },
  {
   "cell_type": "code",
   "execution_count": 197,
   "metadata": {},
   "outputs": [
    {
     "name": "stdout",
     "output_type": "stream",
     "text": [
      "(80000, 50)\n",
      "(20000, 50)\n"
     ]
    }
   ],
   "source": [
    "#Standardizing Avg-W2v\n",
    "from sklearn.preprocessing import StandardScaler\n",
    "Standard=StandardScaler()\n",
    "sent_vectors_train_avgw2v = Standard.fit_transform(sent_vectors_train_avgw2v)\n",
    "sent_vectors_test_avgw2v = Standard.transform(sent_vectors_test_avgw2v)\n",
    "\n",
    "print(sent_vectors_train_avgw2v.shape)\n",
    "print(sent_vectors_test_avgw2v.shape)"
   ]
  },
  {
   "cell_type": "markdown",
   "metadata": {},
   "source": [
    "#### Fitting grid search on Avg-W2V"
   ]
  },
  {
   "cell_type": "code",
   "execution_count": 198,
   "metadata": {},
   "outputs": [
    {
     "name": "stdout",
     "output_type": "stream",
     "text": [
      "0.48896063270159695\n",
      "{'epsilon': 0.7, 'class_weight': 'balanced', 'alpha': 0.01}\n"
     ]
    }
   ],
   "source": [
    "grid.fit(sent_vectors_train_avgw2v, y_train)\n",
    "\n",
    "# examine the best model\n",
    "print(grid.best_score_)\n",
    "print(grid.best_params_)"
   ]
  },
  {
   "cell_type": "code",
   "execution_count": 199,
   "metadata": {},
   "outputs": [
    {
     "data": {
      "text/plain": [
       "Text(0,0.5,'Cross-Validated Error')"
      ]
     },
     "execution_count": 199,
     "metadata": {},
     "output_type": "execute_result"
    },
    {
     "data": {
      "image/png": "[encoded data removed]",
      "text/plain": [
       "<Figure size 432x288 with 1 Axes>"
      ]
     },
     "metadata": {},
     "output_type": "display_data"
    }
   ],
   "source": [
    "#Plotting alpha v/s CV_error\n",
    "a=pd.DataFrame(grid.cv_results_)[['mean_test_score', 'std_test_score', 'params']]\n",
    "a['alpha'] = [d.get('alpha') for d in a['params']]\n",
    "b=a.sort_values(['alpha'])\n",
    "CV_Error=1-b['mean_test_score']\n",
    "alpha =b['alpha']\n",
    "\n",
    "\n",
    "plt.plot(alpha,CV_Error)\n",
    "plt.xlabel('alpha')\n",
    "plt.ylabel('Cross-Validated Error')"
   ]
  },
  {
   "cell_type": "code",
   "execution_count": 200,
   "metadata": {},
   "outputs": [
    {
     "name": "stdout",
     "output_type": "stream",
     "text": [
      "The overall f1_score for the Train Data is :  0.4781548524054046\n",
      "The overall f1_score for the Test Data is :  0.5021829411138323\n"
     ]
    }
   ],
   "source": [
    "#{'epsilon': 0.7, 'class_weight': 'balanced', 'alpha': 0.01}\n",
    "svm_optimal=SGDClassifier(alpha=0.01,epsilon=0.7,class_weight='balanced')\n",
    "\n",
    "# fitting the model\n",
    "svm_optimal.fit(sent_vectors_train_avgw2v, y_train)\n",
    "\n",
    "# predict the response\n",
    "pred_avg_w2v = svm_optimal.predict(sent_vectors_test_avgw2v)\n",
    "\n",
    "# evaluate f1_score\n",
    "f1_score = f1_score(y_test, pred_avg_w2v)\n",
    "\n",
    "# Train & Test Error\n",
    "print(\"The overall f1_score for the Train Data is : \", metrics.f1_score(y_train,svm_optimal.predict(sent_vectors_train_avgw2v)))\n",
    "print(\"The overall f1_score for the Test Data is : \", metrics.f1_score(y_test,pred_avg_w2v))"
   ]
  },
  {
   "cell_type": "code",
   "execution_count": 207,
   "metadata": {},
   "outputs": [],
   "source": [
    "#Confusion matrix\n",
    "C = confusion_matrix(y_test, pred_avg_w2v)\n",
    "A =(((C.T)/(C.sum(axis=1))).T)\n",
    "B =(C/C.sum(axis=0))\n",
    "labels = [0,1]"
   ]
  },
  {
   "cell_type": "code",
   "execution_count": 208,
   "metadata": {},
   "outputs": [
    {
     "name": "stdout",
     "output_type": "stream",
     "text": [
      "-------------------- Confusion matrix --------------------\n"
     ]
    },
    {
     "data": {
      "image/png": "[encoded data removed]",
      "text/plain": [
       "<Figure size 864x504 with 2 Axes>"
      ]
     },
     "metadata": {},
     "output_type": "display_data"
    },
    {
     "name": "stdout",
     "output_type": "stream",
     "text": [
      "-------------------- Precision matrix (Columm Sum=1) --------------------\n"
     ]
    },
    {
     "data": {
      "image/png": "[encoded data removed]",
      "text/plain": [
       "<Figure size 864x504 with 2 Axes>"
      ]
     },
     "metadata": {},
     "output_type": "display_data"
    },
    {
     "name": "stdout",
     "output_type": "stream",
     "text": [
      "-------------------- Recall matrix (Row sum=1) --------------------\n"
     ]
    },
    {
     "data": {
      "image/png": "[encoded data removed]",
      "text/plain": [
       "<Figure size 864x504 with 2 Axes>"
      ]
     },
     "metadata": {},
     "output_type": "display_data"
    }
   ],
   "source": [
    " print(\"-\"*20, \"Confusion matrix\", \"-\"*20)\n",
    "plt.figure(figsize=(12,7))\n",
    "sns.heatmap(C, annot=True, cmap=\"YlGnBu\", fmt=\"g\", xticklabels=labels, yticklabels=labels)\n",
    "plt.xlabel('Predicted Class')\n",
    "plt.ylabel('Original Class')\n",
    "plt.show()\n",
    "\n",
    "print(\"-\"*20, \"Precision matrix (Columm Sum=1)\", \"-\"*20)\n",
    "plt.figure(figsize=(12,7))\n",
    "sns.heatmap(B, annot=True, cmap=\"YlGnBu\", fmt=\".3f\", xticklabels=labels, yticklabels=labels)\n",
    " plt.xlabel('Predicted Class')\n",
    "plt.ylabel('Original Class')\n",
    "plt.show()\n",
    "    \n",
    "    # representing B in heatmap format\n",
    "print(\"-\"*20, \"Recall matrix (Row sum=1)\", \"-\"*20)\n",
    "plt.figure(figsize=(12,7))\n",
    "sns.heatmap(A, annot=True, cmap=\"YlGnBu\", fmt=\".3f\", xticklabels=labels, yticklabels=labels)\n",
    "plt.xlabel('Predicted Class')\n",
    "plt.ylabel('Original Class')\n",
    "plt.show()"
   ]
  },
  {
   "cell_type": "markdown",
   "metadata": {},
   "source": [
    "#### TF-Idf W2Vec"
   ]
  },
  {
   "cell_type": "code",
   "execution_count": 209,
   "metadata": {},
   "outputs": [],
   "source": [
    "tf_idf_vect = TfidfVectorizer()\n",
    "vocabulary = tf_idf_vect.fit(train_data['CleanedText'])\n",
    "final_tf_idf= tf_idf_vect.transform(train_data['CleanedText'])\n",
    "\n",
    "# we are converting a dictionary with word as a key, and the idf as a value\n",
    "dictionary = dict(zip(vocabulary.get_feature_names(), list(tf_idf_vect.idf_)))"
   ]
  },
  {
   "cell_type": "code",
   "execution_count": 212,
   "metadata": {},
   "outputs": [
    {
     "name": "stderr",
     "output_type": "stream",
     "text": [
      "100%|██████████████████████████████████████████████████████████████████████████| 80000/80000 [01:10<00:00, 1138.03it/s]\n"
     ]
    }
   ],
   "source": [
    "# TF-IDF weighted Word2Vec\n",
    "tfidf_feat = tf_idf_vect.get_feature_names() # tfidf words/col-names\n",
    "# final_tf_idf is the sparse matrix with row= sentence, col=word and cell_val = tfidf\n",
    "\n",
    "tfidf_w2v_sent_vectors_train = []; # the tfidf-w2v for each sentence/review is stored in this list\n",
    "row=0;\n",
    "for sent in tqdm(list_of_sent_train): # for each review/sentence \n",
    "    sent_vec = np.zeros(50) # as word vectors are of zero length\n",
    "    weight_sum =0; # num of words with a valid vector in the sentence/review\n",
    "    for word in sent: # for each word in a review/sentence\n",
    "        if word in w2v_words_train:\n",
    "            vec = w2v_model_train.wv[word]\n",
    "#             tf_idf = tf_idf_matrix[row, tfidf_feat.index(word)]\n",
    "            # to reduce the computation we are \n",
    "            # dictionary[word] = idf value of word in whole courpus\n",
    "            # sent.count(word) = tf valeus of word in this review\n",
    "            tf_idf = dictionary[word]*(sent.count(word)/len(sent))\n",
    "            sent_vec += (vec * tf_idf)\n",
    "            weight_sum += tf_idf\n",
    "    if weight_sum != 0:\n",
    "        sent_vec /= weight_sum\n",
    "    tfidf_w2v_sent_vectors_train.append(sent_vec)\n",
    "    row += 1"
   ]
  },
  {
   "cell_type": "code",
   "execution_count": 213,
   "metadata": {},
   "outputs": [
    {
     "name": "stderr",
     "output_type": "stream",
     "text": [
      "100%|██████████████████████████████████████████████████████████████████████████| 20000/20000 [00:17<00:00, 1123.51it/s]\n"
     ]
    }
   ],
   "source": [
    "final_tf_idf= tf_idf_vect.transform(test_data['CleanedText'])\n",
    "\n",
    "tfidf_w2v_sent_vectors_test = []; # the tfidf-w2v for each sentence/review is stored in this list\n",
    "row=0;\n",
    "for sent in tqdm(list_of_sent_test): # for each review/sentence \n",
    "    sent_vec = np.zeros(50) # as word vectors are of zero length\n",
    "    weight_sum =0; # num of words with a valid vector in the sentence/review\n",
    "    for word in sent: # for each word in a review/sentence\n",
    "        if word in w2v_words_train:\n",
    "            vec = w2v_model_train.wv[word]\n",
    "            # obtain the tf_idfidf of a word in a sentence/review\n",
    "            tf_idf = dictionary[word]*(sent.count(word)/len(sent))\n",
    "            sent_vec += (vec * tf_idf)\n",
    "            weight_sum += tf_idf\n",
    "    if weight_sum != 0:\n",
    "        sent_vec /= weight_sum\n",
    "    tfidf_w2v_sent_vectors_test.append(sent_vec)\n",
    "    row += 1"
   ]
  },
  {
   "cell_type": "code",
   "execution_count": 214,
   "metadata": {},
   "outputs": [
    {
     "name": "stdout",
     "output_type": "stream",
     "text": [
      "(80000, 50)\n",
      "(20000, 50)\n"
     ]
    }
   ],
   "source": [
    "#Standardizing \n",
    "from sklearn.preprocessing import StandardScaler\n",
    "Standard=StandardScaler()\n",
    "tfidf_w2v_sent_vectors_train = Standard.fit_transform(tfidf_w2v_sent_vectors_train)\n",
    "tfidf_w2v_sent_vectors_test = Standard.transform(tfidf_w2v_sent_vectors_test)\n",
    "\n",
    "print(tfidf_w2v_sent_vectors_train.shape)\n",
    "print(tfidf_w2v_sent_vectors_test.shape)"
   ]
  },
  {
   "cell_type": "markdown",
   "metadata": {},
   "source": [
    "#### Fitting grid search cv on tfidf-w2vec"
   ]
  },
  {
   "cell_type": "code",
   "execution_count": 215,
   "metadata": {},
   "outputs": [
    {
     "name": "stdout",
     "output_type": "stream",
     "text": [
      "0.46358605223865923\n",
      "{'epsilon': 0.1, 'class_weight': 'balanced', 'alpha': 0.01}\n"
     ]
    }
   ],
   "source": [
    "grid.fit(tfidf_w2v_sent_vectors_train, y_train)\n",
    "\n",
    "# examine the best model\n",
    "print(grid.best_score_)\n",
    "print(grid.best_params_)"
   ]
  },
  {
   "cell_type": "code",
   "execution_count": 218,
   "metadata": {},
   "outputs": [
    {
     "name": "stdout",
     "output_type": "stream",
     "text": [
      "The overall f1_score for the Train Data is :  0.458559030811346\n",
      "The overall f1_score for the Test Data is :  0.4863340563991323\n"
     ]
    }
   ],
   "source": [
    "from sklearn.metrics import f1_score\n",
    "#{'epsilon': 0.1, 'class_weight': 'balanced', 'alpha': 0.01}\n",
    "svm_optimal=SGDClassifier(alpha=0.01,epsilon=0.1,class_weight='balanced')\n",
    "\n",
    "# fitting the model\n",
    "svm_optimal.fit(tfidf_w2v_sent_vectors_train, y_train)\n",
    "\n",
    "# predict the response\n",
    "pred_tfidf_w2v_sent_vectors_test = svm_optimal.predict(tfidf_w2v_sent_vectors_test)\n",
    "\n",
    "# evaluate f1_score\n",
    "f1_score = f1_score(y_test, pred_tfidf_w2v_sent_vectors_test)\n",
    "\n",
    "# Train & Test Error\n",
    "print(\"The overall f1_score for the Train Data is : \", metrics.f1_score(y_train,svm_optimal.predict(tfidf_w2v_sent_vectors_train)))\n",
    "print(\"The overall f1_score for the Test Data is : \", metrics.f1_score(y_test,pred_tfidf_w2v_sent_vectors_test))"
   ]
  },
  {
   "cell_type": "code",
   "execution_count": 219,
   "metadata": {},
   "outputs": [],
   "source": [
    "#Confusion matrix\n",
    "C = confusion_matrix(y_test, pred_tfidf_w2v_sent_vectors_test)\n",
    "A =(((C.T)/(C.sum(axis=1))).T)\n",
    "B =(C/C.sum(axis=0))\n",
    "labels = [0,1]"
   ]
  },
  {
   "cell_type": "code",
   "execution_count": 220,
   "metadata": {},
   "outputs": [
    {
     "name": "stdout",
     "output_type": "stream",
     "text": [
      "-------------------- Confusion matrix --------------------\n"
     ]
    },
    {
     "data": {
      "image/png": "[encoded data removed]",
      "text/plain": [
       "<Figure size 864x504 with 2 Axes>"
      ]
     },
     "metadata": {},
     "output_type": "display_data"
    },
    {
     "name": "stdout",
     "output_type": "stream",
     "text": [
      "-------------------- Precision matrix (Columm Sum=1) --------------------\n"
     ]
    },
    {
     "data": {
      "image/png": "[encoded data removed]",
      "text/plain": [
       "<Figure size 864x504 with 2 Axes>"
      ]
     },
     "metadata": {},
     "output_type": "display_data"
    },
    {
     "name": "stdout",
     "output_type": "stream",
     "text": [
      "-------------------- Recall matrix (Row sum=1) --------------------\n"
     ]
    },
    {
     "data": {
      "image/png": "[encoded data removed]",
      "text/plain": [
       "<Figure size 864x504 with 2 Axes>"
      ]
     },
     "metadata": {},
     "output_type": "display_data"
    }
   ],
   "source": [
    " print(\"-\"*20, \"Confusion matrix\", \"-\"*20)\n",
    "plt.figure(figsize=(12,7))\n",
    "sns.heatmap(C, annot=True, cmap=\"YlGnBu\", fmt=\"g\", xticklabels=labels, yticklabels=labels)\n",
    "plt.xlabel('Predicted Class')\n",
    "plt.ylabel('Original Class')\n",
    "plt.show()\n",
    "\n",
    "print(\"-\"*20, \"Precision matrix (Columm Sum=1)\", \"-\"*20)\n",
    "plt.figure(figsize=(12,7))\n",
    "sns.heatmap(B, annot=True, cmap=\"YlGnBu\", fmt=\".3f\", xticklabels=labels, yticklabels=labels)\n",
    " plt.xlabel('Predicted Class')\n",
    "plt.ylabel('Original Class')\n",
    "plt.show()\n",
    "    \n",
    "    # representing B in heatmap format\n",
    "print(\"-\"*20, \"Recall matrix (Row sum=1)\", \"-\"*20)\n",
    "plt.figure(figsize=(12,7))\n",
    "sns.heatmap(A, annot=True, cmap=\"YlGnBu\", fmt=\".3f\", xticklabels=labels, yticklabels=labels)\n",
    "plt.xlabel('Predicted Class')\n",
    "plt.ylabel('Original Class')\n",
    "plt.show()"
   ]
  },
  {
   "cell_type": "markdown",
   "metadata": {},
   "source": [
    "Reporting f1_score after running SGD classifier on above featurization"
   ]
  },
  {
   "cell_type": "code",
   "execution_count": 221,
   "metadata": {},
   "outputs": [],
   "source": [
    "from prettytable import PrettyTable"
   ]
  },
  {
   "cell_type": "code",
   "execution_count": 222,
   "metadata": {},
   "outputs": [
    {
     "name": "stdout",
     "output_type": "stream",
     "text": [
      "+----------------+-------+-------+---------+-----------+\n",
      "|     Model      |  Bow  | Tfidf | Avg-W2V | Tfidf-W2V |\n",
      "+----------------+-------+-------+---------+-----------+\n",
      "|     Alpha      |   3   |   5   |   0.01  |    0.01   |\n",
      "| Train f1_score | 0.748 | 0.998 |  0.478  |   0.458   |\n",
      "| Test f1_score  | 0.693 | 0.582 |  0.502  |   0.486   |\n",
      "+----------------+-------+-------+---------+-----------+\n"
     ]
    }
   ],
   "source": [
    "x=PrettyTable()\n",
    "x.field_names = [\"Model\",\"Bow\", \"Tfidf\", \"Avg-W2V\", \"Tfidf-W2V\"]\n",
    "x.add_row([\"Alpha\",3,5,0.01,0.01])\n",
    "x.add_row([\"Train f1_score\",0.748,0.998,0.478,0.458])\n",
    "x.add_row([\"Test f1_score\",0.693,0.582,0.502,0.486])\n",
    "\n",
    "print(x)"
   ]
  },
  {
   "cell_type": "markdown",
   "metadata": {},
   "source": [
    "We can see that BOW has the best f1_score therefore we will run SVC classifier on it."
   ]
  },
  {
   "cell_type": "markdown",
   "metadata": {},
   "source": [
    "#### Randomised search cv"
   ]
  },
  {
   "cell_type": "code",
   "execution_count": 224,
   "metadata": {},
   "outputs": [
    {
     "name": "stdout",
     "output_type": "stream",
     "text": [
      "{'C': [1e-06, 1e-05, 0.0001, 0.001, 0.01, 0.1, 0.2, 0.3, 0.4, 0.5, 0.6, 0.7, 0.8, 0.9, 1.0, 1, 2, 3, 4, 5, 6, 7, 8, 9, 10, 15, 20, 30, 40, 50], 'class_weight': [None, 'balanced']}\n"
     ]
    }
   ],
   "source": [
    "C = [0.000001,0.00001,0.0001,0.001,0.01,0.1,0.2,0.3,0.4,0.5,0.6,0.7,0.8,0.9,1.0,1,2,3,4,5,6,7,8,9,10,15,20,30,40,50]\n",
    "T= TimeSeriesSplit(n_splits=3)\n",
    "weight=[None,'balanced']\n",
    "\n",
    "param_distributions = dict(C=C,class_weight=weight)\n",
    "print(param_distributions)\n",
    "\n",
    "# instantiate and fit the grid\n",
    "grid = RandomizedSearchCV(SVC(), param_distributions, cv=T, scoring='f1', return_train_score=False,n_jobs=-1)"
   ]
  },
  {
   "cell_type": "code",
   "execution_count": 228,
   "metadata": {},
   "outputs": [
    {
     "name": "stdout",
     "output_type": "stream",
     "text": [
      "0.5289631785421901\n",
      "{'class_weight': 'balanced', 'C': 3}\n"
     ]
    }
   ],
   "source": [
    "grid.fit(Bow_x_train, y_train)\n",
    "\n",
    "# examine the best model\n",
    "print(grid.best_score_)\n",
    "print(grid.best_params_)"
   ]
  },
  {
   "cell_type": "code",
   "execution_count": 229,
   "metadata": {},
   "outputs": [
    {
     "data": {
      "text/plain": [
       "Text(0,0.5,'Cross-Validated Error')"
      ]
     },
     "execution_count": 229,
     "metadata": {},
     "output_type": "execute_result"
    },
    {
     "data": {
      "image/png": "[encoded data removed]",
      "text/plain": [
       "<Figure size 432x288 with 1 Axes>"
      ]
     },
     "metadata": {},
     "output_type": "display_data"
    }
   ],
   "source": [
    "#Plotting alpha v/s CV_error\n",
    "a=pd.DataFrame(grid.cv_results_)[['mean_test_score', 'std_test_score', 'params']]\n",
    "a['C'] = [d.get('C') for d in a['params']]\n",
    "b=a.sort_values(['C'])\n",
    "CV_Error=1-b['mean_test_score']\n",
    "C =b['C']\n",
    "\n",
    "\n",
    "plt.plot(C,CV_Error)\n",
    "plt.xlabel('C')\n",
    "plt.ylabel('Cross-Validated Error')"
   ]
  },
  {
   "cell_type": "code",
   "execution_count": 230,
   "metadata": {},
   "outputs": [
    {
     "name": "stdout",
     "output_type": "stream",
     "text": [
      "The overall f1_score for the Train Data is :  0.8612301957129542\n",
      "The overall f1_score for the Test Data is :  0.5964976286026997\n"
     ]
    }
   ],
   "source": [
    "#{'class_weight': 'balanced', 'C': 3}\n",
    "svm_optimal=SVC(C=3,class_weight='balanced')\n",
    "\n",
    "# fitting the model\n",
    "svm_optimal.fit(Bow_x_train, y_train)\n",
    "\n",
    "# predict the response\n",
    "pred_bow = svm_optimal.predict(Bow_x_test)\n",
    "\n",
    "# evaluate f1_score\n",
    "f1_score = f1_score(y_test, pred_bow)\n",
    "\n",
    "# Train & Test Error\n",
    "print(\"The overall f1_score for the Train Data is : \", metrics.f1_score(y_train,svm_optimal.predict(Bow_x_train)))\n",
    "print(\"The overall f1_score for the Test Data is : \", metrics.f1_score(y_test,pred_bow))"
   ]
  },
  {
   "cell_type": "code",
   "execution_count": 232,
   "metadata": {},
   "outputs": [],
   "source": [
    "#Confusion matrix\n",
    "C = confusion_matrix(y_test, pred_bow)\n",
    "A =(((C.T)/(C.sum(axis=1))).T)\n",
    "B =(C/C.sum(axis=0))\n",
    "labels = [0,1]"
   ]
  },
  {
   "cell_type": "code",
   "execution_count": 233,
   "metadata": {},
   "outputs": [
    {
     "name": "stdout",
     "output_type": "stream",
     "text": [
      "-------------------- Confusion matrix --------------------\n"
     ]
    },
    {
     "data": {
      "image/png": "[encoded data removed]",
      "text/plain": [
       "<Figure size 864x504 with 2 Axes>"
      ]
     },
     "metadata": {},
     "output_type": "display_data"
    },
    {
     "name": "stdout",
     "output_type": "stream",
     "text": [
      "-------------------- Precision matrix (Columm Sum=1) --------------------\n"
     ]
    },
    {
     "data": {
      "image/png": "[encoded data removed]",
      "text/plain": [
       "<Figure size 864x504 with 2 Axes>"
      ]
     },
     "metadata": {},
     "output_type": "display_data"
    },
    {
     "name": "stdout",
     "output_type": "stream",
     "text": [
      "-------------------- Recall matrix (Row sum=1) --------------------\n"
     ]
    },
    {
     "data": {
      "image/png": "[encoded data removed]",
      "text/plain": [
       "<Figure size 864x504 with 2 Axes>"
      ]
     },
     "metadata": {},
     "output_type": "display_data"
    }
   ],
   "source": [
    " print(\"-\"*20, \"Confusion matrix\", \"-\"*20)\n",
    "plt.figure(figsize=(12,7))\n",
    "sns.heatmap(C, annot=True, cmap=\"YlGnBu\", fmt=\"g\", xticklabels=labels, yticklabels=labels)\n",
    "plt.xlabel('Predicted Class')\n",
    "plt.ylabel('Original Class')\n",
    "plt.show()\n",
    "\n",
    "print(\"-\"*20, \"Precision matrix (Columm Sum=1)\", \"-\"*20)\n",
    "plt.figure(figsize=(12,7))\n",
    "sns.heatmap(B, annot=True, cmap=\"YlGnBu\", fmt=\".3f\", xticklabels=labels, yticklabels=labels)\n",
    " plt.xlabel('Predicted Class')\n",
    "plt.ylabel('Original Class')\n",
    "plt.show()\n",
    "    \n",
    "    # representing B in heatmap format\n",
    "print(\"-\"*20, \"Recall matrix (Row sum=1)\", \"-\"*20)\n",
    "plt.figure(figsize=(12,7))\n",
    "sns.heatmap(A, annot=True, cmap=\"YlGnBu\", fmt=\".3f\", xticklabels=labels, yticklabels=labels)\n",
    "plt.xlabel('Predicted Class')\n",
    "plt.ylabel('Original Class')\n",
    "plt.show()"
   ]
  },
  {
   "cell_type": "markdown",
   "metadata": {},
   "source": [
    "*********************************************************************************************************************************"
   ]
  }
 ],
 "metadata": {
  "kernelspec": {
   "display_name": "Python 3",
   "language": "python",
   "name": "python3"
  },
  "language_info": {
   "codemirror_mode": {
    "name": "ipython",
    "version": 3
   },
   "file_extension": ".py",
   "mimetype": "text/x-python",
   "name": "python",
   "nbconvert_exporter": "python",
   "pygments_lexer": "ipython3",
   "version": "3.6.5"
  }
 },
 "nbformat": 4,
 "nbformat_minor": 2
}
